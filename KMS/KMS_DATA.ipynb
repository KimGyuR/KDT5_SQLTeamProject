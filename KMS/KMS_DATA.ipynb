{
 "cells": [
  {
   "cell_type": "code",
   "execution_count": 1,
   "id": "initial_id",
   "metadata": {
    "collapsed": true,
    "ExecuteTime": {
     "end_time": "2024-02-06T00:22:26.223482500Z",
     "start_time": "2024-02-06T00:22:25.829146300Z"
    }
   },
   "outputs": [],
   "source": [
    "import pandas as pd\n",
    "import pymysql\n",
    "import numpy as np\n",
    "import sqlalchemy\n",
    "from sqlalchemy.sql import text as querytoText\n",
    "import os"
   ]
  },
  {
   "cell_type": "code",
   "outputs": [],
   "source": [
    "passwd = '1234Q1@'\n",
    "\n",
    "url = sqlalchemy.engine.URL.create(\n",
    "\tdrivername=\"mysql+pymysql\",\n",
    "    username='KMS',\n",
    "    password=passwd,\n",
    "    host='175.122.58.102',\n",
    "    port=33063,\n",
    "    database='ProjectDB',\n",
    ")\n",
    "\n",
    "engine = sqlalchemy.create_engine(url)\n",
    "conn = engine.connect()"
   ],
   "metadata": {
    "collapsed": false,
    "ExecuteTime": {
     "end_time": "2024-02-06T00:22:26.390012900Z",
     "start_time": "2024-02-06T00:22:26.225481700Z"
    }
   },
   "id": "d4315bc2134fb628",
   "execution_count": 2
  },
  {
   "cell_type": "code",
   "outputs": [],
   "source": [
    "dfDict = {}\n",
    "for file in os.listdir('DATA'):\n",
    "    df_tmp =  pd.read_csv(f'DATA/{file}', encoding='euc-kr', dtype='object')\n",
    "    dfDict[file.split('.')[0]] = df_tmp"
   ],
   "metadata": {
    "collapsed": false,
    "ExecuteTime": {
     "end_time": "2024-02-06T00:22:26.509313600Z",
     "start_time": "2024-02-06T00:22:26.392012Z"
    }
   },
   "id": "2dceec94bc347c56",
   "execution_count": 3
  },
  {
   "cell_type": "code",
   "outputs": [],
   "source": [
    "\n",
    "for name, dfin in dfDict.items():\n",
    "    dfin.dropna(axis=1, how='all', inplace=True)\n",
    "    dfDict[name] = dfDict[name].apply(lambda x : x.str.replace(\" 년\", \"\"))\n",
    "    if name != '개수면적':\n",
    "        dfDict[name][dfDict[name].columns[-2:]] = dfDict[name][dfDict[name].columns[-2:]].apply(lambda x : pd.to_numeric(x, errors='coerce', downcast='integer'))\n",
    "        dfDict[name].fillna(0, inplace=True)\n",
    "        # change dtype to np.uint32\n",
    "        dfDict[name][dfDict[name].columns[-2:]] = dfDict[name][dfDict[name].columns[-2:]].astype('uint32')\n",
    "\n",
    "    else:\n",
    "        dfDict[name][dfDict[name].columns[-3:]] = dfDict[name][dfDict[name].columns[-3:]].apply(lambda x : pd.to_numeric(x, errors='coerce', downcast='integer'))\n",
    "        dfDict[name].fillna(0, inplace=True)\n",
    "        # change dtype to np.uint32\n",
    "        dfDict[name][dfDict[name].columns[-3:]] = dfDict[name][dfDict[name].columns[-3:]].astype('uint32')"
   ],
   "metadata": {
    "collapsed": false,
    "ExecuteTime": {
     "end_time": "2024-02-06T00:22:26.799526100Z",
     "start_time": "2024-02-06T00:22:26.516325200Z"
    }
   },
   "id": "ee7ab7b0ea377dde",
   "execution_count": 4
  },
  {
   "cell_type": "code",
   "outputs": [
    {
     "name": "stdout",
     "output_type": "stream",
     "text": [
      "소재지(시군구)별    object\n",
      "교육과정별        object\n",
      "시점           uint32\n",
      "시설수[개]       uint32\n",
      "면적[㎡]        uint32\n",
      "dtype: object\n",
      "[STCODE_11]시도별      object\n",
      "시도별                 object\n",
      "[STCODE_12]설립주체별    object\n",
      "설립주체별               object\n",
      "[STCODE_13]학교현황별    object\n",
      "학교현황별               object\n",
      "시점                  uint32\n",
      "고등학교 개황             uint32\n",
      "dtype: object\n",
      "소재지(시군구)별(1)    object\n",
      "소재지(시군구)별(2)    object\n",
      "항목              object\n",
      "시점              uint32\n",
      "데이터             uint32\n",
      "dtype: object\n",
      "시도별(1)       object\n",
      "설립주체별(1)     object\n",
      "유치원현황별(1)    object\n",
      "유치원현황별(2)    object\n",
      "시점           uint32\n",
      "데이터          uint32\n",
      "dtype: object\n",
      "[STCODE_11]시도별      object\n",
      "시도별                 object\n",
      "[STCODE_12]설립주체별    object\n",
      "설립주체별               object\n",
      "[STCODE_13]학교현황별    object\n",
      "학교현황별               object\n",
      "시점                  uint32\n",
      "중학교 개황              uint32\n",
      "dtype: object\n",
      "시도별(1)      object\n",
      "설립주체별(1)    object\n",
      "학교현황별(1)    object\n",
      "학교현황별(2)    object\n",
      "시점          uint32\n",
      "데이터         uint32\n",
      "dtype: object\n"
     ]
    }
   ],
   "source": [
    "for name, dfin in dfDict.items():\n",
    "    print(dfin.dtypes)"
   ],
   "metadata": {
    "collapsed": false,
    "ExecuteTime": {
     "end_time": "2024-02-06T00:22:26.815532700Z",
     "start_time": "2024-02-06T00:22:26.801581400Z"
    }
   },
   "id": "97a51338d34593e4",
   "execution_count": 5
  },
  {
   "cell_type": "code",
   "outputs": [],
   "source": [
    "for name, dfin in dfDict.items():\n",
    "    header = list(dfDict[name].columns)\n",
    "    for idx, data in enumerate(header):\n",
    "        if data == '시점':\n",
    "            header[idx] = 'year'\n",
    "        if (data.find(\"시도\") >= 0 or data.find(\"시군구\") >= 0) and data.find(\"STCODE\") < 0:\n",
    "            header[idx] = '행정구역' + str(idx)\n",
    "  \n",
    "    \n",
    "    \n",
    "    dfDict[name].columns = header\n",
    "    \n",
    "    "
   ],
   "metadata": {
    "collapsed": false,
    "ExecuteTime": {
     "end_time": "2024-02-06T00:22:26.816545200Z",
     "start_time": "2024-02-06T00:22:26.809852500Z"
    }
   },
   "id": "dae3063f2e007b53",
   "execution_count": 6
  },
  {
   "cell_type": "code",
   "outputs": [],
   "source": [
    "for name, dfin in dfDict.items():\n",
    "    conn.execute(querytoText(f\"DROP TABLE IF EXISTS KMS_{name}\"))\n",
    "    conn.commit()\n",
    "    dfDict[name].to_sql(f\"KMS_{name}\", con=conn, if_exists='replace', index=False)\n",
    "    keylist = list(dfDict[name].columns)[:-1] if name != '개수면적' else list(dfDict[name].columns)[:-2]\n",
    "    for col in keylist[:-1]:\n",
    "        varcharQuery = f\"\"\"\n",
    "        alter table KMS_{name}\n",
    "        modify `{col}` varchar(30) null;\n",
    "        \"\"\"\n",
    "        yearQuery =  f\"\"\"\n",
    "        alter table KMS_{name}\n",
    "        modify `year` smallint null;\"\"\"\n",
    "        conn.execute(querytoText(varcharQuery))\n",
    "        conn.execute(querytoText(yearQuery))\n",
    "        conn.commit()\n",
    "    query = f'''\n",
    "    alter table KMS_{name}\n",
    "    add constraint KMS_{name}_pk\n",
    "        primary key (`{'`, `'.join(keylist)}`);\n",
    "    '''\n",
    "    conn.execute(querytoText(query))  if name != '개수면적' else \"\"\n",
    "    conn.commit()"
   ],
   "metadata": {
    "collapsed": false,
    "ExecuteTime": {
     "end_time": "2024-02-06T00:22:39.358479400Z",
     "start_time": "2024-02-06T00:22:26.815532700Z"
    }
   },
   "id": "81f06443ad41d0d4",
   "execution_count": 7
  },
  {
   "cell_type": "code",
   "outputs": [
    {
     "data": {
      "text/plain": "18"
     },
     "execution_count": 8,
     "metadata": {},
     "output_type": "execute_result"
    }
   ],
   "source": [
    "pd.Series(dfDict['미집행현황'][dfDict['미집행현황'].columns[0]].unique().tolist(), name='시도별').to_sql('KMS_시도별', con=conn, if_exists='replace',index=False)"
   ],
   "metadata": {
    "collapsed": false,
    "ExecuteTime": {
     "end_time": "2024-02-06T00:22:39.519858400Z",
     "start_time": "2024-02-06T00:22:39.351289200Z"
    }
   },
   "id": "5f16464b75999b64",
   "execution_count": 8
  },
  {
   "cell_type": "code",
   "outputs": [
    {
     "data": {
      "text/plain": "10"
     },
     "execution_count": 9,
     "metadata": {},
     "output_type": "execute_result"
    }
   ],
   "source": [
    "pd.Series(dfDict['유치원']['year'].unique(), name='year').to_sql('KMS_year', con=conn, if_exists='replace',index=False)"
   ],
   "metadata": {
    "collapsed": false,
    "ExecuteTime": {
     "end_time": "2024-02-06T00:22:39.654129500Z",
     "start_time": "2024-02-06T00:22:39.507579900Z"
    }
   },
   "id": "e5947dfb5c0e36b7",
   "execution_count": 9
  },
  {
   "cell_type": "code",
   "outputs": [
    {
     "data": {
      "text/plain": "      행정구역0\n0   강원특별자치도\n1       경기도\n2      경상남도\n3      경상북도\n4     광주광역시\n5     대구광역시\n6     대전광역시\n7     부산광역시\n8     서울특별시\n9   세종특별자치시\n10    울산광역시\n11    인천광역시\n12       전국\n13     전라남도\n14     전라북도\n15  제주특별자치도\n16     충청남도\n17     충청북도",
      "text/html": "<div>\n<style scoped>\n    .dataframe tbody tr th:only-of-type {\n        vertical-align: middle;\n    }\n\n    .dataframe tbody tr th {\n        vertical-align: top;\n    }\n\n    .dataframe thead th {\n        text-align: right;\n    }\n</style>\n<table border=\"1\" class=\"dataframe\">\n  <thead>\n    <tr style=\"text-align: right;\">\n      <th></th>\n      <th>행정구역0</th>\n    </tr>\n  </thead>\n  <tbody>\n    <tr>\n      <th>0</th>\n      <td>강원특별자치도</td>\n    </tr>\n    <tr>\n      <th>1</th>\n      <td>경기도</td>\n    </tr>\n    <tr>\n      <th>2</th>\n      <td>경상남도</td>\n    </tr>\n    <tr>\n      <th>3</th>\n      <td>경상북도</td>\n    </tr>\n    <tr>\n      <th>4</th>\n      <td>광주광역시</td>\n    </tr>\n    <tr>\n      <th>5</th>\n      <td>대구광역시</td>\n    </tr>\n    <tr>\n      <th>6</th>\n      <td>대전광역시</td>\n    </tr>\n    <tr>\n      <th>7</th>\n      <td>부산광역시</td>\n    </tr>\n    <tr>\n      <th>8</th>\n      <td>서울특별시</td>\n    </tr>\n    <tr>\n      <th>9</th>\n      <td>세종특별자치시</td>\n    </tr>\n    <tr>\n      <th>10</th>\n      <td>울산광역시</td>\n    </tr>\n    <tr>\n      <th>11</th>\n      <td>인천광역시</td>\n    </tr>\n    <tr>\n      <th>12</th>\n      <td>전국</td>\n    </tr>\n    <tr>\n      <th>13</th>\n      <td>전라남도</td>\n    </tr>\n    <tr>\n      <th>14</th>\n      <td>전라북도</td>\n    </tr>\n    <tr>\n      <th>15</th>\n      <td>제주특별자치도</td>\n    </tr>\n    <tr>\n      <th>16</th>\n      <td>충청남도</td>\n    </tr>\n    <tr>\n      <th>17</th>\n      <td>충청북도</td>\n    </tr>\n  </tbody>\n</table>\n</div>"
     },
     "execution_count": 12,
     "metadata": {},
     "output_type": "execute_result"
    }
   ],
   "source": [
    "pd.read_sql(\"select distinct 행정구역0 from KMS_유치원\", con=conn)"
   ],
   "metadata": {
    "collapsed": false,
    "ExecuteTime": {
     "end_time": "2024-02-06T00:22:45.879576100Z",
     "start_time": "2024-02-06T00:22:45.850008400Z"
    }
   },
   "id": "f664d7a842f6651d",
   "execution_count": 12
  },
  {
   "cell_type": "code",
   "outputs": [],
   "source": [
    "for col in ['KMS_유치원', 'KMS_초등학교']:\n",
    "    conn.execute(querytoText(f\"update {col} set 행정구역0 = '전국' where 행정구역0 = '총계'\"))"
   ],
   "metadata": {
    "collapsed": false,
    "ExecuteTime": {
     "end_time": "2024-02-06T00:22:39.787596100Z",
     "start_time": "2024-02-06T00:22:39.683216200Z"
    }
   },
   "id": "a399307c273c141c",
   "execution_count": 11
  },
  {
   "cell_type": "code",
   "outputs": [],
   "source": [
    "pdwith시군 = pd.read_sql(f\"select distinct 행정구역0, 행정구역1 from KMS_미집행현황 where 행정구역1 not like '소계'\", con=conn)"
   ],
   "metadata": {
    "collapsed": false,
    "ExecuteTime": {
     "end_time": "2024-02-06T00:27:16.187109100Z",
     "start_time": "2024-02-06T00:27:16.154781900Z"
    }
   },
   "id": "710c9577e151d893",
   "execution_count": 19
  },
  {
   "cell_type": "code",
   "outputs": [
    {
     "data": {
      "text/plain": "157"
     },
     "execution_count": 21,
     "metadata": {},
     "output_type": "execute_result"
    }
   ],
   "source": [
    "pdwith시군.to_sql('KMS_행정구역_시군포함', con=conn, if_exists='replace')"
   ],
   "metadata": {
    "collapsed": false,
    "ExecuteTime": {
     "end_time": "2024-02-06T00:27:40.067486900Z",
     "start_time": "2024-02-06T00:27:39.900623800Z"
    }
   },
   "id": "39c01d42b9aa42f2",
   "execution_count": 21
  },
  {
   "cell_type": "code",
   "outputs": [],
   "source": [
    "for table in ['KMS_유치원', 'KMS_초등학교']:\n",
    "    conn.execute(querytoText(f'''\n",
    "    update {table}\n",
    "    set 행정구역0 = '강원도'\n",
    "    where 행정구역0 like '강원%'\n",
    "    '''))\n",
    "conn.commit()"
   ],
   "metadata": {
    "collapsed": false,
    "ExecuteTime": {
     "end_time": "2024-02-06T01:42:20.116554200Z",
     "start_time": "2024-02-06T01:42:20.035978500Z"
    }
   },
   "id": "f29a7228c8134ec",
   "execution_count": 29
  }
 ],
 "metadata": {
  "kernelspec": {
   "display_name": "Python 3",
   "language": "python",
   "name": "python3"
  },
  "language_info": {
   "codemirror_mode": {
    "name": "ipython",
    "version": 2
   },
   "file_extension": ".py",
   "mimetype": "text/x-python",
   "name": "python",
   "nbconvert_exporter": "python",
   "pygments_lexer": "ipython2",
   "version": "2.7.6"
  }
 },
 "nbformat": 4,
 "nbformat_minor": 5
}
