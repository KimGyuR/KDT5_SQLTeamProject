{
 "cells": [
  {
   "cell_type": "code",
   "execution_count": 355,
   "id": "initial_id",
   "metadata": {
    "collapsed": true,
    "ExecuteTime": {
     "end_time": "2024-02-05T12:48:02.244456900Z",
     "start_time": "2024-02-05T12:48:02.192572Z"
    }
   },
   "outputs": [],
   "source": [
    "import pandas as pd\n",
    "import pymysql\n",
    "import sqlalchemy\n",
    "from sqlalchemy.sql import text as querytoText"
   ]
  },
  {
   "cell_type": "code",
   "outputs": [],
   "source": [
    "passwd = '1234Q1@'\n",
    "\n",
    "url = sqlalchemy.engine.URL.create(\n",
    "\tdrivername=\"mysql+pymysql\",\n",
    "    username='KMS',\n",
    "    password=passwd,\n",
    "    host='175.122.58.102',\n",
    "    port=33063,\n",
    "    database='ProjectDB',\n",
    ")\n",
    "\n",
    "engine = sqlalchemy.create_engine(url)\n",
    "conn = engine.connect()\n",
    "# pd.read_sql('select * from KMS_TestTable', engine)\n",
    "\n",
    "df_유치원 = pd.read_csv('유치원_개황.csv', encoding='utf-8', index_col=[0,1], header=[0,1,2])\n",
    "df_elementary = pd.read_csv('초등학교_개황.csv', encoding='utf-8', index_col=[0,1], header=[0,1,2])\n",
    "df_middleschoole = pd.read_csv('중학교_개황.csv',\n",
    "                               encoding='euc-kr', \n",
    "                               # index_col=[0,1], \n",
    "                               # header=[0,1,2]\n",
    "                               )\n",
    "\n",
    "df_highschool = pd.read_csv('고등학교_개황.csv',\n",
    "                               encoding='euc-kr', \n",
    "                               # index_col=[0,1], \n",
    "                               # header=[0,1,2]\n",
    "                               )\n"
   ],
   "metadata": {
    "collapsed": false,
    "ExecuteTime": {
     "end_time": "2024-02-05T12:48:02.506254Z",
     "start_time": "2024-02-05T12:48:02.248479300Z"
    }
   },
   "id": "3460e80622d351a6",
   "execution_count": 356
  },
  {
   "cell_type": "code",
   "outputs": [
    {
     "data": {
      "text/plain": "시도별(1)        2013                                                           \\\n시도별(1)     학교수 (개) 학급수 (개)  학생수 (명)          교원수 (명)         직원수 (명)          \n시도별(1)          소계      소계       소계       여자      소계      여자      소계     여자   \n총계      계     5913  119896  2784000  1335941  181585  139023   25265  12946   \n        국립      17     387     9798     4897     512     247      40     15   \n        공립    5820  118082  2733287  1310908  179312  137788   24763  12761   \n        사립      76    1427    40915    20136    1761     988     462    170   \n서울특별시   계      597   19149   469392   226687   29751   25466    3174   1674   \n...            ...     ...      ...      ...     ...     ...     ...    ...   \n경상남도    사립       2      32      870      435      43      23       7      4   \n제주특별자치도 계      110    1680    38235    17987    2564    1903     406    200   \n        국립       1      19      513      255      26      16       2      -   \n        공립     109    1661    37722    17732    2538    1887     404    200   \n        사립       -       -        -        -       -       -       -      -   \n\n시도별(1)                       ...    2022                                    \\\n시도별(1)     입학자수 (명)          ... 직원수 (명) 입학자수 (명)         졸업자수 (명)           \n시도별(1)           소계      여자  ...      여자       소계      여자       소계      여자   \n총계      계    436621  210958  ...   14709   431509  210488   431813  209504   \n        국립     1509     759  ...      18     1309     646     1467     721   \n        공립   428001  206651  ...   14527   423361  206463   424846  206040   \n        사립     7111    3548  ...     164     6839    3379     5500    2743   \n서울특별시   계     74125   35914  ...    1883    64013   31404    65432   31862   \n...             ...     ...  ...     ...      ...     ...      ...     ...   \n경상남도    사립      140      76  ...       5      136      71      121      48   \n제주특별자치도 계      5943    2846  ...     208     6688    3192     6605    3172   \n        국립       72      36  ...       -       60      30       72      36   \n        공립     5871    2810  ...     208     6628    3162     6533    3136   \n        사립        -       -  ...       -        -       -        -       -   \n\n시도별(1)                                         \n시도별(1)     교실수 (개)                             \n시도별(1)          소계    일반교실  교과교실   특별교실 수준별교실  \n총계      계   177172  138089  8148  29603  1332  \n        국립     548     403    17    128     -  \n        공립  174109  136266  7854  28742  1247  \n        사립    2515    1420   277    733    85  \n서울특별시   계    24919   19172  1451   4066   230  \n...            ...     ...   ...    ...   ...  \n경상남도    사립      48      31     8      9     -  \n제주특별자치도 계     2411    2062    25    318     6  \n        국립      23      19     1      3     -  \n        공립    2388    2043    24    315     6  \n        사립       -       -     -      -     -  \n\n[72 rows x 166 columns]",
      "text/html": "<div>\n<style scoped>\n    .dataframe tbody tr th:only-of-type {\n        vertical-align: middle;\n    }\n\n    .dataframe tbody tr th {\n        vertical-align: top;\n    }\n\n    .dataframe thead tr th {\n        text-align: left;\n    }\n</style>\n<table border=\"1\" class=\"dataframe\">\n  <thead>\n    <tr>\n      <th></th>\n      <th>시도별(1)</th>\n      <th colspan=\"10\" halign=\"left\">2013</th>\n      <th>...</th>\n      <th colspan=\"10\" halign=\"left\">2022</th>\n    </tr>\n    <tr>\n      <th></th>\n      <th>시도별(1)</th>\n      <th>학교수 (개)</th>\n      <th>학급수 (개)</th>\n      <th colspan=\"2\" halign=\"left\">학생수 (명)</th>\n      <th colspan=\"2\" halign=\"left\">교원수 (명)</th>\n      <th colspan=\"2\" halign=\"left\">직원수 (명)</th>\n      <th colspan=\"2\" halign=\"left\">입학자수 (명)</th>\n      <th>...</th>\n      <th>직원수 (명)</th>\n      <th colspan=\"2\" halign=\"left\">입학자수 (명)</th>\n      <th colspan=\"2\" halign=\"left\">졸업자수 (명)</th>\n      <th colspan=\"5\" halign=\"left\">교실수 (개)</th>\n    </tr>\n    <tr>\n      <th></th>\n      <th>시도별(1)</th>\n      <th>소계</th>\n      <th>소계</th>\n      <th>소계</th>\n      <th>여자</th>\n      <th>소계</th>\n      <th>여자</th>\n      <th>소계</th>\n      <th>여자</th>\n      <th>소계</th>\n      <th>여자</th>\n      <th>...</th>\n      <th>여자</th>\n      <th>소계</th>\n      <th>여자</th>\n      <th>소계</th>\n      <th>여자</th>\n      <th>소계</th>\n      <th>일반교실</th>\n      <th>교과교실</th>\n      <th>특별교실</th>\n      <th>수준별교실</th>\n    </tr>\n  </thead>\n  <tbody>\n    <tr>\n      <th rowspan=\"4\" valign=\"top\">총계</th>\n      <th>계</th>\n      <td>5913</td>\n      <td>119896</td>\n      <td>2784000</td>\n      <td>1335941</td>\n      <td>181585</td>\n      <td>139023</td>\n      <td>25265</td>\n      <td>12946</td>\n      <td>436621</td>\n      <td>210958</td>\n      <td>...</td>\n      <td>14709</td>\n      <td>431509</td>\n      <td>210488</td>\n      <td>431813</td>\n      <td>209504</td>\n      <td>177172</td>\n      <td>138089</td>\n      <td>8148</td>\n      <td>29603</td>\n      <td>1332</td>\n    </tr>\n    <tr>\n      <th>국립</th>\n      <td>17</td>\n      <td>387</td>\n      <td>9798</td>\n      <td>4897</td>\n      <td>512</td>\n      <td>247</td>\n      <td>40</td>\n      <td>15</td>\n      <td>1509</td>\n      <td>759</td>\n      <td>...</td>\n      <td>18</td>\n      <td>1309</td>\n      <td>646</td>\n      <td>1467</td>\n      <td>721</td>\n      <td>548</td>\n      <td>403</td>\n      <td>17</td>\n      <td>128</td>\n      <td>-</td>\n    </tr>\n    <tr>\n      <th>공립</th>\n      <td>5820</td>\n      <td>118082</td>\n      <td>2733287</td>\n      <td>1310908</td>\n      <td>179312</td>\n      <td>137788</td>\n      <td>24763</td>\n      <td>12761</td>\n      <td>428001</td>\n      <td>206651</td>\n      <td>...</td>\n      <td>14527</td>\n      <td>423361</td>\n      <td>206463</td>\n      <td>424846</td>\n      <td>206040</td>\n      <td>174109</td>\n      <td>136266</td>\n      <td>7854</td>\n      <td>28742</td>\n      <td>1247</td>\n    </tr>\n    <tr>\n      <th>사립</th>\n      <td>76</td>\n      <td>1427</td>\n      <td>40915</td>\n      <td>20136</td>\n      <td>1761</td>\n      <td>988</td>\n      <td>462</td>\n      <td>170</td>\n      <td>7111</td>\n      <td>3548</td>\n      <td>...</td>\n      <td>164</td>\n      <td>6839</td>\n      <td>3379</td>\n      <td>5500</td>\n      <td>2743</td>\n      <td>2515</td>\n      <td>1420</td>\n      <td>277</td>\n      <td>733</td>\n      <td>85</td>\n    </tr>\n    <tr>\n      <th>서울특별시</th>\n      <th>계</th>\n      <td>597</td>\n      <td>19149</td>\n      <td>469392</td>\n      <td>226687</td>\n      <td>29751</td>\n      <td>25466</td>\n      <td>3174</td>\n      <td>1674</td>\n      <td>74125</td>\n      <td>35914</td>\n      <td>...</td>\n      <td>1883</td>\n      <td>64013</td>\n      <td>31404</td>\n      <td>65432</td>\n      <td>31862</td>\n      <td>24919</td>\n      <td>19172</td>\n      <td>1451</td>\n      <td>4066</td>\n      <td>230</td>\n    </tr>\n    <tr>\n      <th>...</th>\n      <th>...</th>\n      <td>...</td>\n      <td>...</td>\n      <td>...</td>\n      <td>...</td>\n      <td>...</td>\n      <td>...</td>\n      <td>...</td>\n      <td>...</td>\n      <td>...</td>\n      <td>...</td>\n      <td>...</td>\n      <td>...</td>\n      <td>...</td>\n      <td>...</td>\n      <td>...</td>\n      <td>...</td>\n      <td>...</td>\n      <td>...</td>\n      <td>...</td>\n      <td>...</td>\n      <td>...</td>\n    </tr>\n    <tr>\n      <th>경상남도</th>\n      <th>사립</th>\n      <td>2</td>\n      <td>32</td>\n      <td>870</td>\n      <td>435</td>\n      <td>43</td>\n      <td>23</td>\n      <td>7</td>\n      <td>4</td>\n      <td>140</td>\n      <td>76</td>\n      <td>...</td>\n      <td>5</td>\n      <td>136</td>\n      <td>71</td>\n      <td>121</td>\n      <td>48</td>\n      <td>48</td>\n      <td>31</td>\n      <td>8</td>\n      <td>9</td>\n      <td>-</td>\n    </tr>\n    <tr>\n      <th rowspan=\"4\" valign=\"top\">제주특별자치도</th>\n      <th>계</th>\n      <td>110</td>\n      <td>1680</td>\n      <td>38235</td>\n      <td>17987</td>\n      <td>2564</td>\n      <td>1903</td>\n      <td>406</td>\n      <td>200</td>\n      <td>5943</td>\n      <td>2846</td>\n      <td>...</td>\n      <td>208</td>\n      <td>6688</td>\n      <td>3192</td>\n      <td>6605</td>\n      <td>3172</td>\n      <td>2411</td>\n      <td>2062</td>\n      <td>25</td>\n      <td>318</td>\n      <td>6</td>\n    </tr>\n    <tr>\n      <th>국립</th>\n      <td>1</td>\n      <td>19</td>\n      <td>513</td>\n      <td>255</td>\n      <td>26</td>\n      <td>16</td>\n      <td>2</td>\n      <td>-</td>\n      <td>72</td>\n      <td>36</td>\n      <td>...</td>\n      <td>-</td>\n      <td>60</td>\n      <td>30</td>\n      <td>72</td>\n      <td>36</td>\n      <td>23</td>\n      <td>19</td>\n      <td>1</td>\n      <td>3</td>\n      <td>-</td>\n    </tr>\n    <tr>\n      <th>공립</th>\n      <td>109</td>\n      <td>1661</td>\n      <td>37722</td>\n      <td>17732</td>\n      <td>2538</td>\n      <td>1887</td>\n      <td>404</td>\n      <td>200</td>\n      <td>5871</td>\n      <td>2810</td>\n      <td>...</td>\n      <td>208</td>\n      <td>6628</td>\n      <td>3162</td>\n      <td>6533</td>\n      <td>3136</td>\n      <td>2388</td>\n      <td>2043</td>\n      <td>24</td>\n      <td>315</td>\n      <td>6</td>\n    </tr>\n    <tr>\n      <th>사립</th>\n      <td>-</td>\n      <td>-</td>\n      <td>-</td>\n      <td>-</td>\n      <td>-</td>\n      <td>-</td>\n      <td>-</td>\n      <td>-</td>\n      <td>-</td>\n      <td>-</td>\n      <td>...</td>\n      <td>-</td>\n      <td>-</td>\n      <td>-</td>\n      <td>-</td>\n      <td>-</td>\n      <td>-</td>\n      <td>-</td>\n      <td>-</td>\n      <td>-</td>\n      <td>-</td>\n    </tr>\n  </tbody>\n</table>\n<p>72 rows × 166 columns</p>\n</div>"
     },
     "execution_count": 357,
     "metadata": {},
     "output_type": "execute_result"
    }
   ],
   "source": [
    "df_elementary"
   ],
   "metadata": {
    "collapsed": false,
    "ExecuteTime": {
     "end_time": "2024-02-05T12:48:02.528219Z",
     "start_time": "2024-02-05T12:48:02.434452100Z"
    }
   },
   "id": "361cf60ffd0dd7ad",
   "execution_count": 357
  },
  {
   "cell_type": "code",
   "outputs": [
    {
     "data": {
      "text/plain": "Index(['계', '국립', '공립', '사립'], dtype='object')"
     },
     "execution_count": 358,
     "metadata": {},
     "output_type": "execute_result"
    }
   ],
   "source": [
    "df_유치원.index.get_level_values(1).unique()"
   ],
   "metadata": {
    "collapsed": false,
    "ExecuteTime": {
     "end_time": "2024-02-05T12:48:02.530212800Z",
     "start_time": "2024-02-05T12:48:02.455179100Z"
    }
   },
   "id": "dbf31539f1ff045",
   "execution_count": 358
  },
  {
   "cell_type": "code",
   "outputs": [
    {
     "data": {
      "text/plain": "시도별(1)        2013                                                       \\\n시도별(1)    유치원수 (개) 학급수 (개) 원아수 (명)         교원수 (명)        직원수 (명)         \n시도별(1)          소계      소계      소계      여자      소계     여자      소계    여자   \n총계      계     8678   30597  658188  320647   46126  45373    8728  5559   \n서울특별시   계      869    3829   92400   45337    6657   6573    1680  1054   \n부산광역시   계      383    1816   44217   21588    3137   3094     682   415   \n대구광역시   계      361    1471   34550   16715    2538   2468     405   257   \n인천광역시   계      411    1830   41594   20303    2644   2613     693   457   \n광주광역시   계      295    1091   22676   11066    1732   1704     212   137   \n대전광역시   계      260    1201   25263   12410    1797   1753     230   178   \n울산광역시   계      193     809   19032    9211    1172   1146     228   149   \n세종특별자치시 계       25      70    1305     686      94     94      11     6   \n경기도     계     2087    8266  182231   89213   11483  11299    2359  1512   \n강원특별자치도 계      379     861   16007    7815    1248   1225     429   321   \n충청북도    계      341     943   17446    8351    1297   1272     330   238   \n충청남도    계      507    1339   26411   12698    1970   1928     363   210   \n전라북도    계      523    1432   23266   11197    1941   1914     214   118   \n전라남도    계      546    1190   18895    9075    1566   1542     171   101   \n경상북도    계      703    1916   37230   17932    2706   2651     305   175   \n경상남도    계      683    2289   50370   24540    3706   3663     345   193   \n제주특별자치도 계      112     244    5295    2510     438    434      71    38   \n\n시도별(1)                       ...    2022                                      \\\n시도별(1)    신입원아수 (명)          ... 직원수 (명) 신입원아수 (명)         졸업원아수 (명)           \n시도별(1)           소계      여자  ...      여자        소계      여자        소계      여자   \n총계      계    323993  157329  ...    2824    243721  119767    236392  115866   \n서울특별시   계     43523   21389  ...     407     29237   14277     26558   13056   \n부산광역시   계     19996    9774  ...     168     15853    7808     15306    7445   \n대구광역시   계     18116    8693  ...     147     14293    7139     13697    6719   \n인천광역시   계     21371   10450  ...     177     15395    7600     14607    7092   \n광주광역시   계     10793    5255  ...      79      8844    4376      8791    4249   \n대전광역시   계     13096    6207  ...      71      8628    4198      8470    4177   \n울산광역시   계      9402    4538  ...      57      6389    3129      6396    3105   \n세종특별자치시 계       674     358  ...      88      2903    1461      2811    1401   \n경기도     계     93441   45579  ...     882     67523   33311     65391   32240   \n강원특별자치도 계      7931    3897  ...      80      6092    2987      6001    2969   \n충청북도    계      8330    4002  ...      70      6460    3189      6421    3175   \n충청남도    계     13128    6289  ...     122     11115    5494     10353    5046   \n전라북도    계      9999    4761  ...      97      7773    3770      7882    3875   \n전라남도    계      8682    4141  ...      65      7143    3486      7217    3489   \n경상북도    계     18347    8828  ...     102     13108    6275     14032    6890   \n경상남도    계     23656   11481  ...     200     18745    9151     18647    9092   \n제주특별자치도 계      3508    1687  ...      12      4220    2116      3812    1846   \n\n시도별(1)                                     \n시도별(1)    교실수 (개)                          \n시도별(1)         소계   일반교실 교과교실  특별교실 수준별교실  \n총계      계   29996  27645  313  1927   111  \n서울특별시   계    3372   3132   37   185    18  \n부산광역시   계    2006   1840   26   136     4  \n대구광역시   계    1869   1614   22   221    12  \n인천광역시   계    1753   1650    5    89     9  \n광주광역시   계    1178   1040   29   103     6  \n대전광역시   계    1118   1052   13    53     -  \n울산광역시   계     742    695    3    43     1  \n세종특별자치시 계     460    414    4    41     1  \n경기도     계    8825   8314   92   399    20  \n강원특별자치도 계     677    636    4    34     3  \n충청북도    계     720    669    7    40     4  \n충청남도    계    1257   1145    7   100     5  \n전라북도    계    1213   1118    7    79     9  \n전라남도    계     815    751    5    55     4  \n경상북도    계    1582   1424   18   129    11  \n경상남도    계    2301   2054   34   209     4  \n제주특별자치도 계     108     97    -    11     -  \n\n[18 rows x 180 columns]",
      "text/html": "<div>\n<style scoped>\n    .dataframe tbody tr th:only-of-type {\n        vertical-align: middle;\n    }\n\n    .dataframe tbody tr th {\n        vertical-align: top;\n    }\n\n    .dataframe thead tr th {\n        text-align: left;\n    }\n</style>\n<table border=\"1\" class=\"dataframe\">\n  <thead>\n    <tr>\n      <th></th>\n      <th>시도별(1)</th>\n      <th colspan=\"10\" halign=\"left\">2013</th>\n      <th>...</th>\n      <th colspan=\"10\" halign=\"left\">2022</th>\n    </tr>\n    <tr>\n      <th></th>\n      <th>시도별(1)</th>\n      <th>유치원수 (개)</th>\n      <th>학급수 (개)</th>\n      <th colspan=\"2\" halign=\"left\">원아수 (명)</th>\n      <th colspan=\"2\" halign=\"left\">교원수 (명)</th>\n      <th colspan=\"2\" halign=\"left\">직원수 (명)</th>\n      <th colspan=\"2\" halign=\"left\">신입원아수 (명)</th>\n      <th>...</th>\n      <th>직원수 (명)</th>\n      <th colspan=\"2\" halign=\"left\">신입원아수 (명)</th>\n      <th colspan=\"2\" halign=\"left\">졸업원아수 (명)</th>\n      <th colspan=\"5\" halign=\"left\">교실수 (개)</th>\n    </tr>\n    <tr>\n      <th></th>\n      <th>시도별(1)</th>\n      <th>소계</th>\n      <th>소계</th>\n      <th>소계</th>\n      <th>여자</th>\n      <th>소계</th>\n      <th>여자</th>\n      <th>소계</th>\n      <th>여자</th>\n      <th>소계</th>\n      <th>여자</th>\n      <th>...</th>\n      <th>여자</th>\n      <th>소계</th>\n      <th>여자</th>\n      <th>소계</th>\n      <th>여자</th>\n      <th>소계</th>\n      <th>일반교실</th>\n      <th>교과교실</th>\n      <th>특별교실</th>\n      <th>수준별교실</th>\n    </tr>\n  </thead>\n  <tbody>\n    <tr>\n      <th>총계</th>\n      <th>계</th>\n      <td>8678</td>\n      <td>30597</td>\n      <td>658188</td>\n      <td>320647</td>\n      <td>46126</td>\n      <td>45373</td>\n      <td>8728</td>\n      <td>5559</td>\n      <td>323993</td>\n      <td>157329</td>\n      <td>...</td>\n      <td>2824</td>\n      <td>243721</td>\n      <td>119767</td>\n      <td>236392</td>\n      <td>115866</td>\n      <td>29996</td>\n      <td>27645</td>\n      <td>313</td>\n      <td>1927</td>\n      <td>111</td>\n    </tr>\n    <tr>\n      <th>서울특별시</th>\n      <th>계</th>\n      <td>869</td>\n      <td>3829</td>\n      <td>92400</td>\n      <td>45337</td>\n      <td>6657</td>\n      <td>6573</td>\n      <td>1680</td>\n      <td>1054</td>\n      <td>43523</td>\n      <td>21389</td>\n      <td>...</td>\n      <td>407</td>\n      <td>29237</td>\n      <td>14277</td>\n      <td>26558</td>\n      <td>13056</td>\n      <td>3372</td>\n      <td>3132</td>\n      <td>37</td>\n      <td>185</td>\n      <td>18</td>\n    </tr>\n    <tr>\n      <th>부산광역시</th>\n      <th>계</th>\n      <td>383</td>\n      <td>1816</td>\n      <td>44217</td>\n      <td>21588</td>\n      <td>3137</td>\n      <td>3094</td>\n      <td>682</td>\n      <td>415</td>\n      <td>19996</td>\n      <td>9774</td>\n      <td>...</td>\n      <td>168</td>\n      <td>15853</td>\n      <td>7808</td>\n      <td>15306</td>\n      <td>7445</td>\n      <td>2006</td>\n      <td>1840</td>\n      <td>26</td>\n      <td>136</td>\n      <td>4</td>\n    </tr>\n    <tr>\n      <th>대구광역시</th>\n      <th>계</th>\n      <td>361</td>\n      <td>1471</td>\n      <td>34550</td>\n      <td>16715</td>\n      <td>2538</td>\n      <td>2468</td>\n      <td>405</td>\n      <td>257</td>\n      <td>18116</td>\n      <td>8693</td>\n      <td>...</td>\n      <td>147</td>\n      <td>14293</td>\n      <td>7139</td>\n      <td>13697</td>\n      <td>6719</td>\n      <td>1869</td>\n      <td>1614</td>\n      <td>22</td>\n      <td>221</td>\n      <td>12</td>\n    </tr>\n    <tr>\n      <th>인천광역시</th>\n      <th>계</th>\n      <td>411</td>\n      <td>1830</td>\n      <td>41594</td>\n      <td>20303</td>\n      <td>2644</td>\n      <td>2613</td>\n      <td>693</td>\n      <td>457</td>\n      <td>21371</td>\n      <td>10450</td>\n      <td>...</td>\n      <td>177</td>\n      <td>15395</td>\n      <td>7600</td>\n      <td>14607</td>\n      <td>7092</td>\n      <td>1753</td>\n      <td>1650</td>\n      <td>5</td>\n      <td>89</td>\n      <td>9</td>\n    </tr>\n    <tr>\n      <th>광주광역시</th>\n      <th>계</th>\n      <td>295</td>\n      <td>1091</td>\n      <td>22676</td>\n      <td>11066</td>\n      <td>1732</td>\n      <td>1704</td>\n      <td>212</td>\n      <td>137</td>\n      <td>10793</td>\n      <td>5255</td>\n      <td>...</td>\n      <td>79</td>\n      <td>8844</td>\n      <td>4376</td>\n      <td>8791</td>\n      <td>4249</td>\n      <td>1178</td>\n      <td>1040</td>\n      <td>29</td>\n      <td>103</td>\n      <td>6</td>\n    </tr>\n    <tr>\n      <th>대전광역시</th>\n      <th>계</th>\n      <td>260</td>\n      <td>1201</td>\n      <td>25263</td>\n      <td>12410</td>\n      <td>1797</td>\n      <td>1753</td>\n      <td>230</td>\n      <td>178</td>\n      <td>13096</td>\n      <td>6207</td>\n      <td>...</td>\n      <td>71</td>\n      <td>8628</td>\n      <td>4198</td>\n      <td>8470</td>\n      <td>4177</td>\n      <td>1118</td>\n      <td>1052</td>\n      <td>13</td>\n      <td>53</td>\n      <td>-</td>\n    </tr>\n    <tr>\n      <th>울산광역시</th>\n      <th>계</th>\n      <td>193</td>\n      <td>809</td>\n      <td>19032</td>\n      <td>9211</td>\n      <td>1172</td>\n      <td>1146</td>\n      <td>228</td>\n      <td>149</td>\n      <td>9402</td>\n      <td>4538</td>\n      <td>...</td>\n      <td>57</td>\n      <td>6389</td>\n      <td>3129</td>\n      <td>6396</td>\n      <td>3105</td>\n      <td>742</td>\n      <td>695</td>\n      <td>3</td>\n      <td>43</td>\n      <td>1</td>\n    </tr>\n    <tr>\n      <th>세종특별자치시</th>\n      <th>계</th>\n      <td>25</td>\n      <td>70</td>\n      <td>1305</td>\n      <td>686</td>\n      <td>94</td>\n      <td>94</td>\n      <td>11</td>\n      <td>6</td>\n      <td>674</td>\n      <td>358</td>\n      <td>...</td>\n      <td>88</td>\n      <td>2903</td>\n      <td>1461</td>\n      <td>2811</td>\n      <td>1401</td>\n      <td>460</td>\n      <td>414</td>\n      <td>4</td>\n      <td>41</td>\n      <td>1</td>\n    </tr>\n    <tr>\n      <th>경기도</th>\n      <th>계</th>\n      <td>2087</td>\n      <td>8266</td>\n      <td>182231</td>\n      <td>89213</td>\n      <td>11483</td>\n      <td>11299</td>\n      <td>2359</td>\n      <td>1512</td>\n      <td>93441</td>\n      <td>45579</td>\n      <td>...</td>\n      <td>882</td>\n      <td>67523</td>\n      <td>33311</td>\n      <td>65391</td>\n      <td>32240</td>\n      <td>8825</td>\n      <td>8314</td>\n      <td>92</td>\n      <td>399</td>\n      <td>20</td>\n    </tr>\n    <tr>\n      <th>강원특별자치도</th>\n      <th>계</th>\n      <td>379</td>\n      <td>861</td>\n      <td>16007</td>\n      <td>7815</td>\n      <td>1248</td>\n      <td>1225</td>\n      <td>429</td>\n      <td>321</td>\n      <td>7931</td>\n      <td>3897</td>\n      <td>...</td>\n      <td>80</td>\n      <td>6092</td>\n      <td>2987</td>\n      <td>6001</td>\n      <td>2969</td>\n      <td>677</td>\n      <td>636</td>\n      <td>4</td>\n      <td>34</td>\n      <td>3</td>\n    </tr>\n    <tr>\n      <th>충청북도</th>\n      <th>계</th>\n      <td>341</td>\n      <td>943</td>\n      <td>17446</td>\n      <td>8351</td>\n      <td>1297</td>\n      <td>1272</td>\n      <td>330</td>\n      <td>238</td>\n      <td>8330</td>\n      <td>4002</td>\n      <td>...</td>\n      <td>70</td>\n      <td>6460</td>\n      <td>3189</td>\n      <td>6421</td>\n      <td>3175</td>\n      <td>720</td>\n      <td>669</td>\n      <td>7</td>\n      <td>40</td>\n      <td>4</td>\n    </tr>\n    <tr>\n      <th>충청남도</th>\n      <th>계</th>\n      <td>507</td>\n      <td>1339</td>\n      <td>26411</td>\n      <td>12698</td>\n      <td>1970</td>\n      <td>1928</td>\n      <td>363</td>\n      <td>210</td>\n      <td>13128</td>\n      <td>6289</td>\n      <td>...</td>\n      <td>122</td>\n      <td>11115</td>\n      <td>5494</td>\n      <td>10353</td>\n      <td>5046</td>\n      <td>1257</td>\n      <td>1145</td>\n      <td>7</td>\n      <td>100</td>\n      <td>5</td>\n    </tr>\n    <tr>\n      <th>전라북도</th>\n      <th>계</th>\n      <td>523</td>\n      <td>1432</td>\n      <td>23266</td>\n      <td>11197</td>\n      <td>1941</td>\n      <td>1914</td>\n      <td>214</td>\n      <td>118</td>\n      <td>9999</td>\n      <td>4761</td>\n      <td>...</td>\n      <td>97</td>\n      <td>7773</td>\n      <td>3770</td>\n      <td>7882</td>\n      <td>3875</td>\n      <td>1213</td>\n      <td>1118</td>\n      <td>7</td>\n      <td>79</td>\n      <td>9</td>\n    </tr>\n    <tr>\n      <th>전라남도</th>\n      <th>계</th>\n      <td>546</td>\n      <td>1190</td>\n      <td>18895</td>\n      <td>9075</td>\n      <td>1566</td>\n      <td>1542</td>\n      <td>171</td>\n      <td>101</td>\n      <td>8682</td>\n      <td>4141</td>\n      <td>...</td>\n      <td>65</td>\n      <td>7143</td>\n      <td>3486</td>\n      <td>7217</td>\n      <td>3489</td>\n      <td>815</td>\n      <td>751</td>\n      <td>5</td>\n      <td>55</td>\n      <td>4</td>\n    </tr>\n    <tr>\n      <th>경상북도</th>\n      <th>계</th>\n      <td>703</td>\n      <td>1916</td>\n      <td>37230</td>\n      <td>17932</td>\n      <td>2706</td>\n      <td>2651</td>\n      <td>305</td>\n      <td>175</td>\n      <td>18347</td>\n      <td>8828</td>\n      <td>...</td>\n      <td>102</td>\n      <td>13108</td>\n      <td>6275</td>\n      <td>14032</td>\n      <td>6890</td>\n      <td>1582</td>\n      <td>1424</td>\n      <td>18</td>\n      <td>129</td>\n      <td>11</td>\n    </tr>\n    <tr>\n      <th>경상남도</th>\n      <th>계</th>\n      <td>683</td>\n      <td>2289</td>\n      <td>50370</td>\n      <td>24540</td>\n      <td>3706</td>\n      <td>3663</td>\n      <td>345</td>\n      <td>193</td>\n      <td>23656</td>\n      <td>11481</td>\n      <td>...</td>\n      <td>200</td>\n      <td>18745</td>\n      <td>9151</td>\n      <td>18647</td>\n      <td>9092</td>\n      <td>2301</td>\n      <td>2054</td>\n      <td>34</td>\n      <td>209</td>\n      <td>4</td>\n    </tr>\n    <tr>\n      <th>제주특별자치도</th>\n      <th>계</th>\n      <td>112</td>\n      <td>244</td>\n      <td>5295</td>\n      <td>2510</td>\n      <td>438</td>\n      <td>434</td>\n      <td>71</td>\n      <td>38</td>\n      <td>3508</td>\n      <td>1687</td>\n      <td>...</td>\n      <td>12</td>\n      <td>4220</td>\n      <td>2116</td>\n      <td>3812</td>\n      <td>1846</td>\n      <td>108</td>\n      <td>97</td>\n      <td>-</td>\n      <td>11</td>\n      <td>-</td>\n    </tr>\n  </tbody>\n</table>\n<p>18 rows × 180 columns</p>\n</div>"
     },
     "execution_count": 359,
     "metadata": {},
     "output_type": "execute_result"
    }
   ],
   "source": [
    "df_유치원[df_유치원.index.get_level_values(1) == \"계\"]"
   ],
   "metadata": {
    "collapsed": false,
    "ExecuteTime": {
     "end_time": "2024-02-05T12:48:02.551182200Z",
     "start_time": "2024-02-05T12:48:02.463005900Z"
    }
   },
   "id": "d840914daf3e4103",
   "execution_count": 359
  },
  {
   "cell_type": "code",
   "outputs": [
    {
     "name": "stdout",
     "output_type": "stream",
     "text": [
      "유치원수 (개)\n",
      "학급수 (개)\n",
      "원아수 (명)\n",
      "교원수 (명)\n",
      "직원수 (명)\n",
      "신입원아수 (명)\n",
      "재취원아수 (명)\n",
      "졸업원아수 (명)\n",
      "교실수 (개)\n"
     ]
    }
   ],
   "source": [
    "def genTables(name = \"KMS_유치원\",df_유치원 = df_유치원):\n",
    "    firstname = '시도별'\n",
    "    secondname = '데이터종류'\n",
    "    conn.execute(querytoText(f'drop table if exists {name};'))\n",
    "    conn.commit()\n",
    "    for idx, alpha in enumerate(df_유치원.columns.get_level_values(1).unique()):\n",
    "        print(alpha)\n",
    "        result1 = df_유치원[df_유치원.columns[(df_유치원.columns.get_level_values(1) == f'{alpha}') & (df_유치원.columns.get_level_values(2) == '소계')]][(df_유치원.index.get_level_values(1) == \"계\")]\n",
    "        result1.columns = result1.columns.get_level_values(0)\n",
    "        # print(result1.index.get_level_values(0))\n",
    "        result1.index = result1.index.get_level_values(0)\n",
    "        # print(result1.index)\n",
    "        \n",
    "        result1 = result1.apply(pd.to_numeric, errors='coerce') \n",
    "        result1.reset_index(level = 0, drop=False, inplace=True,names=firstname)\n",
    "        result1.insert(loc=1, column = secondname, value = alpha[:-4])\n",
    "        tmp = result1.set_index(list(result1.columns[:2])).stack().reset_index(name = '값')\n",
    "        tmp.columns = ['시도별','데이터종류','year','값']\n",
    "        tmp.to_sql(f'{name}', con=engine, if_exists='append'\n",
    "                            , index=False)\n",
    "        query = querytoText(f'''\n",
    "        alter table `{name}`\n",
    "        modify `{result1.columns[0]}` varchar(20) not null;\n",
    "        ''')\n",
    "        \n",
    "        query2 = querytoText(f'''\n",
    "        alter table `{name}`\n",
    "        modify `데이터종류` varchar(20) not null;\n",
    "        ''')\n",
    "        \n",
    "        query1 = querytoText(f'''\n",
    "        alter table `{name}`\n",
    "        add constraint `{name}_pk`\n",
    "            primary key (`{firstname}`, `{secondname}`, year);\n",
    "\n",
    "        ''')\n",
    "        conn.execute(query)\n",
    "        conn.execute(query2)\n",
    "        conn.execute(querytoText(f'alter table `{name}` modify `year` smallint not null;'))\n",
    "        conn.execute(query1) if idx == 0 else \"\"\n",
    "        conn.commit()\n",
    "        result1 = None\n",
    "        \n",
    "genTables()"
   ],
   "metadata": {
    "collapsed": false,
    "ExecuteTime": {
     "end_time": "2024-02-05T13:02:03.168640700Z",
     "start_time": "2024-02-05T13:02:01.739612100Z"
    }
   },
   "id": "5dd163f1f0eb0a6d",
   "execution_count": 382
  },
  {
   "cell_type": "code",
   "outputs": [
    {
     "name": "stdout",
     "output_type": "stream",
     "text": [
      "학교수 (개)\n",
      "학급수 (개)\n",
      "학생수 (명)\n",
      "교원수 (명)\n",
      "직원수 (명)\n",
      "입학자수 (명)\n",
      "졸업자수 (명)\n",
      "교실수 (개)\n"
     ]
    }
   ],
   "source": [
    "genTables(\"KMS_초등학교\", df_elementary)"
   ],
   "metadata": {
    "collapsed": false,
    "ExecuteTime": {
     "end_time": "2024-02-05T13:03:56.341662700Z",
     "start_time": "2024-02-05T13:03:55.006439800Z"
    }
   },
   "id": "37b38df0028ff0f5",
   "execution_count": 383
  },
  {
   "cell_type": "code",
   "outputs": [
    {
     "data": {
      "text/plain": "Index(['유치원수 (개)', '학급수 (개)', '원아수 (명)', '교원수 (명)', '직원수 (명)', '신입원아수 (명)',\n       '재취원아수 (명)', '졸업원아수 (명)', '교실수 (개)'],\n      dtype='object', name='시도별(1)')"
     },
     "execution_count": 362,
     "metadata": {},
     "output_type": "execute_result"
    }
   ],
   "source": [
    "df_유치원.columns.get_level_values(1).unique()"
   ],
   "metadata": {
    "collapsed": false,
    "ExecuteTime": {
     "end_time": "2024-02-05T12:48:05.158981500Z",
     "start_time": "2024-02-05T12:48:05.152237Z"
    }
   },
   "id": "73e63d25c5664245",
   "execution_count": 362
  },
  {
   "cell_type": "code",
   "outputs": [
    {
     "data": {
      "text/plain": "시도별(1)        2013     2014     2015     2016     2017     2018     2019  \\\n시도별(1)    유치원수 (개) 유치원수 (개) 유치원수 (개) 유치원수 (개) 유치원수 (개) 유치원수 (개) 유치원수 (개)   \n시도별(1)          소계       소계       소계       소계       소계       소계       소계   \n총계      계     8678     8826     8930     8987     9029     9021     8837   \n서울특별시   계      869      884      888      879      880      876      830   \n부산광역시   계      383      395      403      412      417      413      408   \n대구광역시   계      361      375      392      375      370      369      355   \n인천광역시   계      411      412      418      427      430      423      403   \n광주광역시   계      295      308      315      321      318      314      312   \n대전광역시   계      260      265      268      269      269      269      260   \n울산광역시   계      193      196      194      196      199      197      200   \n세종특별자치시 계       25       30       43       45       53       59       60   \n경기도     계     2087     2137     2188     2234     2258     2275     2237   \n강원특별자치도 계      379      385      386      379      375      373      368   \n충청북도    계      341      344      343      345      345      341      328   \n충청남도    계      507      506      503      509      508      511      499   \n전라북도    계      523      526      530      532      536      531      519   \n전라남도    계      546      551      552      553      553      551      542   \n경상북도    계      703      716      711      707      710      709      707   \n경상남도    계      683      682      679      686      690      691      686   \n제주특별자치도 계      112      114      117      118      118      119      123   \n\n시도별(1)        2020     2021     2022  \n시도별(1)    유치원수 (개) 유치원수 (개) 유치원수 (개)  \n시도별(1)          소계       소계       소계  \n총계      계     8705     8660     8562  \n서울특별시   계      795      787      788  \n부산광역시   계      403      397      394  \n대구광역시   계      346      342      329  \n인천광역시   계      404      399      396  \n광주광역시   계      298      294      288  \n대전광역시   계      256      253      255  \n울산광역시   계      198      196      191  \n세종특별자치시 계       61       62       64  \n경기도     계     2206     2209     2175  \n강원특별자치도 계      366      363      359  \n충청북도    계      326      327      324  \n충청남도    계      499      498      498  \n전라북도    계      507      507      501  \n전라남도    계      530      524      516  \n경상북도    계      701      696      682  \n경상남도    계      686      683      683  \n제주특별자치도 계      123      123      119  ",
      "text/html": "<div>\n<style scoped>\n    .dataframe tbody tr th:only-of-type {\n        vertical-align: middle;\n    }\n\n    .dataframe tbody tr th {\n        vertical-align: top;\n    }\n\n    .dataframe thead tr th {\n        text-align: left;\n    }\n</style>\n<table border=\"1\" class=\"dataframe\">\n  <thead>\n    <tr>\n      <th></th>\n      <th>시도별(1)</th>\n      <th>2013</th>\n      <th>2014</th>\n      <th>2015</th>\n      <th>2016</th>\n      <th>2017</th>\n      <th>2018</th>\n      <th>2019</th>\n      <th>2020</th>\n      <th>2021</th>\n      <th>2022</th>\n    </tr>\n    <tr>\n      <th></th>\n      <th>시도별(1)</th>\n      <th>유치원수 (개)</th>\n      <th>유치원수 (개)</th>\n      <th>유치원수 (개)</th>\n      <th>유치원수 (개)</th>\n      <th>유치원수 (개)</th>\n      <th>유치원수 (개)</th>\n      <th>유치원수 (개)</th>\n      <th>유치원수 (개)</th>\n      <th>유치원수 (개)</th>\n      <th>유치원수 (개)</th>\n    </tr>\n    <tr>\n      <th></th>\n      <th>시도별(1)</th>\n      <th>소계</th>\n      <th>소계</th>\n      <th>소계</th>\n      <th>소계</th>\n      <th>소계</th>\n      <th>소계</th>\n      <th>소계</th>\n      <th>소계</th>\n      <th>소계</th>\n      <th>소계</th>\n    </tr>\n  </thead>\n  <tbody>\n    <tr>\n      <th>총계</th>\n      <th>계</th>\n      <td>8678</td>\n      <td>8826</td>\n      <td>8930</td>\n      <td>8987</td>\n      <td>9029</td>\n      <td>9021</td>\n      <td>8837</td>\n      <td>8705</td>\n      <td>8660</td>\n      <td>8562</td>\n    </tr>\n    <tr>\n      <th>서울특별시</th>\n      <th>계</th>\n      <td>869</td>\n      <td>884</td>\n      <td>888</td>\n      <td>879</td>\n      <td>880</td>\n      <td>876</td>\n      <td>830</td>\n      <td>795</td>\n      <td>787</td>\n      <td>788</td>\n    </tr>\n    <tr>\n      <th>부산광역시</th>\n      <th>계</th>\n      <td>383</td>\n      <td>395</td>\n      <td>403</td>\n      <td>412</td>\n      <td>417</td>\n      <td>413</td>\n      <td>408</td>\n      <td>403</td>\n      <td>397</td>\n      <td>394</td>\n    </tr>\n    <tr>\n      <th>대구광역시</th>\n      <th>계</th>\n      <td>361</td>\n      <td>375</td>\n      <td>392</td>\n      <td>375</td>\n      <td>370</td>\n      <td>369</td>\n      <td>355</td>\n      <td>346</td>\n      <td>342</td>\n      <td>329</td>\n    </tr>\n    <tr>\n      <th>인천광역시</th>\n      <th>계</th>\n      <td>411</td>\n      <td>412</td>\n      <td>418</td>\n      <td>427</td>\n      <td>430</td>\n      <td>423</td>\n      <td>403</td>\n      <td>404</td>\n      <td>399</td>\n      <td>396</td>\n    </tr>\n    <tr>\n      <th>광주광역시</th>\n      <th>계</th>\n      <td>295</td>\n      <td>308</td>\n      <td>315</td>\n      <td>321</td>\n      <td>318</td>\n      <td>314</td>\n      <td>312</td>\n      <td>298</td>\n      <td>294</td>\n      <td>288</td>\n    </tr>\n    <tr>\n      <th>대전광역시</th>\n      <th>계</th>\n      <td>260</td>\n      <td>265</td>\n      <td>268</td>\n      <td>269</td>\n      <td>269</td>\n      <td>269</td>\n      <td>260</td>\n      <td>256</td>\n      <td>253</td>\n      <td>255</td>\n    </tr>\n    <tr>\n      <th>울산광역시</th>\n      <th>계</th>\n      <td>193</td>\n      <td>196</td>\n      <td>194</td>\n      <td>196</td>\n      <td>199</td>\n      <td>197</td>\n      <td>200</td>\n      <td>198</td>\n      <td>196</td>\n      <td>191</td>\n    </tr>\n    <tr>\n      <th>세종특별자치시</th>\n      <th>계</th>\n      <td>25</td>\n      <td>30</td>\n      <td>43</td>\n      <td>45</td>\n      <td>53</td>\n      <td>59</td>\n      <td>60</td>\n      <td>61</td>\n      <td>62</td>\n      <td>64</td>\n    </tr>\n    <tr>\n      <th>경기도</th>\n      <th>계</th>\n      <td>2087</td>\n      <td>2137</td>\n      <td>2188</td>\n      <td>2234</td>\n      <td>2258</td>\n      <td>2275</td>\n      <td>2237</td>\n      <td>2206</td>\n      <td>2209</td>\n      <td>2175</td>\n    </tr>\n    <tr>\n      <th>강원특별자치도</th>\n      <th>계</th>\n      <td>379</td>\n      <td>385</td>\n      <td>386</td>\n      <td>379</td>\n      <td>375</td>\n      <td>373</td>\n      <td>368</td>\n      <td>366</td>\n      <td>363</td>\n      <td>359</td>\n    </tr>\n    <tr>\n      <th>충청북도</th>\n      <th>계</th>\n      <td>341</td>\n      <td>344</td>\n      <td>343</td>\n      <td>345</td>\n      <td>345</td>\n      <td>341</td>\n      <td>328</td>\n      <td>326</td>\n      <td>327</td>\n      <td>324</td>\n    </tr>\n    <tr>\n      <th>충청남도</th>\n      <th>계</th>\n      <td>507</td>\n      <td>506</td>\n      <td>503</td>\n      <td>509</td>\n      <td>508</td>\n      <td>511</td>\n      <td>499</td>\n      <td>499</td>\n      <td>498</td>\n      <td>498</td>\n    </tr>\n    <tr>\n      <th>전라북도</th>\n      <th>계</th>\n      <td>523</td>\n      <td>526</td>\n      <td>530</td>\n      <td>532</td>\n      <td>536</td>\n      <td>531</td>\n      <td>519</td>\n      <td>507</td>\n      <td>507</td>\n      <td>501</td>\n    </tr>\n    <tr>\n      <th>전라남도</th>\n      <th>계</th>\n      <td>546</td>\n      <td>551</td>\n      <td>552</td>\n      <td>553</td>\n      <td>553</td>\n      <td>551</td>\n      <td>542</td>\n      <td>530</td>\n      <td>524</td>\n      <td>516</td>\n    </tr>\n    <tr>\n      <th>경상북도</th>\n      <th>계</th>\n      <td>703</td>\n      <td>716</td>\n      <td>711</td>\n      <td>707</td>\n      <td>710</td>\n      <td>709</td>\n      <td>707</td>\n      <td>701</td>\n      <td>696</td>\n      <td>682</td>\n    </tr>\n    <tr>\n      <th>경상남도</th>\n      <th>계</th>\n      <td>683</td>\n      <td>682</td>\n      <td>679</td>\n      <td>686</td>\n      <td>690</td>\n      <td>691</td>\n      <td>686</td>\n      <td>686</td>\n      <td>683</td>\n      <td>683</td>\n    </tr>\n    <tr>\n      <th>제주특별자치도</th>\n      <th>계</th>\n      <td>112</td>\n      <td>114</td>\n      <td>117</td>\n      <td>118</td>\n      <td>118</td>\n      <td>119</td>\n      <td>123</td>\n      <td>123</td>\n      <td>123</td>\n      <td>119</td>\n    </tr>\n  </tbody>\n</table>\n</div>"
     },
     "execution_count": 363,
     "metadata": {},
     "output_type": "execute_result"
    }
   ],
   "source": [
    "df_유치원[df_유치원.columns[df_유치원.columns.get_level_values(1) == '유치원수 (개)']][(df_유치원.index.get_level_values(1) == \"계\")]"
   ],
   "metadata": {
    "collapsed": false,
    "ExecuteTime": {
     "end_time": "2024-02-05T12:48:05.177098600Z",
     "start_time": "2024-02-05T12:48:05.157863400Z"
    }
   },
   "id": "54c1528d82f9f88e",
   "execution_count": 363
  },
  {
   "cell_type": "code",
   "outputs": [],
   "source": [
    "df_highschool[df_highschool.columns[5:]] = df_highschool[df_highschool.columns[5:]].apply(pd.to_numeric, errors='coerce')\n",
    "\n",
    "df_middleschoole[df_middleschoole.columns[5:]] = df_middleschoole[df_middleschoole.columns[5:]].apply(pd.to_numeric, errors='coerce')\n"
   ],
   "metadata": {
    "collapsed": false,
    "ExecuteTime": {
     "end_time": "2024-02-05T12:48:05.277795900Z",
     "start_time": "2024-02-05T12:48:05.170331100Z"
    }
   },
   "id": "c1cb1a13dfc8800",
   "execution_count": 364
  },
  {
   "cell_type": "code",
   "outputs": [],
   "source": [
    "\n",
    "df_highschool.drop(columns=['항목'], inplace=True)\n",
    "df_middleschoole.drop(columns=['항목'], inplace=True)"
   ],
   "metadata": {
    "collapsed": false,
    "ExecuteTime": {
     "end_time": "2024-02-05T12:48:05.279810800Z",
     "start_time": "2024-02-05T12:48:05.214109800Z"
    }
   },
   "id": "7f25e2a8bc2bbe52",
   "execution_count": 365
  },
  {
   "cell_type": "code",
   "outputs": [],
   "source": [
    "df_highschool.drop(columns=df_highschool.columns[-1], inplace=True)\n",
    "df_middleschoole.drop(columns=df_middleschoole.columns[-1], inplace=True)\n"
   ],
   "metadata": {
    "collapsed": false,
    "ExecuteTime": {
     "end_time": "2024-02-05T12:48:05.290805400Z",
     "start_time": "2024-02-05T12:48:05.219638800Z"
    }
   },
   "id": "cddeb7c64a17779a",
   "execution_count": 366
  },
  {
   "cell_type": "code",
   "outputs": [],
   "source": [
    "df_highschool['단위'].ffill(inplace=True)\n",
    "df_middleschoole['단위'].ffill(inplace=True)"
   ],
   "metadata": {
    "collapsed": false,
    "ExecuteTime": {
     "end_time": "2024-02-05T12:48:05.292797600Z",
     "start_time": "2024-02-05T12:48:05.227249100Z"
    }
   },
   "id": "9dc23047a074fc47",
   "execution_count": 367
  },
  {
   "cell_type": "code",
   "outputs": [],
   "source": [
    "df_highschool.columns =  df_highschool.columns.str.replace(' 년', '')\n",
    "df_middleschoole.columns =  df_middleschoole.columns.str.replace(' 년', '')"
   ],
   "metadata": {
    "collapsed": false,
    "ExecuteTime": {
     "end_time": "2024-02-05T12:48:05.346885600Z",
     "start_time": "2024-02-05T12:48:05.232508600Z"
    }
   },
   "id": "440c15772e54b99a",
   "execution_count": 368
  },
  {
   "cell_type": "code",
   "outputs": [
    {
     "data": {
      "text/plain": "2376"
     },
     "execution_count": 369,
     "metadata": {},
     "output_type": "execute_result"
    }
   ],
   "source": [
    "df_highschool.to_sql(f'KMS_고등학교', \n",
    "                     con=engine, \n",
    "                     if_exists='replace', \n",
    "                     index=False\n",
    "                     )\n",
    "\n",
    "\n",
    "df_middleschoole.to_sql(f'KMS_중학교', \n",
    "                     con=engine, \n",
    "                     if_exists='replace', \n",
    "                     index=False\n",
    "                     )\n"
   ],
   "metadata": {
    "collapsed": false,
    "ExecuteTime": {
     "end_time": "2024-02-05T12:48:06.644149100Z",
     "start_time": "2024-02-05T12:48:05.237383800Z"
    }
   },
   "id": "188ec446edaa4f04",
   "execution_count": 369
  },
  {
   "cell_type": "code",
   "outputs": [
    {
     "name": "stderr",
     "output_type": "stream",
     "text": [
      "C:\\Users\\Administrator\\AppData\\Local\\Temp\\ipykernel_15788\\754759613.py:7: SettingWithCopyWarning: \n",
      "A value is trying to be set on a copy of a slice from a DataFrame\n",
      "\n",
      "See the caveats in the documentation: https://pandas.pydata.org/pandas-docs/stable/user_guide/indexing.html#returning-a-view-versus-a-copy\n",
      "  df_midwithyear[df_midwithyear.columns[:-1]].drop_duplicates(inplace=True)\n"
     ]
    },
    {
     "ename": "IntegrityError",
     "evalue": "(pymysql.err.IntegrityError) (1062, \"Duplicate entry '광주광역시-사립-여자-명-2013' for key 'KMS_중학교.PRIMARY'\")\n[SQL: \n        alter table KMS_중학교\n            add constraint KMS_중학교_pk\n                primary key (시도별, 설립주체별, 학교현황별, 단위, year);]\n(Background on this error at: https://sqlalche.me/e/20/gkpj)",
     "output_type": "error",
     "traceback": [
      "\u001B[1;31m---------------------------------------------------------------------------\u001B[0m",
      "\u001B[1;31mIntegrityError\u001B[0m                            Traceback (most recent call last)",
      "File \u001B[1;32m~\\anaconda3\\Lib\\site-packages\\sqlalchemy\\engine\\base.py:1969\u001B[0m, in \u001B[0;36mConnection._exec_single_context\u001B[1;34m(self, dialect, context, statement, parameters)\u001B[0m\n\u001B[0;32m   1968\u001B[0m     \u001B[38;5;28;01mif\u001B[39;00m \u001B[38;5;129;01mnot\u001B[39;00m evt_handled:\n\u001B[1;32m-> 1969\u001B[0m         \u001B[38;5;28mself\u001B[39m\u001B[38;5;241m.\u001B[39mdialect\u001B[38;5;241m.\u001B[39mdo_execute(\n\u001B[0;32m   1970\u001B[0m             cursor, str_statement, effective_parameters, context\n\u001B[0;32m   1971\u001B[0m         )\n\u001B[0;32m   1973\u001B[0m \u001B[38;5;28;01mif\u001B[39;00m \u001B[38;5;28mself\u001B[39m\u001B[38;5;241m.\u001B[39m_has_events \u001B[38;5;129;01mor\u001B[39;00m \u001B[38;5;28mself\u001B[39m\u001B[38;5;241m.\u001B[39mengine\u001B[38;5;241m.\u001B[39m_has_events:\n",
      "File \u001B[1;32m~\\anaconda3\\Lib\\site-packages\\sqlalchemy\\engine\\default.py:922\u001B[0m, in \u001B[0;36mDefaultDialect.do_execute\u001B[1;34m(self, cursor, statement, parameters, context)\u001B[0m\n\u001B[0;32m    921\u001B[0m \u001B[38;5;28;01mdef\u001B[39;00m \u001B[38;5;21mdo_execute\u001B[39m(\u001B[38;5;28mself\u001B[39m, cursor, statement, parameters, context\u001B[38;5;241m=\u001B[39m\u001B[38;5;28;01mNone\u001B[39;00m):\n\u001B[1;32m--> 922\u001B[0m     cursor\u001B[38;5;241m.\u001B[39mexecute(statement, parameters)\n",
      "File \u001B[1;32m~\\anaconda3\\Lib\\site-packages\\pymysql\\cursors.py:153\u001B[0m, in \u001B[0;36mCursor.execute\u001B[1;34m(self, query, args)\u001B[0m\n\u001B[0;32m    151\u001B[0m query \u001B[38;5;241m=\u001B[39m \u001B[38;5;28mself\u001B[39m\u001B[38;5;241m.\u001B[39mmogrify(query, args)\n\u001B[1;32m--> 153\u001B[0m result \u001B[38;5;241m=\u001B[39m \u001B[38;5;28mself\u001B[39m\u001B[38;5;241m.\u001B[39m_query(query)\n\u001B[0;32m    154\u001B[0m \u001B[38;5;28mself\u001B[39m\u001B[38;5;241m.\u001B[39m_executed \u001B[38;5;241m=\u001B[39m query\n",
      "File \u001B[1;32m~\\anaconda3\\Lib\\site-packages\\pymysql\\cursors.py:322\u001B[0m, in \u001B[0;36mCursor._query\u001B[1;34m(self, q)\u001B[0m\n\u001B[0;32m    321\u001B[0m \u001B[38;5;28mself\u001B[39m\u001B[38;5;241m.\u001B[39m_clear_result()\n\u001B[1;32m--> 322\u001B[0m conn\u001B[38;5;241m.\u001B[39mquery(q)\n\u001B[0;32m    323\u001B[0m \u001B[38;5;28mself\u001B[39m\u001B[38;5;241m.\u001B[39m_do_get_result()\n",
      "File \u001B[1;32m~\\anaconda3\\Lib\\site-packages\\pymysql\\connections.py:558\u001B[0m, in \u001B[0;36mConnection.query\u001B[1;34m(self, sql, unbuffered)\u001B[0m\n\u001B[0;32m    557\u001B[0m \u001B[38;5;28mself\u001B[39m\u001B[38;5;241m.\u001B[39m_execute_command(COMMAND\u001B[38;5;241m.\u001B[39mCOM_QUERY, sql)\n\u001B[1;32m--> 558\u001B[0m \u001B[38;5;28mself\u001B[39m\u001B[38;5;241m.\u001B[39m_affected_rows \u001B[38;5;241m=\u001B[39m \u001B[38;5;28mself\u001B[39m\u001B[38;5;241m.\u001B[39m_read_query_result(unbuffered\u001B[38;5;241m=\u001B[39munbuffered)\n\u001B[0;32m    559\u001B[0m \u001B[38;5;28;01mreturn\u001B[39;00m \u001B[38;5;28mself\u001B[39m\u001B[38;5;241m.\u001B[39m_affected_rows\n",
      "File \u001B[1;32m~\\anaconda3\\Lib\\site-packages\\pymysql\\connections.py:822\u001B[0m, in \u001B[0;36mConnection._read_query_result\u001B[1;34m(self, unbuffered)\u001B[0m\n\u001B[0;32m    821\u001B[0m     result \u001B[38;5;241m=\u001B[39m MySQLResult(\u001B[38;5;28mself\u001B[39m)\n\u001B[1;32m--> 822\u001B[0m     result\u001B[38;5;241m.\u001B[39mread()\n\u001B[0;32m    823\u001B[0m \u001B[38;5;28mself\u001B[39m\u001B[38;5;241m.\u001B[39m_result \u001B[38;5;241m=\u001B[39m result\n",
      "File \u001B[1;32m~\\anaconda3\\Lib\\site-packages\\pymysql\\connections.py:1200\u001B[0m, in \u001B[0;36mMySQLResult.read\u001B[1;34m(self)\u001B[0m\n\u001B[0;32m   1199\u001B[0m \u001B[38;5;28;01mtry\u001B[39;00m:\n\u001B[1;32m-> 1200\u001B[0m     first_packet \u001B[38;5;241m=\u001B[39m \u001B[38;5;28mself\u001B[39m\u001B[38;5;241m.\u001B[39mconnection\u001B[38;5;241m.\u001B[39m_read_packet()\n\u001B[0;32m   1202\u001B[0m     \u001B[38;5;28;01mif\u001B[39;00m first_packet\u001B[38;5;241m.\u001B[39mis_ok_packet():\n",
      "File \u001B[1;32m~\\anaconda3\\Lib\\site-packages\\pymysql\\connections.py:772\u001B[0m, in \u001B[0;36mConnection._read_packet\u001B[1;34m(self, packet_type)\u001B[0m\n\u001B[0;32m    771\u001B[0m         \u001B[38;5;28mself\u001B[39m\u001B[38;5;241m.\u001B[39m_result\u001B[38;5;241m.\u001B[39munbuffered_active \u001B[38;5;241m=\u001B[39m \u001B[38;5;28;01mFalse\u001B[39;00m\n\u001B[1;32m--> 772\u001B[0m     packet\u001B[38;5;241m.\u001B[39mraise_for_error()\n\u001B[0;32m    773\u001B[0m \u001B[38;5;28;01mreturn\u001B[39;00m packet\n",
      "File \u001B[1;32m~\\anaconda3\\Lib\\site-packages\\pymysql\\protocol.py:221\u001B[0m, in \u001B[0;36mMysqlPacket.raise_for_error\u001B[1;34m(self)\u001B[0m\n\u001B[0;32m    220\u001B[0m     \u001B[38;5;28mprint\u001B[39m(\u001B[38;5;124m\"\u001B[39m\u001B[38;5;124merrno =\u001B[39m\u001B[38;5;124m\"\u001B[39m, errno)\n\u001B[1;32m--> 221\u001B[0m err\u001B[38;5;241m.\u001B[39mraise_mysql_exception(\u001B[38;5;28mself\u001B[39m\u001B[38;5;241m.\u001B[39m_data)\n",
      "File \u001B[1;32m~\\anaconda3\\Lib\\site-packages\\pymysql\\err.py:143\u001B[0m, in \u001B[0;36mraise_mysql_exception\u001B[1;34m(data)\u001B[0m\n\u001B[0;32m    142\u001B[0m     errorclass \u001B[38;5;241m=\u001B[39m InternalError \u001B[38;5;28;01mif\u001B[39;00m errno \u001B[38;5;241m<\u001B[39m \u001B[38;5;241m1000\u001B[39m \u001B[38;5;28;01melse\u001B[39;00m OperationalError\n\u001B[1;32m--> 143\u001B[0m \u001B[38;5;28;01mraise\u001B[39;00m errorclass(errno, errval)\n",
      "\u001B[1;31mIntegrityError\u001B[0m: (1062, \"Duplicate entry '광주광역시-사립-여자-명-2013' for key 'KMS_중학교.PRIMARY'\")",
      "\nThe above exception was the direct cause of the following exception:\n",
      "\u001B[1;31mIntegrityError\u001B[0m                            Traceback (most recent call last)",
      "Cell \u001B[1;32mIn[375], line 22\u001B[0m\n\u001B[0;32m     17\u001B[0m \u001B[38;5;28;01mfor\u001B[39;00m col \u001B[38;5;129;01min\u001B[39;00m [\u001B[38;5;124m'\u001B[39m\u001B[38;5;124m시도별\u001B[39m\u001B[38;5;124m'\u001B[39m, \u001B[38;5;124m'\u001B[39m\u001B[38;5;124m설립주체별\u001B[39m\u001B[38;5;124m'\u001B[39m, \u001B[38;5;124m'\u001B[39m\u001B[38;5;124m학교현황별\u001B[39m\u001B[38;5;124m'\u001B[39m, \u001B[38;5;124m'\u001B[39m\u001B[38;5;124m단위\u001B[39m\u001B[38;5;124m'\u001B[39m]:\n\u001B[0;32m     18\u001B[0m     conn\u001B[38;5;241m.\u001B[39mexecute(querytoText(\u001B[38;5;124mf\u001B[39m\u001B[38;5;124m'''\u001B[39m\n\u001B[0;32m     19\u001B[0m \u001B[38;5;124m            alter table \u001B[39m\u001B[38;5;132;01m{\u001B[39;00mname\u001B[38;5;132;01m}\u001B[39;00m\n\u001B[0;32m     20\u001B[0m \u001B[38;5;124m        modify \u001B[39m\u001B[38;5;132;01m{\u001B[39;00mcol\u001B[38;5;132;01m}\u001B[39;00m\u001B[38;5;124m varchar(30) not null;\u001B[39m\n\u001B[0;32m     21\u001B[0m \u001B[38;5;124m    \u001B[39m\u001B[38;5;124m'''\u001B[39m))\n\u001B[1;32m---> 22\u001B[0m conn\u001B[38;5;241m.\u001B[39mexecute(querytoText(\u001B[38;5;124mf\u001B[39m\u001B[38;5;124m'''\u001B[39m\n\u001B[0;32m     23\u001B[0m \u001B[38;5;124m    alter table \u001B[39m\u001B[38;5;132;01m{\u001B[39;00mname\u001B[38;5;132;01m}\u001B[39;00m\n\u001B[0;32m     24\u001B[0m \u001B[38;5;124m        add constraint \u001B[39m\u001B[38;5;132;01m{\u001B[39;00mname\u001B[38;5;132;01m}\u001B[39;00m\u001B[38;5;124m_pk\u001B[39m\n\u001B[0;32m     25\u001B[0m \u001B[38;5;124m            primary key (\u001B[39m\u001B[38;5;132;01m{\u001B[39;00m\u001B[38;5;124m\"\u001B[39m\u001B[38;5;124m, \u001B[39m\u001B[38;5;124m\"\u001B[39m\u001B[38;5;241m.\u001B[39mjoin([\u001B[38;5;124m'\u001B[39m\u001B[38;5;124m시도별\u001B[39m\u001B[38;5;124m'\u001B[39m,\u001B[38;5;250m \u001B[39m\u001B[38;5;124m'\u001B[39m\u001B[38;5;124m설립주체별\u001B[39m\u001B[38;5;124m'\u001B[39m,\u001B[38;5;250m \u001B[39m\u001B[38;5;124m'\u001B[39m\u001B[38;5;124m학교현황별\u001B[39m\u001B[38;5;124m'\u001B[39m,\u001B[38;5;250m \u001B[39m\u001B[38;5;124m'\u001B[39m\u001B[38;5;124m단위\u001B[39m\u001B[38;5;124m'\u001B[39m,\u001B[38;5;250m \u001B[39m\u001B[38;5;124m'\u001B[39m\u001B[38;5;124myear\u001B[39m\u001B[38;5;124m'\u001B[39m])\u001B[38;5;132;01m}\u001B[39;00m\u001B[38;5;124m);\u001B[39m\u001B[38;5;124m'''\u001B[39m))\n\u001B[0;32m     26\u001B[0m conn\u001B[38;5;241m.\u001B[39mcommit()\n\u001B[0;32m     27\u001B[0m df_midwithyear \u001B[38;5;241m=\u001B[39m \u001B[38;5;28;01mNone\u001B[39;00m\n",
      "File \u001B[1;32m~\\anaconda3\\Lib\\site-packages\\sqlalchemy\\engine\\base.py:1416\u001B[0m, in \u001B[0;36mConnection.execute\u001B[1;34m(self, statement, parameters, execution_options)\u001B[0m\n\u001B[0;32m   1414\u001B[0m     \u001B[38;5;28;01mraise\u001B[39;00m exc\u001B[38;5;241m.\u001B[39mObjectNotExecutableError(statement) \u001B[38;5;28;01mfrom\u001B[39;00m \u001B[38;5;21;01merr\u001B[39;00m\n\u001B[0;32m   1415\u001B[0m \u001B[38;5;28;01melse\u001B[39;00m:\n\u001B[1;32m-> 1416\u001B[0m     \u001B[38;5;28;01mreturn\u001B[39;00m meth(\n\u001B[0;32m   1417\u001B[0m         \u001B[38;5;28mself\u001B[39m,\n\u001B[0;32m   1418\u001B[0m         distilled_parameters,\n\u001B[0;32m   1419\u001B[0m         execution_options \u001B[38;5;129;01mor\u001B[39;00m NO_OPTIONS,\n\u001B[0;32m   1420\u001B[0m     )\n",
      "File \u001B[1;32m~\\anaconda3\\Lib\\site-packages\\sqlalchemy\\sql\\elements.py:517\u001B[0m, in \u001B[0;36mClauseElement._execute_on_connection\u001B[1;34m(self, connection, distilled_params, execution_options)\u001B[0m\n\u001B[0;32m    515\u001B[0m     \u001B[38;5;28;01mif\u001B[39;00m TYPE_CHECKING:\n\u001B[0;32m    516\u001B[0m         \u001B[38;5;28;01massert\u001B[39;00m \u001B[38;5;28misinstance\u001B[39m(\u001B[38;5;28mself\u001B[39m, Executable)\n\u001B[1;32m--> 517\u001B[0m     \u001B[38;5;28;01mreturn\u001B[39;00m connection\u001B[38;5;241m.\u001B[39m_execute_clauseelement(\n\u001B[0;32m    518\u001B[0m         \u001B[38;5;28mself\u001B[39m, distilled_params, execution_options\n\u001B[0;32m    519\u001B[0m     )\n\u001B[0;32m    520\u001B[0m \u001B[38;5;28;01melse\u001B[39;00m:\n\u001B[0;32m    521\u001B[0m     \u001B[38;5;28;01mraise\u001B[39;00m exc\u001B[38;5;241m.\u001B[39mObjectNotExecutableError(\u001B[38;5;28mself\u001B[39m)\n",
      "File \u001B[1;32m~\\anaconda3\\Lib\\site-packages\\sqlalchemy\\engine\\base.py:1639\u001B[0m, in \u001B[0;36mConnection._execute_clauseelement\u001B[1;34m(self, elem, distilled_parameters, execution_options)\u001B[0m\n\u001B[0;32m   1627\u001B[0m compiled_cache: Optional[CompiledCacheType] \u001B[38;5;241m=\u001B[39m execution_options\u001B[38;5;241m.\u001B[39mget(\n\u001B[0;32m   1628\u001B[0m     \u001B[38;5;124m\"\u001B[39m\u001B[38;5;124mcompiled_cache\u001B[39m\u001B[38;5;124m\"\u001B[39m, \u001B[38;5;28mself\u001B[39m\u001B[38;5;241m.\u001B[39mengine\u001B[38;5;241m.\u001B[39m_compiled_cache\n\u001B[0;32m   1629\u001B[0m )\n\u001B[0;32m   1631\u001B[0m compiled_sql, extracted_params, cache_hit \u001B[38;5;241m=\u001B[39m elem\u001B[38;5;241m.\u001B[39m_compile_w_cache(\n\u001B[0;32m   1632\u001B[0m     dialect\u001B[38;5;241m=\u001B[39mdialect,\n\u001B[0;32m   1633\u001B[0m     compiled_cache\u001B[38;5;241m=\u001B[39mcompiled_cache,\n\u001B[1;32m   (...)\u001B[0m\n\u001B[0;32m   1637\u001B[0m     linting\u001B[38;5;241m=\u001B[39m\u001B[38;5;28mself\u001B[39m\u001B[38;5;241m.\u001B[39mdialect\u001B[38;5;241m.\u001B[39mcompiler_linting \u001B[38;5;241m|\u001B[39m compiler\u001B[38;5;241m.\u001B[39mWARN_LINTING,\n\u001B[0;32m   1638\u001B[0m )\n\u001B[1;32m-> 1639\u001B[0m ret \u001B[38;5;241m=\u001B[39m \u001B[38;5;28mself\u001B[39m\u001B[38;5;241m.\u001B[39m_execute_context(\n\u001B[0;32m   1640\u001B[0m     dialect,\n\u001B[0;32m   1641\u001B[0m     dialect\u001B[38;5;241m.\u001B[39mexecution_ctx_cls\u001B[38;5;241m.\u001B[39m_init_compiled,\n\u001B[0;32m   1642\u001B[0m     compiled_sql,\n\u001B[0;32m   1643\u001B[0m     distilled_parameters,\n\u001B[0;32m   1644\u001B[0m     execution_options,\n\u001B[0;32m   1645\u001B[0m     compiled_sql,\n\u001B[0;32m   1646\u001B[0m     distilled_parameters,\n\u001B[0;32m   1647\u001B[0m     elem,\n\u001B[0;32m   1648\u001B[0m     extracted_params,\n\u001B[0;32m   1649\u001B[0m     cache_hit\u001B[38;5;241m=\u001B[39mcache_hit,\n\u001B[0;32m   1650\u001B[0m )\n\u001B[0;32m   1651\u001B[0m \u001B[38;5;28;01mif\u001B[39;00m has_events:\n\u001B[0;32m   1652\u001B[0m     \u001B[38;5;28mself\u001B[39m\u001B[38;5;241m.\u001B[39mdispatch\u001B[38;5;241m.\u001B[39mafter_execute(\n\u001B[0;32m   1653\u001B[0m         \u001B[38;5;28mself\u001B[39m,\n\u001B[0;32m   1654\u001B[0m         elem,\n\u001B[1;32m   (...)\u001B[0m\n\u001B[0;32m   1658\u001B[0m         ret,\n\u001B[0;32m   1659\u001B[0m     )\n",
      "File \u001B[1;32m~\\anaconda3\\Lib\\site-packages\\sqlalchemy\\engine\\base.py:1848\u001B[0m, in \u001B[0;36mConnection._execute_context\u001B[1;34m(self, dialect, constructor, statement, parameters, execution_options, *args, **kw)\u001B[0m\n\u001B[0;32m   1843\u001B[0m     \u001B[38;5;28;01mreturn\u001B[39;00m \u001B[38;5;28mself\u001B[39m\u001B[38;5;241m.\u001B[39m_exec_insertmany_context(\n\u001B[0;32m   1844\u001B[0m         dialect,\n\u001B[0;32m   1845\u001B[0m         context,\n\u001B[0;32m   1846\u001B[0m     )\n\u001B[0;32m   1847\u001B[0m \u001B[38;5;28;01melse\u001B[39;00m:\n\u001B[1;32m-> 1848\u001B[0m     \u001B[38;5;28;01mreturn\u001B[39;00m \u001B[38;5;28mself\u001B[39m\u001B[38;5;241m.\u001B[39m_exec_single_context(\n\u001B[0;32m   1849\u001B[0m         dialect, context, statement, parameters\n\u001B[0;32m   1850\u001B[0m     )\n",
      "File \u001B[1;32m~\\anaconda3\\Lib\\site-packages\\sqlalchemy\\engine\\base.py:1988\u001B[0m, in \u001B[0;36mConnection._exec_single_context\u001B[1;34m(self, dialect, context, statement, parameters)\u001B[0m\n\u001B[0;32m   1985\u001B[0m     result \u001B[38;5;241m=\u001B[39m context\u001B[38;5;241m.\u001B[39m_setup_result_proxy()\n\u001B[0;32m   1987\u001B[0m \u001B[38;5;28;01mexcept\u001B[39;00m \u001B[38;5;167;01mBaseException\u001B[39;00m \u001B[38;5;28;01mas\u001B[39;00m e:\n\u001B[1;32m-> 1988\u001B[0m     \u001B[38;5;28mself\u001B[39m\u001B[38;5;241m.\u001B[39m_handle_dbapi_exception(\n\u001B[0;32m   1989\u001B[0m         e, str_statement, effective_parameters, cursor, context\n\u001B[0;32m   1990\u001B[0m     )\n\u001B[0;32m   1992\u001B[0m \u001B[38;5;28;01mreturn\u001B[39;00m result\n",
      "File \u001B[1;32m~\\anaconda3\\Lib\\site-packages\\sqlalchemy\\engine\\base.py:2344\u001B[0m, in \u001B[0;36mConnection._handle_dbapi_exception\u001B[1;34m(self, e, statement, parameters, cursor, context, is_sub_exec)\u001B[0m\n\u001B[0;32m   2342\u001B[0m \u001B[38;5;28;01melif\u001B[39;00m should_wrap:\n\u001B[0;32m   2343\u001B[0m     \u001B[38;5;28;01massert\u001B[39;00m sqlalchemy_exception \u001B[38;5;129;01mis\u001B[39;00m \u001B[38;5;129;01mnot\u001B[39;00m \u001B[38;5;28;01mNone\u001B[39;00m\n\u001B[1;32m-> 2344\u001B[0m     \u001B[38;5;28;01mraise\u001B[39;00m sqlalchemy_exception\u001B[38;5;241m.\u001B[39mwith_traceback(exc_info[\u001B[38;5;241m2\u001B[39m]) \u001B[38;5;28;01mfrom\u001B[39;00m \u001B[38;5;21;01me\u001B[39;00m\n\u001B[0;32m   2345\u001B[0m \u001B[38;5;28;01melse\u001B[39;00m:\n\u001B[0;32m   2346\u001B[0m     \u001B[38;5;28;01massert\u001B[39;00m exc_info[\u001B[38;5;241m1\u001B[39m] \u001B[38;5;129;01mis\u001B[39;00m \u001B[38;5;129;01mnot\u001B[39;00m \u001B[38;5;28;01mNone\u001B[39;00m\n",
      "File \u001B[1;32m~\\anaconda3\\Lib\\site-packages\\sqlalchemy\\engine\\base.py:1969\u001B[0m, in \u001B[0;36mConnection._exec_single_context\u001B[1;34m(self, dialect, context, statement, parameters)\u001B[0m\n\u001B[0;32m   1967\u001B[0m                 \u001B[38;5;28;01mbreak\u001B[39;00m\n\u001B[0;32m   1968\u001B[0m     \u001B[38;5;28;01mif\u001B[39;00m \u001B[38;5;129;01mnot\u001B[39;00m evt_handled:\n\u001B[1;32m-> 1969\u001B[0m         \u001B[38;5;28mself\u001B[39m\u001B[38;5;241m.\u001B[39mdialect\u001B[38;5;241m.\u001B[39mdo_execute(\n\u001B[0;32m   1970\u001B[0m             cursor, str_statement, effective_parameters, context\n\u001B[0;32m   1971\u001B[0m         )\n\u001B[0;32m   1973\u001B[0m \u001B[38;5;28;01mif\u001B[39;00m \u001B[38;5;28mself\u001B[39m\u001B[38;5;241m.\u001B[39m_has_events \u001B[38;5;129;01mor\u001B[39;00m \u001B[38;5;28mself\u001B[39m\u001B[38;5;241m.\u001B[39mengine\u001B[38;5;241m.\u001B[39m_has_events:\n\u001B[0;32m   1974\u001B[0m     \u001B[38;5;28mself\u001B[39m\u001B[38;5;241m.\u001B[39mdispatch\u001B[38;5;241m.\u001B[39mafter_cursor_execute(\n\u001B[0;32m   1975\u001B[0m         \u001B[38;5;28mself\u001B[39m,\n\u001B[0;32m   1976\u001B[0m         cursor,\n\u001B[1;32m   (...)\u001B[0m\n\u001B[0;32m   1980\u001B[0m         context\u001B[38;5;241m.\u001B[39mexecutemany,\n\u001B[0;32m   1981\u001B[0m     )\n",
      "File \u001B[1;32m~\\anaconda3\\Lib\\site-packages\\sqlalchemy\\engine\\default.py:922\u001B[0m, in \u001B[0;36mDefaultDialect.do_execute\u001B[1;34m(self, cursor, statement, parameters, context)\u001B[0m\n\u001B[0;32m    921\u001B[0m \u001B[38;5;28;01mdef\u001B[39;00m \u001B[38;5;21mdo_execute\u001B[39m(\u001B[38;5;28mself\u001B[39m, cursor, statement, parameters, context\u001B[38;5;241m=\u001B[39m\u001B[38;5;28;01mNone\u001B[39;00m):\n\u001B[1;32m--> 922\u001B[0m     cursor\u001B[38;5;241m.\u001B[39mexecute(statement, parameters)\n",
      "File \u001B[1;32m~\\anaconda3\\Lib\\site-packages\\pymysql\\cursors.py:153\u001B[0m, in \u001B[0;36mCursor.execute\u001B[1;34m(self, query, args)\u001B[0m\n\u001B[0;32m    149\u001B[0m     \u001B[38;5;28;01mpass\u001B[39;00m\n\u001B[0;32m    151\u001B[0m query \u001B[38;5;241m=\u001B[39m \u001B[38;5;28mself\u001B[39m\u001B[38;5;241m.\u001B[39mmogrify(query, args)\n\u001B[1;32m--> 153\u001B[0m result \u001B[38;5;241m=\u001B[39m \u001B[38;5;28mself\u001B[39m\u001B[38;5;241m.\u001B[39m_query(query)\n\u001B[0;32m    154\u001B[0m \u001B[38;5;28mself\u001B[39m\u001B[38;5;241m.\u001B[39m_executed \u001B[38;5;241m=\u001B[39m query\n\u001B[0;32m    155\u001B[0m \u001B[38;5;28;01mreturn\u001B[39;00m result\n",
      "File \u001B[1;32m~\\anaconda3\\Lib\\site-packages\\pymysql\\cursors.py:322\u001B[0m, in \u001B[0;36mCursor._query\u001B[1;34m(self, q)\u001B[0m\n\u001B[0;32m    320\u001B[0m conn \u001B[38;5;241m=\u001B[39m \u001B[38;5;28mself\u001B[39m\u001B[38;5;241m.\u001B[39m_get_db()\n\u001B[0;32m    321\u001B[0m \u001B[38;5;28mself\u001B[39m\u001B[38;5;241m.\u001B[39m_clear_result()\n\u001B[1;32m--> 322\u001B[0m conn\u001B[38;5;241m.\u001B[39mquery(q)\n\u001B[0;32m    323\u001B[0m \u001B[38;5;28mself\u001B[39m\u001B[38;5;241m.\u001B[39m_do_get_result()\n\u001B[0;32m    324\u001B[0m \u001B[38;5;28;01mreturn\u001B[39;00m \u001B[38;5;28mself\u001B[39m\u001B[38;5;241m.\u001B[39mrowcount\n",
      "File \u001B[1;32m~\\anaconda3\\Lib\\site-packages\\pymysql\\connections.py:558\u001B[0m, in \u001B[0;36mConnection.query\u001B[1;34m(self, sql, unbuffered)\u001B[0m\n\u001B[0;32m    556\u001B[0m     sql \u001B[38;5;241m=\u001B[39m sql\u001B[38;5;241m.\u001B[39mencode(\u001B[38;5;28mself\u001B[39m\u001B[38;5;241m.\u001B[39mencoding, \u001B[38;5;124m\"\u001B[39m\u001B[38;5;124msurrogateescape\u001B[39m\u001B[38;5;124m\"\u001B[39m)\n\u001B[0;32m    557\u001B[0m \u001B[38;5;28mself\u001B[39m\u001B[38;5;241m.\u001B[39m_execute_command(COMMAND\u001B[38;5;241m.\u001B[39mCOM_QUERY, sql)\n\u001B[1;32m--> 558\u001B[0m \u001B[38;5;28mself\u001B[39m\u001B[38;5;241m.\u001B[39m_affected_rows \u001B[38;5;241m=\u001B[39m \u001B[38;5;28mself\u001B[39m\u001B[38;5;241m.\u001B[39m_read_query_result(unbuffered\u001B[38;5;241m=\u001B[39munbuffered)\n\u001B[0;32m    559\u001B[0m \u001B[38;5;28;01mreturn\u001B[39;00m \u001B[38;5;28mself\u001B[39m\u001B[38;5;241m.\u001B[39m_affected_rows\n",
      "File \u001B[1;32m~\\anaconda3\\Lib\\site-packages\\pymysql\\connections.py:822\u001B[0m, in \u001B[0;36mConnection._read_query_result\u001B[1;34m(self, unbuffered)\u001B[0m\n\u001B[0;32m    820\u001B[0m \u001B[38;5;28;01melse\u001B[39;00m:\n\u001B[0;32m    821\u001B[0m     result \u001B[38;5;241m=\u001B[39m MySQLResult(\u001B[38;5;28mself\u001B[39m)\n\u001B[1;32m--> 822\u001B[0m     result\u001B[38;5;241m.\u001B[39mread()\n\u001B[0;32m    823\u001B[0m \u001B[38;5;28mself\u001B[39m\u001B[38;5;241m.\u001B[39m_result \u001B[38;5;241m=\u001B[39m result\n\u001B[0;32m    824\u001B[0m \u001B[38;5;28;01mif\u001B[39;00m result\u001B[38;5;241m.\u001B[39mserver_status \u001B[38;5;129;01mis\u001B[39;00m \u001B[38;5;129;01mnot\u001B[39;00m \u001B[38;5;28;01mNone\u001B[39;00m:\n",
      "File \u001B[1;32m~\\anaconda3\\Lib\\site-packages\\pymysql\\connections.py:1200\u001B[0m, in \u001B[0;36mMySQLResult.read\u001B[1;34m(self)\u001B[0m\n\u001B[0;32m   1198\u001B[0m \u001B[38;5;28;01mdef\u001B[39;00m \u001B[38;5;21mread\u001B[39m(\u001B[38;5;28mself\u001B[39m):\n\u001B[0;32m   1199\u001B[0m     \u001B[38;5;28;01mtry\u001B[39;00m:\n\u001B[1;32m-> 1200\u001B[0m         first_packet \u001B[38;5;241m=\u001B[39m \u001B[38;5;28mself\u001B[39m\u001B[38;5;241m.\u001B[39mconnection\u001B[38;5;241m.\u001B[39m_read_packet()\n\u001B[0;32m   1202\u001B[0m         \u001B[38;5;28;01mif\u001B[39;00m first_packet\u001B[38;5;241m.\u001B[39mis_ok_packet():\n\u001B[0;32m   1203\u001B[0m             \u001B[38;5;28mself\u001B[39m\u001B[38;5;241m.\u001B[39m_read_ok_packet(first_packet)\n",
      "File \u001B[1;32m~\\anaconda3\\Lib\\site-packages\\pymysql\\connections.py:772\u001B[0m, in \u001B[0;36mConnection._read_packet\u001B[1;34m(self, packet_type)\u001B[0m\n\u001B[0;32m    770\u001B[0m     \u001B[38;5;28;01mif\u001B[39;00m \u001B[38;5;28mself\u001B[39m\u001B[38;5;241m.\u001B[39m_result \u001B[38;5;129;01mis\u001B[39;00m \u001B[38;5;129;01mnot\u001B[39;00m \u001B[38;5;28;01mNone\u001B[39;00m \u001B[38;5;129;01mand\u001B[39;00m \u001B[38;5;28mself\u001B[39m\u001B[38;5;241m.\u001B[39m_result\u001B[38;5;241m.\u001B[39munbuffered_active \u001B[38;5;129;01mis\u001B[39;00m \u001B[38;5;28;01mTrue\u001B[39;00m:\n\u001B[0;32m    771\u001B[0m         \u001B[38;5;28mself\u001B[39m\u001B[38;5;241m.\u001B[39m_result\u001B[38;5;241m.\u001B[39munbuffered_active \u001B[38;5;241m=\u001B[39m \u001B[38;5;28;01mFalse\u001B[39;00m\n\u001B[1;32m--> 772\u001B[0m     packet\u001B[38;5;241m.\u001B[39mraise_for_error()\n\u001B[0;32m    773\u001B[0m \u001B[38;5;28;01mreturn\u001B[39;00m packet\n",
      "File \u001B[1;32m~\\anaconda3\\Lib\\site-packages\\pymysql\\protocol.py:221\u001B[0m, in \u001B[0;36mMysqlPacket.raise_for_error\u001B[1;34m(self)\u001B[0m\n\u001B[0;32m    219\u001B[0m \u001B[38;5;28;01mif\u001B[39;00m DEBUG:\n\u001B[0;32m    220\u001B[0m     \u001B[38;5;28mprint\u001B[39m(\u001B[38;5;124m\"\u001B[39m\u001B[38;5;124merrno =\u001B[39m\u001B[38;5;124m\"\u001B[39m, errno)\n\u001B[1;32m--> 221\u001B[0m err\u001B[38;5;241m.\u001B[39mraise_mysql_exception(\u001B[38;5;28mself\u001B[39m\u001B[38;5;241m.\u001B[39m_data)\n",
      "File \u001B[1;32m~\\anaconda3\\Lib\\site-packages\\pymysql\\err.py:143\u001B[0m, in \u001B[0;36mraise_mysql_exception\u001B[1;34m(data)\u001B[0m\n\u001B[0;32m    141\u001B[0m \u001B[38;5;28;01mif\u001B[39;00m errorclass \u001B[38;5;129;01mis\u001B[39;00m \u001B[38;5;28;01mNone\u001B[39;00m:\n\u001B[0;32m    142\u001B[0m     errorclass \u001B[38;5;241m=\u001B[39m InternalError \u001B[38;5;28;01mif\u001B[39;00m errno \u001B[38;5;241m<\u001B[39m \u001B[38;5;241m1000\u001B[39m \u001B[38;5;28;01melse\u001B[39;00m OperationalError\n\u001B[1;32m--> 143\u001B[0m \u001B[38;5;28;01mraise\u001B[39;00m errorclass(errno, errval)\n",
      "\u001B[1;31mIntegrityError\u001B[0m: (pymysql.err.IntegrityError) (1062, \"Duplicate entry '광주광역시-사립-여자-명-2013' for key 'KMS_중학교.PRIMARY'\")\n[SQL: \n        alter table KMS_중학교\n            add constraint KMS_중학교_pk\n                primary key (시도별, 설립주체별, 학교현황별, 단위, year);]\n(Background on this error at: https://sqlalche.me/e/20/gkpj)"
     ]
    }
   ],
   "source": [
    "for df_tmp, name in [(df_middleschoole, 'KMS_중학교'), (df_highschool, 'KMS_고등학교')]:\n",
    "    # print(df_tmp.tail())\n",
    "    conn.execute(querytoText(f'''drop table if exists {name}'''))\n",
    "    conn.commit()\n",
    "    df_midwithyear = df_tmp.set_index(list(df_tmp.columns[:4])).stack().reset_index(name = '값')\n",
    "    df_midwithyear.columns = ['시도별', '설립주체별', '학교현황별', '단위', 'year', '값']\n",
    "    df_midwithyear[df_midwithyear.columns[:-1]].drop_duplicates(inplace=True)\n",
    "    df_midwithyear.to_sql(f'{name}', \n",
    "                         con=engine, \n",
    "                         if_exists='replace', \n",
    "                         index=False\n",
    "                         )\n",
    "    conn.execute(querytoText(f'''\n",
    "alter table {name}\n",
    "    modify year smallint not null;'''))\n",
    "    \n",
    "    for col in ['시도별', '설립주체별', '학교현황별', '단위']:\n",
    "        conn.execute(querytoText(f'''\n",
    "                alter table {name}\n",
    "            modify {col} varchar(30) not null;\n",
    "        '''))\n",
    "    conn.execute(querytoText(f'''\n",
    "        alter table {name}\n",
    "            add constraint {name}_pk\n",
    "                primary key ({\", \".join(['시도별', '설립주체별', '학교현황별', '단위', 'year'])});'''))\n",
    "    conn.commit()\n",
    "    df_midwithyear = None"
   ],
   "metadata": {
    "collapsed": false,
    "ExecuteTime": {
     "end_time": "2024-02-05T12:52:19.819120800Z",
     "start_time": "2024-02-05T12:52:17.566404800Z"
    }
   },
   "id": "35069478d7618a5",
   "execution_count": 375
  },
  {
   "cell_type": "markdown",
   "source": [],
   "metadata": {
    "collapsed": false
   },
   "id": "f75bc82cbead6191"
  },
  {
   "cell_type": "code",
   "outputs": [],
   "source": [],
   "metadata": {
    "collapsed": false,
    "ExecuteTime": {
     "start_time": "2024-02-05T12:48:08.499625600Z"
    }
   },
   "id": "b65fdd9b5ee3540b",
   "execution_count": null
  }
 ],
 "metadata": {
  "kernelspec": {
   "display_name": "Python 3",
   "language": "python",
   "name": "python3"
  },
  "language_info": {
   "codemirror_mode": {
    "name": "ipython",
    "version": 2
   },
   "file_extension": ".py",
   "mimetype": "text/x-python",
   "name": "python",
   "nbconvert_exporter": "python",
   "pygments_lexer": "ipython2",
   "version": "2.7.6"
  }
 },
 "nbformat": 4,
 "nbformat_minor": 5
}
