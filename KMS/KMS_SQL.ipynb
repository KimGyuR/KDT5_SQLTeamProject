{
 "cells": [
  {
   "cell_type": "code",
   "execution_count": 1,
   "id": "initial_id",
   "metadata": {
    "collapsed": true,
    "ExecuteTime": {
     "end_time": "2024-02-05T04:11:33.006158200Z",
     "start_time": "2024-02-05T04:11:32.268135Z"
    }
   },
   "outputs": [],
   "source": [
    "import pandas as pd\n",
    "import pymysql\n",
    "import sqlalchemy"
   ]
  },
  {
   "cell_type": "code",
   "outputs": [
    {
     "data": {
      "text/plain": "     year                category  prize_amount                      fullname  \\\n0    1901  Physiology or Medicine        150782        Emil Adolf von Behring   \n1    1901                   Peace        150782                Frédéric Passy   \n2    1901                   Peace        150782             Jean Henry Dunant   \n3    1901               Chemistry        150782  Jacobus Henricus van 't Hoff   \n4    1901              Literature        150782               Sully Prudhomme   \n..    ...                     ...           ...                           ...   \n945  2019       Economic Sciences       9000000                Michael Kremer   \n946  2019                 Physics       9000000                  Michel Mayor   \n947  2019              Literature       9000000                  Peter Handke   \n948  2019  Physiology or Medicine       9000000        Sir Peter J. Ratcliffe   \n949  2019  Physiology or Medicine       9000000          William G. Kaelin Jr   \n\n    gender birth_continent    birth_country  \n0     male          Europe          Prussia  \n1     male          Europe           France  \n2     male          Europe      Switzerland  \n3     male          Europe  the Netherlands  \n4     male          Europe           France  \n..     ...             ...              ...  \n945   male   North America              USA  \n946   male          Europe      Switzerland  \n947   male          Europe          Austria  \n948   male          Europe   United Kingdom  \n949   male   North America              USA  \n\n[950 rows x 7 columns]",
      "text/html": "<div>\n<style scoped>\n    .dataframe tbody tr th:only-of-type {\n        vertical-align: middle;\n    }\n\n    .dataframe tbody tr th {\n        vertical-align: top;\n    }\n\n    .dataframe thead th {\n        text-align: right;\n    }\n</style>\n<table border=\"1\" class=\"dataframe\">\n  <thead>\n    <tr style=\"text-align: right;\">\n      <th></th>\n      <th>year</th>\n      <th>category</th>\n      <th>prize_amount</th>\n      <th>fullname</th>\n      <th>gender</th>\n      <th>birth_continent</th>\n      <th>birth_country</th>\n    </tr>\n  </thead>\n  <tbody>\n    <tr>\n      <th>0</th>\n      <td>1901</td>\n      <td>Physiology or Medicine</td>\n      <td>150782</td>\n      <td>Emil Adolf von Behring</td>\n      <td>male</td>\n      <td>Europe</td>\n      <td>Prussia</td>\n    </tr>\n    <tr>\n      <th>1</th>\n      <td>1901</td>\n      <td>Peace</td>\n      <td>150782</td>\n      <td>Frédéric Passy</td>\n      <td>male</td>\n      <td>Europe</td>\n      <td>France</td>\n    </tr>\n    <tr>\n      <th>2</th>\n      <td>1901</td>\n      <td>Peace</td>\n      <td>150782</td>\n      <td>Jean Henry Dunant</td>\n      <td>male</td>\n      <td>Europe</td>\n      <td>Switzerland</td>\n    </tr>\n    <tr>\n      <th>3</th>\n      <td>1901</td>\n      <td>Chemistry</td>\n      <td>150782</td>\n      <td>Jacobus Henricus van 't Hoff</td>\n      <td>male</td>\n      <td>Europe</td>\n      <td>the Netherlands</td>\n    </tr>\n    <tr>\n      <th>4</th>\n      <td>1901</td>\n      <td>Literature</td>\n      <td>150782</td>\n      <td>Sully Prudhomme</td>\n      <td>male</td>\n      <td>Europe</td>\n      <td>France</td>\n    </tr>\n    <tr>\n      <th>...</th>\n      <td>...</td>\n      <td>...</td>\n      <td>...</td>\n      <td>...</td>\n      <td>...</td>\n      <td>...</td>\n      <td>...</td>\n    </tr>\n    <tr>\n      <th>945</th>\n      <td>2019</td>\n      <td>Economic Sciences</td>\n      <td>9000000</td>\n      <td>Michael Kremer</td>\n      <td>male</td>\n      <td>North America</td>\n      <td>USA</td>\n    </tr>\n    <tr>\n      <th>946</th>\n      <td>2019</td>\n      <td>Physics</td>\n      <td>9000000</td>\n      <td>Michel Mayor</td>\n      <td>male</td>\n      <td>Europe</td>\n      <td>Switzerland</td>\n    </tr>\n    <tr>\n      <th>947</th>\n      <td>2019</td>\n      <td>Literature</td>\n      <td>9000000</td>\n      <td>Peter Handke</td>\n      <td>male</td>\n      <td>Europe</td>\n      <td>Austria</td>\n    </tr>\n    <tr>\n      <th>948</th>\n      <td>2019</td>\n      <td>Physiology or Medicine</td>\n      <td>9000000</td>\n      <td>Sir Peter J. Ratcliffe</td>\n      <td>male</td>\n      <td>Europe</td>\n      <td>United Kingdom</td>\n    </tr>\n    <tr>\n      <th>949</th>\n      <td>2019</td>\n      <td>Physiology or Medicine</td>\n      <td>9000000</td>\n      <td>William G. Kaelin Jr</td>\n      <td>male</td>\n      <td>North America</td>\n      <td>USA</td>\n    </tr>\n  </tbody>\n</table>\n<p>950 rows × 7 columns</p>\n</div>"
     },
     "execution_count": 10,
     "metadata": {},
     "output_type": "execute_result"
    }
   ],
   "source": [
    "passwd = '1234Q1@'\n",
    "\n",
    "url = sqlalchemy.engine.URL.create(\n",
    "\tdrivername=\"mysql+pymysql\",\n",
    "    username='KMS',\n",
    "    password=passwd,\n",
    "    host='175.122.58.102',\n",
    "    port='33063',\n",
    "    database='ProjectDB',\n",
    ")\n",
    "\n",
    "engine = sqlalchemy.create_engine(url)\n",
    "\n",
    "pd.read_sql('select * from nobel', engine)\n",
    "\n",
    "test = engine.connect()\n"
   ],
   "metadata": {
    "collapsed": false,
    "ExecuteTime": {
     "end_time": "2024-02-05T04:22:48.894628100Z",
     "start_time": "2024-02-05T04:22:48.621681200Z"
    }
   },
   "id": "7f7b172d76656248",
   "execution_count": 10
  }
 ],
 "metadata": {
  "kernelspec": {
   "display_name": "Python 3",
   "language": "python",
   "name": "python3"
  },
  "language_info": {
   "codemirror_mode": {
    "name": "ipython",
    "version": 2
   },
   "file_extension": ".py",
   "mimetype": "text/x-python",
   "name": "python",
   "nbconvert_exporter": "python",
   "pygments_lexer": "ipython2",
   "version": "2.7.6"
  }
 },
 "nbformat": 4,
 "nbformat_minor": 5
}
