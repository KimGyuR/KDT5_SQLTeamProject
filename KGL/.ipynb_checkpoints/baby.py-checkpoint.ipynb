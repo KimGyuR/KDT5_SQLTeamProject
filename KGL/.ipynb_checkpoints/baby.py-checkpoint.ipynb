{
 "cells": [
  {
   "cell_type": "code",
   "execution_count": 2,
   "id": "initial_id",
   "metadata": {
    "ExecuteTime": {
     "end_time": "2024-02-05T12:00:32.229562900Z",
     "start_time": "2024-02-05T12:00:32.222589200Z"
    }
   },
   "outputs": [],
   "source": [
    "import csv\n",
    "import numpy as np\n",
    "import pandas as pd\n",
    "import matplotlib.pyplot as plt\n",
    "import matplotlib.font_manager as fm\n",
    "\n",
    "# 나눔글꼴 경로 설정\n",
    "font_path = 'C:\\Windows\\Fonts\\H2GTRM.TTF'\n",
    "\n",
    "# 폰트 이름 가져오기\n",
    "font_name = fm.FontProperties(fname=font_path).get_name()\n",
    "\n",
    "# 폰트 설정\n",
    "plt.rc('font', family=font_name)"
   ]
  },
  {
   "cell_type": "code",
   "execution_count": 3,
   "id": "12abdcd768388ca1",
   "metadata": {
    "ExecuteTime": {
     "end_time": "2024-02-05T12:00:33.318320400Z",
     "start_time": "2024-02-05T12:00:33.310812300Z"
    }
   },
   "outputs": [],
   "source": [
    "file1 = \"./총인구.csv\"\n",
    "file2 = \"./출생아수.csv\""
   ]
  },
  {
   "cell_type": "code",
   "execution_count": 4,
   "id": "f22e4c0f504f4329",
   "metadata": {
    "ExecuteTime": {
     "end_time": "2024-02-05T12:00:33.792021500Z",
     "start_time": "2024-02-05T12:00:33.780824600Z"
    }
   },
   "outputs": [
    {
     "data": {
      "text/html": [
       "<div>\n",
       "<style scoped>\n",
       "    .dataframe tbody tr th:only-of-type {\n",
       "        vertical-align: middle;\n",
       "    }\n",
       "\n",
       "    .dataframe tbody tr th {\n",
       "        vertical-align: top;\n",
       "    }\n",
       "\n",
       "    .dataframe thead th {\n",
       "        text-align: right;\n",
       "    }\n",
       "</style>\n",
       "<table border=\"1\" class=\"dataframe\">\n",
       "  <thead>\n",
       "    <tr style=\"text-align: right;\">\n",
       "      <th></th>\n",
       "      <th>시점</th>\n",
       "      <th>총인구(명)</th>\n",
       "      <th>인구(명): 0-14세</th>\n",
       "      <th>인구(명): 15-64세</th>\n",
       "      <th>인구(명): 65세 이상</th>\n",
       "      <th>- 구성비(%): 0-14세</th>\n",
       "      <th>- 구성비(%): 15-64세</th>\n",
       "      <th>- 구성비(%): 65세 이상</th>\n",
       "    </tr>\n",
       "  </thead>\n",
       "  <tbody>\n",
       "    <tr>\n",
       "      <th>0</th>\n",
       "      <td>2013</td>\n",
       "      <td>50,428,893</td>\n",
       "      <td>7,392,237</td>\n",
       "      <td>37,013,997</td>\n",
       "      <td>6,022,659</td>\n",
       "      <td>14.7</td>\n",
       "      <td>73.4</td>\n",
       "      <td>11.9</td>\n",
       "    </tr>\n",
       "    <tr>\n",
       "      <th>1</th>\n",
       "      <td>2014</td>\n",
       "      <td>50,746,659</td>\n",
       "      <td>7,213,693</td>\n",
       "      <td>37,255,840</td>\n",
       "      <td>6,277,126</td>\n",
       "      <td>14.2</td>\n",
       "      <td>73.4</td>\n",
       "      <td>12.4</td>\n",
       "    </tr>\n",
       "    <tr>\n",
       "      <th>2</th>\n",
       "      <td>2015</td>\n",
       "      <td>51,014,947</td>\n",
       "      <td>7,029,883</td>\n",
       "      <td>37,443,896</td>\n",
       "      <td>6,541,168</td>\n",
       "      <td>13.8</td>\n",
       "      <td>73.4</td>\n",
       "      <td>12.8</td>\n",
       "    </tr>\n",
       "    <tr>\n",
       "      <th>3</th>\n",
       "      <td>2016</td>\n",
       "      <td>51,217,803</td>\n",
       "      <td>6,864,563</td>\n",
       "      <td>37,596,157</td>\n",
       "      <td>6,757,083</td>\n",
       "      <td>13.4</td>\n",
       "      <td>73.4</td>\n",
       "      <td>13.2</td>\n",
       "    </tr>\n",
       "    <tr>\n",
       "      <th>4</th>\n",
       "      <td>2017</td>\n",
       "      <td>51,361,911</td>\n",
       "      <td>6,724,283</td>\n",
       "      <td>37,571,568</td>\n",
       "      <td>7,066,060</td>\n",
       "      <td>13.1</td>\n",
       "      <td>73.2</td>\n",
       "      <td>13.8</td>\n",
       "    </tr>\n",
       "    <tr>\n",
       "      <th>5</th>\n",
       "      <td>2018</td>\n",
       "      <td>51,585,058</td>\n",
       "      <td>6,595,054</td>\n",
       "      <td>37,623,919</td>\n",
       "      <td>7,366,085</td>\n",
       "      <td>12.8</td>\n",
       "      <td>72.9</td>\n",
       "      <td>14.3</td>\n",
       "    </tr>\n",
       "    <tr>\n",
       "      <th>6</th>\n",
       "      <td>2019</td>\n",
       "      <td>51,764,822</td>\n",
       "      <td>6,448,080</td>\n",
       "      <td>37,627,748</td>\n",
       "      <td>7,688,994</td>\n",
       "      <td>12.5</td>\n",
       "      <td>72.7</td>\n",
       "      <td>14.9</td>\n",
       "    </tr>\n",
       "    <tr>\n",
       "      <th>7</th>\n",
       "      <td>2020</td>\n",
       "      <td>51,836,239</td>\n",
       "      <td>6,305,870</td>\n",
       "      <td>37,378,502</td>\n",
       "      <td>8,151,867</td>\n",
       "      <td>12.2</td>\n",
       "      <td>72.1</td>\n",
       "      <td>15.7</td>\n",
       "    </tr>\n",
       "    <tr>\n",
       "      <th>8</th>\n",
       "      <td>2021</td>\n",
       "      <td>51,769,539</td>\n",
       "      <td>6,148,341</td>\n",
       "      <td>37,051,333</td>\n",
       "      <td>8,569,865</td>\n",
       "      <td>11.9</td>\n",
       "      <td>71.6</td>\n",
       "      <td>16.6</td>\n",
       "    </tr>\n",
       "    <tr>\n",
       "      <th>9</th>\n",
       "      <td>2022</td>\n",
       "      <td>51,672,569</td>\n",
       "      <td>5,947,964</td>\n",
       "      <td>36,743,472</td>\n",
       "      <td>8,981,133</td>\n",
       "      <td>11.5</td>\n",
       "      <td>71.1</td>\n",
       "      <td>17.4</td>\n",
       "    </tr>\n",
       "    <tr>\n",
       "      <th>10</th>\n",
       "      <td>2023</td>\n",
       "      <td>51,712,619</td>\n",
       "      <td>5,705,235</td>\n",
       "      <td>36,571,568</td>\n",
       "      <td>9,435,816</td>\n",
       "      <td>11.0</td>\n",
       "      <td>70.7</td>\n",
       "      <td>18.2</td>\n",
       "    </tr>\n",
       "  </tbody>\n",
       "</table>\n",
       "</div>"
      ],
      "text/plain": [
       "      시점      총인구(명) 인구(명): 0-14세 인구(명): 15-64세 인구(명): 65세 이상  \\\n",
       "0   2013  50,428,893    7,392,237    37,013,997     6,022,659   \n",
       "1   2014  50,746,659    7,213,693    37,255,840     6,277,126   \n",
       "2   2015  51,014,947    7,029,883    37,443,896     6,541,168   \n",
       "3   2016  51,217,803    6,864,563    37,596,157     6,757,083   \n",
       "4   2017  51,361,911    6,724,283    37,571,568     7,066,060   \n",
       "5   2018  51,585,058    6,595,054    37,623,919     7,366,085   \n",
       "6   2019  51,764,822    6,448,080    37,627,748     7,688,994   \n",
       "7   2020  51,836,239    6,305,870    37,378,502     8,151,867   \n",
       "8   2021  51,769,539    6,148,341    37,051,333     8,569,865   \n",
       "9   2022  51,672,569    5,947,964    36,743,472     8,981,133   \n",
       "10  2023  51,712,619    5,705,235    36,571,568     9,435,816   \n",
       "\n",
       "    - 구성비(%): 0-14세  - 구성비(%): 15-64세  - 구성비(%): 65세 이상  \n",
       "0              14.7              73.4              11.9  \n",
       "1              14.2              73.4              12.4  \n",
       "2              13.8              73.4              12.8  \n",
       "3              13.4              73.4              13.2  \n",
       "4              13.1              73.2              13.8  \n",
       "5              12.8              72.9              14.3  \n",
       "6              12.5              72.7              14.9  \n",
       "7              12.2              72.1              15.7  \n",
       "8              11.9              71.6              16.6  \n",
       "9              11.5              71.1              17.4  \n",
       "10             11.0              70.7              18.2  "
      ]
     },
     "execution_count": 4,
     "metadata": {},
     "output_type": "execute_result"
    }
   ],
   "source": [
    "peopleDF = pd.read_csv(file1)\n",
    "peopleDF"
   ]
  },
  {
   "cell_type": "code",
   "execution_count": 5,
   "id": "d94fb70bd404612d",
   "metadata": {
    "ExecuteTime": {
     "end_time": "2024-02-05T12:00:34.400784100Z",
     "start_time": "2024-02-05T12:00:34.390465Z"
    }
   },
   "outputs": [
    {
     "data": {
      "text/html": [
       "<div>\n",
       "<style scoped>\n",
       "    .dataframe tbody tr th:only-of-type {\n",
       "        vertical-align: middle;\n",
       "    }\n",
       "\n",
       "    .dataframe tbody tr th {\n",
       "        vertical-align: top;\n",
       "    }\n",
       "\n",
       "    .dataframe thead th {\n",
       "        text-align: right;\n",
       "    }\n",
       "</style>\n",
       "<table border=\"1\" class=\"dataframe\">\n",
       "  <thead>\n",
       "    <tr style=\"text-align: right;\">\n",
       "      <th></th>\n",
       "      <th>시점</th>\n",
       "      <th>전국</th>\n",
       "      <th>전국.1</th>\n",
       "      <th>전국.2</th>\n",
       "    </tr>\n",
       "  </thead>\n",
       "  <tbody>\n",
       "    <tr>\n",
       "      <th>0</th>\n",
       "      <td>시점</td>\n",
       "      <td>출생아수(명)</td>\n",
       "      <td>사망자수(명)</td>\n",
       "      <td>합계출산율</td>\n",
       "    </tr>\n",
       "    <tr>\n",
       "      <th>1</th>\n",
       "      <td>2013</td>\n",
       "      <td>436,455</td>\n",
       "      <td>266,257</td>\n",
       "      <td>1.19</td>\n",
       "    </tr>\n",
       "    <tr>\n",
       "      <th>2</th>\n",
       "      <td>2014</td>\n",
       "      <td>435,435</td>\n",
       "      <td>267,692</td>\n",
       "      <td>1.21</td>\n",
       "    </tr>\n",
       "    <tr>\n",
       "      <th>3</th>\n",
       "      <td>2015</td>\n",
       "      <td>438,420</td>\n",
       "      <td>275,895</td>\n",
       "      <td>1.24</td>\n",
       "    </tr>\n",
       "    <tr>\n",
       "      <th>4</th>\n",
       "      <td>2016</td>\n",
       "      <td>406,243</td>\n",
       "      <td>280,827</td>\n",
       "      <td>1.17</td>\n",
       "    </tr>\n",
       "    <tr>\n",
       "      <th>5</th>\n",
       "      <td>2017</td>\n",
       "      <td>357,771</td>\n",
       "      <td>285,534</td>\n",
       "      <td>1.05</td>\n",
       "    </tr>\n",
       "    <tr>\n",
       "      <th>6</th>\n",
       "      <td>2018</td>\n",
       "      <td>326,822</td>\n",
       "      <td>298,820</td>\n",
       "      <td>0.98</td>\n",
       "    </tr>\n",
       "    <tr>\n",
       "      <th>7</th>\n",
       "      <td>2019</td>\n",
       "      <td>302,676</td>\n",
       "      <td>295,110</td>\n",
       "      <td>0.92</td>\n",
       "    </tr>\n",
       "    <tr>\n",
       "      <th>8</th>\n",
       "      <td>2020</td>\n",
       "      <td>272,337</td>\n",
       "      <td>304,948</td>\n",
       "      <td>0.84</td>\n",
       "    </tr>\n",
       "    <tr>\n",
       "      <th>9</th>\n",
       "      <td>2021</td>\n",
       "      <td>260,562</td>\n",
       "      <td>317,680</td>\n",
       "      <td>0.81</td>\n",
       "    </tr>\n",
       "    <tr>\n",
       "      <th>10</th>\n",
       "      <td>2022</td>\n",
       "      <td>249,186</td>\n",
       "      <td>372,939</td>\n",
       "      <td>0.78</td>\n",
       "    </tr>\n",
       "  </tbody>\n",
       "</table>\n",
       "</div>"
      ],
      "text/plain": [
       "      시점       전국     전국.1   전국.2\n",
       "0     시점  출생아수(명)  사망자수(명)  합계출산율\n",
       "1   2013  436,455  266,257   1.19\n",
       "2   2014  435,435  267,692   1.21\n",
       "3   2015  438,420  275,895   1.24\n",
       "4   2016  406,243  280,827   1.17\n",
       "5   2017  357,771  285,534   1.05\n",
       "6   2018  326,822  298,820   0.98\n",
       "7   2019  302,676  295,110   0.92\n",
       "8   2020  272,337  304,948   0.84\n",
       "9   2021  260,562  317,680   0.81\n",
       "10  2022  249,186  372,939   0.78"
      ]
     },
     "execution_count": 5,
     "metadata": {},
     "output_type": "execute_result"
    }
   ],
   "source": [
    "babyDF = pd.read_csv(file2)\n",
    "babyDF"
   ]
  },
  {
   "cell_type": "code",
   "execution_count": 6,
   "id": "b5202385885c97a",
   "metadata": {
    "ExecuteTime": {
     "end_time": "2024-02-05T13:13:41.676145300Z",
     "start_time": "2024-02-05T13:13:41.557425800Z"
    }
   },
   "outputs": [
    {
     "ename": "ValueError",
     "evalue": "x and y must have same first dimension, but have shapes (10,) and (11,)",
     "output_type": "error",
     "traceback": [
      "\u001b[1;31m---------------------------------------------------------------------------\u001b[0m",
      "\u001b[1;31mValueError\u001b[0m                                Traceback (most recent call last)",
      "Cell \u001b[1;32mIn[6], line 8\u001b[0m\n\u001b[0;32m      5\u001b[0m x \u001b[38;5;241m=\u001b[39m \u001b[38;5;28mrange\u001b[39m(\u001b[38;5;241m2013\u001b[39m, \u001b[38;5;241m2023\u001b[39m)\n\u001b[0;32m      7\u001b[0m plt\u001b[38;5;241m.\u001b[39mtitle(\u001b[38;5;124m'\u001b[39m\u001b[38;5;124m2013~2023년의 대한민국 총 인구 변화\u001b[39m\u001b[38;5;124m'\u001b[39m)\n\u001b[1;32m----> 8\u001b[0m plt\u001b[38;5;241m.\u001b[39mplot(x,y, color\u001b[38;5;241m=\u001b[39m\u001b[38;5;124m'\u001b[39m\u001b[38;5;124mskyblue\u001b[39m\u001b[38;5;124m'\u001b[39m)\n\u001b[0;32m      9\u001b[0m plt\u001b[38;5;241m.\u001b[39mxlabel(\u001b[38;5;124m'\u001b[39m\u001b[38;5;124m년도\u001b[39m\u001b[38;5;124m'\u001b[39m)\n\u001b[0;32m     10\u001b[0m plt\u001b[38;5;241m.\u001b[39mylabel(\u001b[38;5;124m'\u001b[39m\u001b[38;5;124m인구수(천만명)\u001b[39m\u001b[38;5;124m'\u001b[39m)\n",
      "File \u001b[1;32mC:\\ProgramData\\anaconda3\\Lib\\site-packages\\matplotlib\\pyplot.py:2812\u001b[0m, in \u001b[0;36mplot\u001b[1;34m(scalex, scaley, data, *args, **kwargs)\u001b[0m\n\u001b[0;32m   2810\u001b[0m \u001b[38;5;129m@_copy_docstring_and_deprecators\u001b[39m(Axes\u001b[38;5;241m.\u001b[39mplot)\n\u001b[0;32m   2811\u001b[0m \u001b[38;5;28;01mdef\u001b[39;00m \u001b[38;5;21mplot\u001b[39m(\u001b[38;5;241m*\u001b[39margs, scalex\u001b[38;5;241m=\u001b[39m\u001b[38;5;28;01mTrue\u001b[39;00m, scaley\u001b[38;5;241m=\u001b[39m\u001b[38;5;28;01mTrue\u001b[39;00m, data\u001b[38;5;241m=\u001b[39m\u001b[38;5;28;01mNone\u001b[39;00m, \u001b[38;5;241m*\u001b[39m\u001b[38;5;241m*\u001b[39mkwargs):\n\u001b[1;32m-> 2812\u001b[0m     \u001b[38;5;28;01mreturn\u001b[39;00m gca()\u001b[38;5;241m.\u001b[39mplot(\n\u001b[0;32m   2813\u001b[0m         \u001b[38;5;241m*\u001b[39margs, scalex\u001b[38;5;241m=\u001b[39mscalex, scaley\u001b[38;5;241m=\u001b[39mscaley,\n\u001b[0;32m   2814\u001b[0m         \u001b[38;5;241m*\u001b[39m\u001b[38;5;241m*\u001b[39m({\u001b[38;5;124m\"\u001b[39m\u001b[38;5;124mdata\u001b[39m\u001b[38;5;124m\"\u001b[39m: data} \u001b[38;5;28;01mif\u001b[39;00m data \u001b[38;5;129;01mis\u001b[39;00m \u001b[38;5;129;01mnot\u001b[39;00m \u001b[38;5;28;01mNone\u001b[39;00m \u001b[38;5;28;01melse\u001b[39;00m {}), \u001b[38;5;241m*\u001b[39m\u001b[38;5;241m*\u001b[39mkwargs)\n",
      "File \u001b[1;32mC:\\ProgramData\\anaconda3\\Lib\\site-packages\\matplotlib\\axes\\_axes.py:1688\u001b[0m, in \u001b[0;36mAxes.plot\u001b[1;34m(self, scalex, scaley, data, *args, **kwargs)\u001b[0m\n\u001b[0;32m   1445\u001b[0m \u001b[38;5;250m\u001b[39m\u001b[38;5;124;03m\"\"\"\u001b[39;00m\n\u001b[0;32m   1446\u001b[0m \u001b[38;5;124;03mPlot y versus x as lines and/or markers.\u001b[39;00m\n\u001b[0;32m   1447\u001b[0m \n\u001b[1;32m   (...)\u001b[0m\n\u001b[0;32m   1685\u001b[0m \u001b[38;5;124;03m(``'green'``) or hex strings (``'#008000'``).\u001b[39;00m\n\u001b[0;32m   1686\u001b[0m \u001b[38;5;124;03m\"\"\"\u001b[39;00m\n\u001b[0;32m   1687\u001b[0m kwargs \u001b[38;5;241m=\u001b[39m cbook\u001b[38;5;241m.\u001b[39mnormalize_kwargs(kwargs, mlines\u001b[38;5;241m.\u001b[39mLine2D)\n\u001b[1;32m-> 1688\u001b[0m lines \u001b[38;5;241m=\u001b[39m [\u001b[38;5;241m*\u001b[39m\u001b[38;5;28mself\u001b[39m\u001b[38;5;241m.\u001b[39m_get_lines(\u001b[38;5;241m*\u001b[39margs, data\u001b[38;5;241m=\u001b[39mdata, \u001b[38;5;241m*\u001b[39m\u001b[38;5;241m*\u001b[39mkwargs)]\n\u001b[0;32m   1689\u001b[0m \u001b[38;5;28;01mfor\u001b[39;00m line \u001b[38;5;129;01min\u001b[39;00m lines:\n\u001b[0;32m   1690\u001b[0m     \u001b[38;5;28mself\u001b[39m\u001b[38;5;241m.\u001b[39madd_line(line)\n",
      "File \u001b[1;32mC:\\ProgramData\\anaconda3\\Lib\\site-packages\\matplotlib\\axes\\_base.py:311\u001b[0m, in \u001b[0;36m_process_plot_var_args.__call__\u001b[1;34m(self, data, *args, **kwargs)\u001b[0m\n\u001b[0;32m    309\u001b[0m     this \u001b[38;5;241m+\u001b[39m\u001b[38;5;241m=\u001b[39m args[\u001b[38;5;241m0\u001b[39m],\n\u001b[0;32m    310\u001b[0m     args \u001b[38;5;241m=\u001b[39m args[\u001b[38;5;241m1\u001b[39m:]\n\u001b[1;32m--> 311\u001b[0m \u001b[38;5;28;01myield from\u001b[39;00m \u001b[38;5;28mself\u001b[39m\u001b[38;5;241m.\u001b[39m_plot_args(\n\u001b[0;32m    312\u001b[0m     this, kwargs, ambiguous_fmt_datakey\u001b[38;5;241m=\u001b[39mambiguous_fmt_datakey)\n",
      "File \u001b[1;32mC:\\ProgramData\\anaconda3\\Lib\\site-packages\\matplotlib\\axes\\_base.py:504\u001b[0m, in \u001b[0;36m_process_plot_var_args._plot_args\u001b[1;34m(self, tup, kwargs, return_kwargs, ambiguous_fmt_datakey)\u001b[0m\n\u001b[0;32m    501\u001b[0m     \u001b[38;5;28mself\u001b[39m\u001b[38;5;241m.\u001b[39maxes\u001b[38;5;241m.\u001b[39myaxis\u001b[38;5;241m.\u001b[39mupdate_units(y)\n\u001b[0;32m    503\u001b[0m \u001b[38;5;28;01mif\u001b[39;00m x\u001b[38;5;241m.\u001b[39mshape[\u001b[38;5;241m0\u001b[39m] \u001b[38;5;241m!=\u001b[39m y\u001b[38;5;241m.\u001b[39mshape[\u001b[38;5;241m0\u001b[39m]:\n\u001b[1;32m--> 504\u001b[0m     \u001b[38;5;28;01mraise\u001b[39;00m \u001b[38;5;167;01mValueError\u001b[39;00m(\u001b[38;5;124mf\u001b[39m\u001b[38;5;124m\"\u001b[39m\u001b[38;5;124mx and y must have same first dimension, but \u001b[39m\u001b[38;5;124m\"\u001b[39m\n\u001b[0;32m    505\u001b[0m                      \u001b[38;5;124mf\u001b[39m\u001b[38;5;124m\"\u001b[39m\u001b[38;5;124mhave shapes \u001b[39m\u001b[38;5;132;01m{\u001b[39;00mx\u001b[38;5;241m.\u001b[39mshape\u001b[38;5;132;01m}\u001b[39;00m\u001b[38;5;124m and \u001b[39m\u001b[38;5;132;01m{\u001b[39;00my\u001b[38;5;241m.\u001b[39mshape\u001b[38;5;132;01m}\u001b[39;00m\u001b[38;5;124m\"\u001b[39m)\n\u001b[0;32m    506\u001b[0m \u001b[38;5;28;01mif\u001b[39;00m x\u001b[38;5;241m.\u001b[39mndim \u001b[38;5;241m>\u001b[39m \u001b[38;5;241m2\u001b[39m \u001b[38;5;129;01mor\u001b[39;00m y\u001b[38;5;241m.\u001b[39mndim \u001b[38;5;241m>\u001b[39m \u001b[38;5;241m2\u001b[39m:\n\u001b[0;32m    507\u001b[0m     \u001b[38;5;28;01mraise\u001b[39;00m \u001b[38;5;167;01mValueError\u001b[39;00m(\u001b[38;5;124mf\u001b[39m\u001b[38;5;124m\"\u001b[39m\u001b[38;5;124mx and y can be no greater than 2D, but have \u001b[39m\u001b[38;5;124m\"\u001b[39m\n\u001b[0;32m    508\u001b[0m                      \u001b[38;5;124mf\u001b[39m\u001b[38;5;124m\"\u001b[39m\u001b[38;5;124mshapes \u001b[39m\u001b[38;5;132;01m{\u001b[39;00mx\u001b[38;5;241m.\u001b[39mshape\u001b[38;5;132;01m}\u001b[39;00m\u001b[38;5;124m and \u001b[39m\u001b[38;5;132;01m{\u001b[39;00my\u001b[38;5;241m.\u001b[39mshape\u001b[38;5;132;01m}\u001b[39;00m\u001b[38;5;124m\"\u001b[39m)\n",
      "\u001b[1;31mValueError\u001b[0m: x and y must have same first dimension, but have shapes (10,) and (11,)"
     ]
    },
    {
     "data": {
      "image/png": "[encoded data removed]",
      "text/plain": [
       "<Figure size 640x480 with 1 Axes>"
      ]
     },
     "metadata": {},
     "output_type": "display_data"
    }
   ],
   "source": [
    "# 데이터 이름과 값 정하기\n",
    "# 년도와 총인구수 그래프 변화\n",
    "\n",
    "y = [50428893, 50746659, 51014947, 51217803, 51361911, 51585058, 51764822, 51836239, 51769539, 51672569, 51712619] #x축을 년도로 지정\n",
    "x = range(2013, 2023, 1)\n",
    "\n",
    "plt.title('2013~2023년의 대한민국 총 인구 변화')\n",
    "plt.plot(x,y, color='skyblue')\n",
    "plt.xlabel('년도')\n",
    "plt.ylabel('인구수(천만명)')\n",
    "plt.show()"
   ]
  },
  {
   "cell_type": "code",
   "execution_count": null,
   "id": "a06190606d6e0120",
   "metadata": {
    "ExecuteTime": {
     "end_time": "2024-02-05T12:45:17.884405700Z",
     "start_time": "2024-02-05T12:45:17.858507900Z"
    }
   },
   "outputs": [],
   "source": [
    "# 2013, 2017, 2022 3개 년도와 연령별 비교"
   ]
  },
  {
   "cell_type": "code",
   "execution_count": null,
   "id": "2dc2ecf062ba5b58",
   "metadata": {
    "ExecuteTime": {
     "end_time": "2024-02-05T12:54:58.321032200Z",
     "start_time": "2024-02-05T12:54:58.302897700Z"
    }
   },
   "outputs": [],
   "source": [
    "# 2013, 2017, 2022 3개 년도와 구성비율 비교"
   ]
  },
  {
   "cell_type": "code",
   "execution_count": null,
   "id": "56332387dd9ad72e",
   "metadata": {},
   "outputs": [],
   "source": [
    "# 출생아와 0~14세 인구 비교"
   ]
  }
 ],
 "metadata": {
  "kernelspec": {
   "display_name": "Python 3 (ipykernel)",
   "language": "python",
   "name": "python3"
  },
  "language_info": {
   "codemirror_mode": {
    "name": "ipython",
    "version": 3
   },
   "file_extension": ".py",
   "mimetype": "text/x-python",
   "name": "python",
   "nbconvert_exporter": "python",
   "pygments_lexer": "ipython3",
   "version": "3.11.5"
  }
 },
 "nbformat": 4,
 "nbformat_minor": 5
}
