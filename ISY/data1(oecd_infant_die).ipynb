{
 "cells": [
  {
   "cell_type": "code",
   "outputs": [
    {
     "data": {
      "text/plain": "        국가별  2013  2014  2015  2016  2017  2018  2019  2020  2021  2022  2023\n0       아시아   NaN   NaN   NaN   NaN   NaN   NaN   NaN   NaN   NaN   NaN   NaN\n1      대한민국   3.1   3.0   2.9   2.8   2.7   2.7   2.6   2.5   2.4   2.3   2.2\n2      이스라엘   3.2   3.2   3.3   3.2   3.2   3.3   3.3   3.2   3.0   2.9   2.8\n3        일본   2.1   2.1   2.0   2.0   1.8   1.9   1.9   1.8   1.8   1.7   1.6\n4      튀르키예  12.5  11.7  11.0  10.4   9.7   9.1   8.6   8.1   7.7   7.7   7.5\n5     북아메리카   NaN   NaN   NaN   NaN   NaN   NaN   NaN   NaN   NaN   NaN   NaN\n6       캐나다   4.9   4.7   4.5   4.5   4.5   4.6   4.4   4.3   4.3   3.9   3.8\n7       멕시코  14.6  14.2  13.7  13.3  12.8  12.4  12.0  11.6  11.3  10.9  10.5\n8        미국   5.9   5.8   5.9   5.8   5.7   5.6   5.5   5.5   5.4   5.0   4.9\n9     남아메리카   NaN   NaN   NaN   NaN   NaN   NaN   NaN   NaN   NaN   NaN   NaN\n10       칠레   6.6   7.2   6.8   6.7   6.6   6.7   6.6   5.0   4.7   4.9   5.6\n11     콜롬비아  14.0  13.6  13.2  12.7  12.4  12.0  11.6  11.2  10.9  10.9  10.4\n12    코스타리카   8.2   8.0   7.8   7.6   7.4   7.2   7.0   6.8   6.5   6.8   6.3\n13       유럽   NaN   NaN   NaN   NaN   NaN   NaN   NaN   NaN   NaN   NaN   NaN\n14    오스트리아   3.1   3.1   3.1   3.2   2.9   2.7   3.0   2.9   2.9   2.5   2.4\n15      벨기에   3.4   3.4   3.2   3.2   3.6   3.7   3.6   3.2   3.5   2.9   2.8\n16       체코   2.5   2.4   2.5   2.8   2.7   2.5   2.5   2.5   2.4   2.4   2.2\n17      덴마크   3.4   4.0   3.7   3.2   3.7   3.6   2.9   3.1   2.9   2.9   2.9\n18    에스토니아   2.6   3.1   2.8   2.7   2.6   1.8   1.6   1.5   1.4   1.8   1.7\n19      핀란드   1.6   2.2   1.7   1.9   2.0   2.0   2.0   1.8   1.9   1.6   1.6\n20      프랑스   3.6   3.5   3.6   3.6   3.8   3.8   3.7   3.7   3.6   3.3   3.2\n21       독일   3.3   3.3   3.3   3.5   3.2   3.2   3.2   3.1   3.1   3.0   2.6\n22      그리스   3.6   3.7   3.8   3.8   3.8   3.7   3.6   3.6   3.5   3.4   3.0\n23      헝가리   5.1   4.6   4.1   4.0   3.5   3.2   3.6   3.4   3.4   3.3   3.0\n24    아이슬란드   2.5   2.0   2.0   1.2   2.7   1.7   1.3   1.2   1.0   1.4   1.4\n25     아일랜드   3.6   3.4   3.5   3.1   2.8   2.7   2.6   2.6   2.5   2.5   2.4\n26     이탈리아   2.9   2.8   2.9   2.8   2.9   2.8   2.4   2.3   2.3   2.1   2.1\n27     라트비아   4.1   3.7   4.0   3.7   3.7   2.9   3.2   3.2   3.1   2.8   2.8\n28    리투아니아   3.6   4.0   4.0   4.1   2.8   3.2   3.2   2.7   3.0   2.8   2.6\n29    룩셈부르크   4.4   3.1   2.5   3.8   3.1   4.1   4.4   4.4   4.5   3.1   3.0\n30     네덜란드   3.7   3.6   3.2   3.5   3.5   3.4   3.6   3.6   3.5   3.0   2.9\n31     노르웨이   2.4   2.4   2.3   2.1   2.2   2.3   2.1   1.7   2.0   1.9   1.8\n32      폴란드   4.6   4.3   4.0   4.1   4.1   3.8   3.8   3.6   3.5   3.4   3.3\n33     포르투갈   2.8   2.9   3.0   3.2   2.6   3.3   2.8   2.4   2.7   2.4   2.3\n34    슬로바키아   5.4   5.7   5.1   5.4   4.5   4.9   5.0   4.9   4.8   4.7   4.0\n35    슬로베니아   2.6   1.8   1.7   2.0   1.9   1.7   2.1   2.0   1.9   1.4   1.4\n36      스페인   2.6   2.8   2.6   2.6   2.7   2.6   2.6   2.5   2.5   2.2   2.1\n37      스웨덴   2.7   2.2   2.4   2.5   2.4   2.0   2.0   2.3   1.9   1.8   1.8\n38      스위스   4.0   4.1   4.0   3.6   3.6   3.3   3.3   3.7   3.2   3.1   3.0\n39       영국   3.8   3.8   3.9   3.8   3.9   3.8   3.8   3.7   3.6   3.2   3.1\n40    오세아니아   NaN   NaN   NaN   NaN   NaN   NaN   NaN   NaN   NaN   NaN   NaN\n41  오스트레일리아   3.6   3.4   3.1   3.0   3.3   3.1   3.0   2.9   2.9   2.8   2.7\n42     뉴질랜드   4.3   4.7   4.5   3.9   3.6   4.0   3.8   3.8   4.0   3.5   3.4",
      "text/html": "<div>\n<style scoped>\n    .dataframe tbody tr th:only-of-type {\n        vertical-align: middle;\n    }\n\n    .dataframe tbody tr th {\n        vertical-align: top;\n    }\n\n    .dataframe thead th {\n        text-align: right;\n    }\n</style>\n<table border=\"1\" class=\"dataframe\">\n  <thead>\n    <tr style=\"text-align: right;\">\n      <th></th>\n      <th>국가별</th>\n      <th>2013</th>\n      <th>2014</th>\n      <th>2015</th>\n      <th>2016</th>\n      <th>2017</th>\n      <th>2018</th>\n      <th>2019</th>\n      <th>2020</th>\n      <th>2021</th>\n      <th>2022</th>\n      <th>2023</th>\n    </tr>\n  </thead>\n  <tbody>\n    <tr>\n      <th>0</th>\n      <td>아시아</td>\n      <td>NaN</td>\n      <td>NaN</td>\n      <td>NaN</td>\n      <td>NaN</td>\n      <td>NaN</td>\n      <td>NaN</td>\n      <td>NaN</td>\n      <td>NaN</td>\n      <td>NaN</td>\n      <td>NaN</td>\n      <td>NaN</td>\n    </tr>\n    <tr>\n      <th>1</th>\n      <td>대한민국</td>\n      <td>3.1</td>\n      <td>3.0</td>\n      <td>2.9</td>\n      <td>2.8</td>\n      <td>2.7</td>\n      <td>2.7</td>\n      <td>2.6</td>\n      <td>2.5</td>\n      <td>2.4</td>\n      <td>2.3</td>\n      <td>2.2</td>\n    </tr>\n    <tr>\n      <th>2</th>\n      <td>이스라엘</td>\n      <td>3.2</td>\n      <td>3.2</td>\n      <td>3.3</td>\n      <td>3.2</td>\n      <td>3.2</td>\n      <td>3.3</td>\n      <td>3.3</td>\n      <td>3.2</td>\n      <td>3.0</td>\n      <td>2.9</td>\n      <td>2.8</td>\n    </tr>\n    <tr>\n      <th>3</th>\n      <td>일본</td>\n      <td>2.1</td>\n      <td>2.1</td>\n      <td>2.0</td>\n      <td>2.0</td>\n      <td>1.8</td>\n      <td>1.9</td>\n      <td>1.9</td>\n      <td>1.8</td>\n      <td>1.8</td>\n      <td>1.7</td>\n      <td>1.6</td>\n    </tr>\n    <tr>\n      <th>4</th>\n      <td>튀르키예</td>\n      <td>12.5</td>\n      <td>11.7</td>\n      <td>11.0</td>\n      <td>10.4</td>\n      <td>9.7</td>\n      <td>9.1</td>\n      <td>8.6</td>\n      <td>8.1</td>\n      <td>7.7</td>\n      <td>7.7</td>\n      <td>7.5</td>\n    </tr>\n    <tr>\n      <th>5</th>\n      <td>북아메리카</td>\n      <td>NaN</td>\n      <td>NaN</td>\n      <td>NaN</td>\n      <td>NaN</td>\n      <td>NaN</td>\n      <td>NaN</td>\n      <td>NaN</td>\n      <td>NaN</td>\n      <td>NaN</td>\n      <td>NaN</td>\n      <td>NaN</td>\n    </tr>\n    <tr>\n      <th>6</th>\n      <td>캐나다</td>\n      <td>4.9</td>\n      <td>4.7</td>\n      <td>4.5</td>\n      <td>4.5</td>\n      <td>4.5</td>\n      <td>4.6</td>\n      <td>4.4</td>\n      <td>4.3</td>\n      <td>4.3</td>\n      <td>3.9</td>\n      <td>3.8</td>\n    </tr>\n    <tr>\n      <th>7</th>\n      <td>멕시코</td>\n      <td>14.6</td>\n      <td>14.2</td>\n      <td>13.7</td>\n      <td>13.3</td>\n      <td>12.8</td>\n      <td>12.4</td>\n      <td>12.0</td>\n      <td>11.6</td>\n      <td>11.3</td>\n      <td>10.9</td>\n      <td>10.5</td>\n    </tr>\n    <tr>\n      <th>8</th>\n      <td>미국</td>\n      <td>5.9</td>\n      <td>5.8</td>\n      <td>5.9</td>\n      <td>5.8</td>\n      <td>5.7</td>\n      <td>5.6</td>\n      <td>5.5</td>\n      <td>5.5</td>\n      <td>5.4</td>\n      <td>5.0</td>\n      <td>4.9</td>\n    </tr>\n    <tr>\n      <th>9</th>\n      <td>남아메리카</td>\n      <td>NaN</td>\n      <td>NaN</td>\n      <td>NaN</td>\n      <td>NaN</td>\n      <td>NaN</td>\n      <td>NaN</td>\n      <td>NaN</td>\n      <td>NaN</td>\n      <td>NaN</td>\n      <td>NaN</td>\n      <td>NaN</td>\n    </tr>\n    <tr>\n      <th>10</th>\n      <td>칠레</td>\n      <td>6.6</td>\n      <td>7.2</td>\n      <td>6.8</td>\n      <td>6.7</td>\n      <td>6.6</td>\n      <td>6.7</td>\n      <td>6.6</td>\n      <td>5.0</td>\n      <td>4.7</td>\n      <td>4.9</td>\n      <td>5.6</td>\n    </tr>\n    <tr>\n      <th>11</th>\n      <td>콜롬비아</td>\n      <td>14.0</td>\n      <td>13.6</td>\n      <td>13.2</td>\n      <td>12.7</td>\n      <td>12.4</td>\n      <td>12.0</td>\n      <td>11.6</td>\n      <td>11.2</td>\n      <td>10.9</td>\n      <td>10.9</td>\n      <td>10.4</td>\n    </tr>\n    <tr>\n      <th>12</th>\n      <td>코스타리카</td>\n      <td>8.2</td>\n      <td>8.0</td>\n      <td>7.8</td>\n      <td>7.6</td>\n      <td>7.4</td>\n      <td>7.2</td>\n      <td>7.0</td>\n      <td>6.8</td>\n      <td>6.5</td>\n      <td>6.8</td>\n      <td>6.3</td>\n    </tr>\n    <tr>\n      <th>13</th>\n      <td>유럽</td>\n      <td>NaN</td>\n      <td>NaN</td>\n      <td>NaN</td>\n      <td>NaN</td>\n      <td>NaN</td>\n      <td>NaN</td>\n      <td>NaN</td>\n      <td>NaN</td>\n      <td>NaN</td>\n      <td>NaN</td>\n      <td>NaN</td>\n    </tr>\n    <tr>\n      <th>14</th>\n      <td>오스트리아</td>\n      <td>3.1</td>\n      <td>3.1</td>\n      <td>3.1</td>\n      <td>3.2</td>\n      <td>2.9</td>\n      <td>2.7</td>\n      <td>3.0</td>\n      <td>2.9</td>\n      <td>2.9</td>\n      <td>2.5</td>\n      <td>2.4</td>\n    </tr>\n    <tr>\n      <th>15</th>\n      <td>벨기에</td>\n      <td>3.4</td>\n      <td>3.4</td>\n      <td>3.2</td>\n      <td>3.2</td>\n      <td>3.6</td>\n      <td>3.7</td>\n      <td>3.6</td>\n      <td>3.2</td>\n      <td>3.5</td>\n      <td>2.9</td>\n      <td>2.8</td>\n    </tr>\n    <tr>\n      <th>16</th>\n      <td>체코</td>\n      <td>2.5</td>\n      <td>2.4</td>\n      <td>2.5</td>\n      <td>2.8</td>\n      <td>2.7</td>\n      <td>2.5</td>\n      <td>2.5</td>\n      <td>2.5</td>\n      <td>2.4</td>\n      <td>2.4</td>\n      <td>2.2</td>\n    </tr>\n    <tr>\n      <th>17</th>\n      <td>덴마크</td>\n      <td>3.4</td>\n      <td>4.0</td>\n      <td>3.7</td>\n      <td>3.2</td>\n      <td>3.7</td>\n      <td>3.6</td>\n      <td>2.9</td>\n      <td>3.1</td>\n      <td>2.9</td>\n      <td>2.9</td>\n      <td>2.9</td>\n    </tr>\n    <tr>\n      <th>18</th>\n      <td>에스토니아</td>\n      <td>2.6</td>\n      <td>3.1</td>\n      <td>2.8</td>\n      <td>2.7</td>\n      <td>2.6</td>\n      <td>1.8</td>\n      <td>1.6</td>\n      <td>1.5</td>\n      <td>1.4</td>\n      <td>1.8</td>\n      <td>1.7</td>\n    </tr>\n    <tr>\n      <th>19</th>\n      <td>핀란드</td>\n      <td>1.6</td>\n      <td>2.2</td>\n      <td>1.7</td>\n      <td>1.9</td>\n      <td>2.0</td>\n      <td>2.0</td>\n      <td>2.0</td>\n      <td>1.8</td>\n      <td>1.9</td>\n      <td>1.6</td>\n      <td>1.6</td>\n    </tr>\n    <tr>\n      <th>20</th>\n      <td>프랑스</td>\n      <td>3.6</td>\n      <td>3.5</td>\n      <td>3.6</td>\n      <td>3.6</td>\n      <td>3.8</td>\n      <td>3.8</td>\n      <td>3.7</td>\n      <td>3.7</td>\n      <td>3.6</td>\n      <td>3.3</td>\n      <td>3.2</td>\n    </tr>\n    <tr>\n      <th>21</th>\n      <td>독일</td>\n      <td>3.3</td>\n      <td>3.3</td>\n      <td>3.3</td>\n      <td>3.5</td>\n      <td>3.2</td>\n      <td>3.2</td>\n      <td>3.2</td>\n      <td>3.1</td>\n      <td>3.1</td>\n      <td>3.0</td>\n      <td>2.6</td>\n    </tr>\n    <tr>\n      <th>22</th>\n      <td>그리스</td>\n      <td>3.6</td>\n      <td>3.7</td>\n      <td>3.8</td>\n      <td>3.8</td>\n      <td>3.8</td>\n      <td>3.7</td>\n      <td>3.6</td>\n      <td>3.6</td>\n      <td>3.5</td>\n      <td>3.4</td>\n      <td>3.0</td>\n    </tr>\n    <tr>\n      <th>23</th>\n      <td>헝가리</td>\n      <td>5.1</td>\n      <td>4.6</td>\n      <td>4.1</td>\n      <td>4.0</td>\n      <td>3.5</td>\n      <td>3.2</td>\n      <td>3.6</td>\n      <td>3.4</td>\n      <td>3.4</td>\n      <td>3.3</td>\n      <td>3.0</td>\n    </tr>\n    <tr>\n      <th>24</th>\n      <td>아이슬란드</td>\n      <td>2.5</td>\n      <td>2.0</td>\n      <td>2.0</td>\n      <td>1.2</td>\n      <td>2.7</td>\n      <td>1.7</td>\n      <td>1.3</td>\n      <td>1.2</td>\n      <td>1.0</td>\n      <td>1.4</td>\n      <td>1.4</td>\n    </tr>\n    <tr>\n      <th>25</th>\n      <td>아일랜드</td>\n      <td>3.6</td>\n      <td>3.4</td>\n      <td>3.5</td>\n      <td>3.1</td>\n      <td>2.8</td>\n      <td>2.7</td>\n      <td>2.6</td>\n      <td>2.6</td>\n      <td>2.5</td>\n      <td>2.5</td>\n      <td>2.4</td>\n    </tr>\n    <tr>\n      <th>26</th>\n      <td>이탈리아</td>\n      <td>2.9</td>\n      <td>2.8</td>\n      <td>2.9</td>\n      <td>2.8</td>\n      <td>2.9</td>\n      <td>2.8</td>\n      <td>2.4</td>\n      <td>2.3</td>\n      <td>2.3</td>\n      <td>2.1</td>\n      <td>2.1</td>\n    </tr>\n    <tr>\n      <th>27</th>\n      <td>라트비아</td>\n      <td>4.1</td>\n      <td>3.7</td>\n      <td>4.0</td>\n      <td>3.7</td>\n      <td>3.7</td>\n      <td>2.9</td>\n      <td>3.2</td>\n      <td>3.2</td>\n      <td>3.1</td>\n      <td>2.8</td>\n      <td>2.8</td>\n    </tr>\n    <tr>\n      <th>28</th>\n      <td>리투아니아</td>\n      <td>3.6</td>\n      <td>4.0</td>\n      <td>4.0</td>\n      <td>4.1</td>\n      <td>2.8</td>\n      <td>3.2</td>\n      <td>3.2</td>\n      <td>2.7</td>\n      <td>3.0</td>\n      <td>2.8</td>\n      <td>2.6</td>\n    </tr>\n    <tr>\n      <th>29</th>\n      <td>룩셈부르크</td>\n      <td>4.4</td>\n      <td>3.1</td>\n      <td>2.5</td>\n      <td>3.8</td>\n      <td>3.1</td>\n      <td>4.1</td>\n      <td>4.4</td>\n      <td>4.4</td>\n      <td>4.5</td>\n      <td>3.1</td>\n      <td>3.0</td>\n    </tr>\n    <tr>\n      <th>30</th>\n      <td>네덜란드</td>\n      <td>3.7</td>\n      <td>3.6</td>\n      <td>3.2</td>\n      <td>3.5</td>\n      <td>3.5</td>\n      <td>3.4</td>\n      <td>3.6</td>\n      <td>3.6</td>\n      <td>3.5</td>\n      <td>3.0</td>\n      <td>2.9</td>\n    </tr>\n    <tr>\n      <th>31</th>\n      <td>노르웨이</td>\n      <td>2.4</td>\n      <td>2.4</td>\n      <td>2.3</td>\n      <td>2.1</td>\n      <td>2.2</td>\n      <td>2.3</td>\n      <td>2.1</td>\n      <td>1.7</td>\n      <td>2.0</td>\n      <td>1.9</td>\n      <td>1.8</td>\n    </tr>\n    <tr>\n      <th>32</th>\n      <td>폴란드</td>\n      <td>4.6</td>\n      <td>4.3</td>\n      <td>4.0</td>\n      <td>4.1</td>\n      <td>4.1</td>\n      <td>3.8</td>\n      <td>3.8</td>\n      <td>3.6</td>\n      <td>3.5</td>\n      <td>3.4</td>\n      <td>3.3</td>\n    </tr>\n    <tr>\n      <th>33</th>\n      <td>포르투갈</td>\n      <td>2.8</td>\n      <td>2.9</td>\n      <td>3.0</td>\n      <td>3.2</td>\n      <td>2.6</td>\n      <td>3.3</td>\n      <td>2.8</td>\n      <td>2.4</td>\n      <td>2.7</td>\n      <td>2.4</td>\n      <td>2.3</td>\n    </tr>\n    <tr>\n      <th>34</th>\n      <td>슬로바키아</td>\n      <td>5.4</td>\n      <td>5.7</td>\n      <td>5.1</td>\n      <td>5.4</td>\n      <td>4.5</td>\n      <td>4.9</td>\n      <td>5.0</td>\n      <td>4.9</td>\n      <td>4.8</td>\n      <td>4.7</td>\n      <td>4.0</td>\n    </tr>\n    <tr>\n      <th>35</th>\n      <td>슬로베니아</td>\n      <td>2.6</td>\n      <td>1.8</td>\n      <td>1.7</td>\n      <td>2.0</td>\n      <td>1.9</td>\n      <td>1.7</td>\n      <td>2.1</td>\n      <td>2.0</td>\n      <td>1.9</td>\n      <td>1.4</td>\n      <td>1.4</td>\n    </tr>\n    <tr>\n      <th>36</th>\n      <td>스페인</td>\n      <td>2.6</td>\n      <td>2.8</td>\n      <td>2.6</td>\n      <td>2.6</td>\n      <td>2.7</td>\n      <td>2.6</td>\n      <td>2.6</td>\n      <td>2.5</td>\n      <td>2.5</td>\n      <td>2.2</td>\n      <td>2.1</td>\n    </tr>\n    <tr>\n      <th>37</th>\n      <td>스웨덴</td>\n      <td>2.7</td>\n      <td>2.2</td>\n      <td>2.4</td>\n      <td>2.5</td>\n      <td>2.4</td>\n      <td>2.0</td>\n      <td>2.0</td>\n      <td>2.3</td>\n      <td>1.9</td>\n      <td>1.8</td>\n      <td>1.8</td>\n    </tr>\n    <tr>\n      <th>38</th>\n      <td>스위스</td>\n      <td>4.0</td>\n      <td>4.1</td>\n      <td>4.0</td>\n      <td>3.6</td>\n      <td>3.6</td>\n      <td>3.3</td>\n      <td>3.3</td>\n      <td>3.7</td>\n      <td>3.2</td>\n      <td>3.1</td>\n      <td>3.0</td>\n    </tr>\n    <tr>\n      <th>39</th>\n      <td>영국</td>\n      <td>3.8</td>\n      <td>3.8</td>\n      <td>3.9</td>\n      <td>3.8</td>\n      <td>3.9</td>\n      <td>3.8</td>\n      <td>3.8</td>\n      <td>3.7</td>\n      <td>3.6</td>\n      <td>3.2</td>\n      <td>3.1</td>\n    </tr>\n    <tr>\n      <th>40</th>\n      <td>오세아니아</td>\n      <td>NaN</td>\n      <td>NaN</td>\n      <td>NaN</td>\n      <td>NaN</td>\n      <td>NaN</td>\n      <td>NaN</td>\n      <td>NaN</td>\n      <td>NaN</td>\n      <td>NaN</td>\n      <td>NaN</td>\n      <td>NaN</td>\n    </tr>\n    <tr>\n      <th>41</th>\n      <td>오스트레일리아</td>\n      <td>3.6</td>\n      <td>3.4</td>\n      <td>3.1</td>\n      <td>3.0</td>\n      <td>3.3</td>\n      <td>3.1</td>\n      <td>3.0</td>\n      <td>2.9</td>\n      <td>2.9</td>\n      <td>2.8</td>\n      <td>2.7</td>\n    </tr>\n    <tr>\n      <th>42</th>\n      <td>뉴질랜드</td>\n      <td>4.3</td>\n      <td>4.7</td>\n      <td>4.5</td>\n      <td>3.9</td>\n      <td>3.6</td>\n      <td>4.0</td>\n      <td>3.8</td>\n      <td>3.8</td>\n      <td>4.0</td>\n      <td>3.5</td>\n      <td>3.4</td>\n    </tr>\n  </tbody>\n</table>\n</div>"
     },
     "execution_count": 58,
     "metadata": {},
     "output_type": "execute_result"
    }
   ],
   "source": [
    "import pandas as pd\n",
    "import matplotlib.pyplot as plt\n",
    "import koreanize_matplotlib\n",
    "\n",
    "file = '영아사망률_OECD회원국.csv'\n",
    "data = pd.read_csv(file)\n",
    "data\n",
    "\n",
    "# 대륙 : 아시아, 북아메리카, 남아메리카, 유럽, 오세아니아"
   ],
   "metadata": {
    "collapsed": false,
    "ExecuteTime": {
     "end_time": "2024-02-05T14:40:35.330615Z",
     "start_time": "2024-02-05T14:40:35.265576700Z"
    }
   },
   "id": "4f12589bae04a469",
   "execution_count": 58
  },
  {
   "cell_type": "markdown",
   "source": [],
   "metadata": {
    "collapsed": false
   },
   "id": "baefcf95dd404447"
  },
  {
   "cell_type": "code",
   "outputs": [
    {
     "data": {
      "text/plain": "    국가별  2013  2014  2015  2016  2017  2018  2019  2020  2021  2022  2023\n1  대한민국   3.1   3.0   2.9   2.8   2.7   2.7   2.6   2.5   2.4   2.3   2.2\n2  이스라엘   3.2   3.2   3.3   3.2   3.2   3.3   3.3   3.2   3.0   2.9   2.8\n3    일본   2.1   2.1   2.0   2.0   1.8   1.9   1.9   1.8   1.8   1.7   1.6\n4  튀르키예  12.5  11.7  11.0  10.4   9.7   9.1   8.6   8.1   7.7   7.7   7.5",
      "text/html": "<div>\n<style scoped>\n    .dataframe tbody tr th:only-of-type {\n        vertical-align: middle;\n    }\n\n    .dataframe tbody tr th {\n        vertical-align: top;\n    }\n\n    .dataframe thead th {\n        text-align: right;\n    }\n</style>\n<table border=\"1\" class=\"dataframe\">\n  <thead>\n    <tr style=\"text-align: right;\">\n      <th></th>\n      <th>국가별</th>\n      <th>2013</th>\n      <th>2014</th>\n      <th>2015</th>\n      <th>2016</th>\n      <th>2017</th>\n      <th>2018</th>\n      <th>2019</th>\n      <th>2020</th>\n      <th>2021</th>\n      <th>2022</th>\n      <th>2023</th>\n    </tr>\n  </thead>\n  <tbody>\n    <tr>\n      <th>1</th>\n      <td>대한민국</td>\n      <td>3.1</td>\n      <td>3.0</td>\n      <td>2.9</td>\n      <td>2.8</td>\n      <td>2.7</td>\n      <td>2.7</td>\n      <td>2.6</td>\n      <td>2.5</td>\n      <td>2.4</td>\n      <td>2.3</td>\n      <td>2.2</td>\n    </tr>\n    <tr>\n      <th>2</th>\n      <td>이스라엘</td>\n      <td>3.2</td>\n      <td>3.2</td>\n      <td>3.3</td>\n      <td>3.2</td>\n      <td>3.2</td>\n      <td>3.3</td>\n      <td>3.3</td>\n      <td>3.2</td>\n      <td>3.0</td>\n      <td>2.9</td>\n      <td>2.8</td>\n    </tr>\n    <tr>\n      <th>3</th>\n      <td>일본</td>\n      <td>2.1</td>\n      <td>2.1</td>\n      <td>2.0</td>\n      <td>2.0</td>\n      <td>1.8</td>\n      <td>1.9</td>\n      <td>1.9</td>\n      <td>1.8</td>\n      <td>1.8</td>\n      <td>1.7</td>\n      <td>1.6</td>\n    </tr>\n    <tr>\n      <th>4</th>\n      <td>튀르키예</td>\n      <td>12.5</td>\n      <td>11.7</td>\n      <td>11.0</td>\n      <td>10.4</td>\n      <td>9.7</td>\n      <td>9.1</td>\n      <td>8.6</td>\n      <td>8.1</td>\n      <td>7.7</td>\n      <td>7.7</td>\n      <td>7.5</td>\n    </tr>\n  </tbody>\n</table>\n</div>"
     },
     "execution_count": 59,
     "metadata": {},
     "output_type": "execute_result"
    }
   ],
   "source": [
    "asia = data.iloc[1:5]\n",
    "asia"
   ],
   "metadata": {
    "collapsed": false,
    "ExecuteTime": {
     "end_time": "2024-02-05T14:40:35.331628300Z",
     "start_time": "2024-02-05T14:40:35.306553300Z"
    }
   },
   "id": "3774fa0658af2d69",
   "execution_count": 59
  },
  {
   "cell_type": "code",
   "outputs": [],
   "source": [
    "north_america = data.iloc[6:9]\n",
    "south_america = data.iloc[10:13]\n",
    "europe = data.iloc[14:40]\n",
    "oceania = data.iloc[41:]\n",
    "korea = data.iloc[1]"
   ],
   "metadata": {
    "collapsed": false,
    "ExecuteTime": {
     "end_time": "2024-02-05T14:40:35.331628300Z",
     "start_time": "2024-02-05T14:40:35.319839800Z"
    }
   },
   "id": "e993edb6b9d22be6",
   "execution_count": 60
  },
  {
   "cell_type": "code",
   "outputs": [
    {
     "data": {
      "text/plain": "   국가별  2013  2014  2015  2016  2017  2018  2019  2020  2021  2022  2023\n6  캐나다   4.9   4.7   4.5   4.5   4.5   4.6   4.4   4.3   4.3   3.9   3.8\n7  멕시코  14.6  14.2  13.7  13.3  12.8  12.4  12.0  11.6  11.3  10.9  10.5\n8   미국   5.9   5.8   5.9   5.8   5.7   5.6   5.5   5.5   5.4   5.0   4.9",
      "text/html": "<div>\n<style scoped>\n    .dataframe tbody tr th:only-of-type {\n        vertical-align: middle;\n    }\n\n    .dataframe tbody tr th {\n        vertical-align: top;\n    }\n\n    .dataframe thead th {\n        text-align: right;\n    }\n</style>\n<table border=\"1\" class=\"dataframe\">\n  <thead>\n    <tr style=\"text-align: right;\">\n      <th></th>\n      <th>국가별</th>\n      <th>2013</th>\n      <th>2014</th>\n      <th>2015</th>\n      <th>2016</th>\n      <th>2017</th>\n      <th>2018</th>\n      <th>2019</th>\n      <th>2020</th>\n      <th>2021</th>\n      <th>2022</th>\n      <th>2023</th>\n    </tr>\n  </thead>\n  <tbody>\n    <tr>\n      <th>6</th>\n      <td>캐나다</td>\n      <td>4.9</td>\n      <td>4.7</td>\n      <td>4.5</td>\n      <td>4.5</td>\n      <td>4.5</td>\n      <td>4.6</td>\n      <td>4.4</td>\n      <td>4.3</td>\n      <td>4.3</td>\n      <td>3.9</td>\n      <td>3.8</td>\n    </tr>\n    <tr>\n      <th>7</th>\n      <td>멕시코</td>\n      <td>14.6</td>\n      <td>14.2</td>\n      <td>13.7</td>\n      <td>13.3</td>\n      <td>12.8</td>\n      <td>12.4</td>\n      <td>12.0</td>\n      <td>11.6</td>\n      <td>11.3</td>\n      <td>10.9</td>\n      <td>10.5</td>\n    </tr>\n    <tr>\n      <th>8</th>\n      <td>미국</td>\n      <td>5.9</td>\n      <td>5.8</td>\n      <td>5.9</td>\n      <td>5.8</td>\n      <td>5.7</td>\n      <td>5.6</td>\n      <td>5.5</td>\n      <td>5.5</td>\n      <td>5.4</td>\n      <td>5.0</td>\n      <td>4.9</td>\n    </tr>\n  </tbody>\n</table>\n</div>"
     },
     "execution_count": 61,
     "metadata": {},
     "output_type": "execute_result"
    }
   ],
   "source": [
    "north_america"
   ],
   "metadata": {
    "collapsed": false,
    "ExecuteTime": {
     "end_time": "2024-02-05T14:40:35.420403400Z",
     "start_time": "2024-02-05T14:40:35.333844300Z"
    }
   },
   "id": "b011856fcfc52a5d",
   "execution_count": 61
  },
  {
   "cell_type": "code",
   "outputs": [
    {
     "data": {
      "text/plain": "      국가별  2013  2014  2015  2016  2017  2018  2019  2020  2021  2022  2023\n10     칠레   6.6   7.2   6.8   6.7   6.6   6.7   6.6   5.0   4.7   4.9   5.6\n11   콜롬비아  14.0  13.6  13.2  12.7  12.4  12.0  11.6  11.2  10.9  10.9  10.4\n12  코스타리카   8.2   8.0   7.8   7.6   7.4   7.2   7.0   6.8   6.5   6.8   6.3",
      "text/html": "<div>\n<style scoped>\n    .dataframe tbody tr th:only-of-type {\n        vertical-align: middle;\n    }\n\n    .dataframe tbody tr th {\n        vertical-align: top;\n    }\n\n    .dataframe thead th {\n        text-align: right;\n    }\n</style>\n<table border=\"1\" class=\"dataframe\">\n  <thead>\n    <tr style=\"text-align: right;\">\n      <th></th>\n      <th>국가별</th>\n      <th>2013</th>\n      <th>2014</th>\n      <th>2015</th>\n      <th>2016</th>\n      <th>2017</th>\n      <th>2018</th>\n      <th>2019</th>\n      <th>2020</th>\n      <th>2021</th>\n      <th>2022</th>\n      <th>2023</th>\n    </tr>\n  </thead>\n  <tbody>\n    <tr>\n      <th>10</th>\n      <td>칠레</td>\n      <td>6.6</td>\n      <td>7.2</td>\n      <td>6.8</td>\n      <td>6.7</td>\n      <td>6.6</td>\n      <td>6.7</td>\n      <td>6.6</td>\n      <td>5.0</td>\n      <td>4.7</td>\n      <td>4.9</td>\n      <td>5.6</td>\n    </tr>\n    <tr>\n      <th>11</th>\n      <td>콜롬비아</td>\n      <td>14.0</td>\n      <td>13.6</td>\n      <td>13.2</td>\n      <td>12.7</td>\n      <td>12.4</td>\n      <td>12.0</td>\n      <td>11.6</td>\n      <td>11.2</td>\n      <td>10.9</td>\n      <td>10.9</td>\n      <td>10.4</td>\n    </tr>\n    <tr>\n      <th>12</th>\n      <td>코스타리카</td>\n      <td>8.2</td>\n      <td>8.0</td>\n      <td>7.8</td>\n      <td>7.6</td>\n      <td>7.4</td>\n      <td>7.2</td>\n      <td>7.0</td>\n      <td>6.8</td>\n      <td>6.5</td>\n      <td>6.8</td>\n      <td>6.3</td>\n    </tr>\n  </tbody>\n</table>\n</div>"
     },
     "execution_count": 62,
     "metadata": {},
     "output_type": "execute_result"
    }
   ],
   "source": [
    "south_america"
   ],
   "metadata": {
    "collapsed": false,
    "ExecuteTime": {
     "end_time": "2024-02-05T14:40:35.466300200Z",
     "start_time": "2024-02-05T14:40:35.367431500Z"
    }
   },
   "id": "8b98fac3a89c6304",
   "execution_count": 62
  },
  {
   "cell_type": "code",
   "outputs": [
    {
     "data": {
      "text/plain": "      국가별  2013  2014  2015  2016  2017  2018  2019  2020  2021  2022  2023\n14  오스트리아   3.1   3.1   3.1   3.2   2.9   2.7   3.0   2.9   2.9   2.5   2.4\n15    벨기에   3.4   3.4   3.2   3.2   3.6   3.7   3.6   3.2   3.5   2.9   2.8\n16     체코   2.5   2.4   2.5   2.8   2.7   2.5   2.5   2.5   2.4   2.4   2.2\n17    덴마크   3.4   4.0   3.7   3.2   3.7   3.6   2.9   3.1   2.9   2.9   2.9\n18  에스토니아   2.6   3.1   2.8   2.7   2.6   1.8   1.6   1.5   1.4   1.8   1.7\n19    핀란드   1.6   2.2   1.7   1.9   2.0   2.0   2.0   1.8   1.9   1.6   1.6\n20    프랑스   3.6   3.5   3.6   3.6   3.8   3.8   3.7   3.7   3.6   3.3   3.2\n21     독일   3.3   3.3   3.3   3.5   3.2   3.2   3.2   3.1   3.1   3.0   2.6\n22    그리스   3.6   3.7   3.8   3.8   3.8   3.7   3.6   3.6   3.5   3.4   3.0\n23    헝가리   5.1   4.6   4.1   4.0   3.5   3.2   3.6   3.4   3.4   3.3   3.0\n24  아이슬란드   2.5   2.0   2.0   1.2   2.7   1.7   1.3   1.2   1.0   1.4   1.4\n25   아일랜드   3.6   3.4   3.5   3.1   2.8   2.7   2.6   2.6   2.5   2.5   2.4\n26   이탈리아   2.9   2.8   2.9   2.8   2.9   2.8   2.4   2.3   2.3   2.1   2.1\n27   라트비아   4.1   3.7   4.0   3.7   3.7   2.9   3.2   3.2   3.1   2.8   2.8\n28  리투아니아   3.6   4.0   4.0   4.1   2.8   3.2   3.2   2.7   3.0   2.8   2.6\n29  룩셈부르크   4.4   3.1   2.5   3.8   3.1   4.1   4.4   4.4   4.5   3.1   3.0\n30   네덜란드   3.7   3.6   3.2   3.5   3.5   3.4   3.6   3.6   3.5   3.0   2.9\n31   노르웨이   2.4   2.4   2.3   2.1   2.2   2.3   2.1   1.7   2.0   1.9   1.8\n32    폴란드   4.6   4.3   4.0   4.1   4.1   3.8   3.8   3.6   3.5   3.4   3.3\n33   포르투갈   2.8   2.9   3.0   3.2   2.6   3.3   2.8   2.4   2.7   2.4   2.3\n34  슬로바키아   5.4   5.7   5.1   5.4   4.5   4.9   5.0   4.9   4.8   4.7   4.0\n35  슬로베니아   2.6   1.8   1.7   2.0   1.9   1.7   2.1   2.0   1.9   1.4   1.4\n36    스페인   2.6   2.8   2.6   2.6   2.7   2.6   2.6   2.5   2.5   2.2   2.1\n37    스웨덴   2.7   2.2   2.4   2.5   2.4   2.0   2.0   2.3   1.9   1.8   1.8\n38    스위스   4.0   4.1   4.0   3.6   3.6   3.3   3.3   3.7   3.2   3.1   3.0\n39     영국   3.8   3.8   3.9   3.8   3.9   3.8   3.8   3.7   3.6   3.2   3.1",
      "text/html": "<div>\n<style scoped>\n    .dataframe tbody tr th:only-of-type {\n        vertical-align: middle;\n    }\n\n    .dataframe tbody tr th {\n        vertical-align: top;\n    }\n\n    .dataframe thead th {\n        text-align: right;\n    }\n</style>\n<table border=\"1\" class=\"dataframe\">\n  <thead>\n    <tr style=\"text-align: right;\">\n      <th></th>\n      <th>국가별</th>\n      <th>2013</th>\n      <th>2014</th>\n      <th>2015</th>\n      <th>2016</th>\n      <th>2017</th>\n      <th>2018</th>\n      <th>2019</th>\n      <th>2020</th>\n      <th>2021</th>\n      <th>2022</th>\n      <th>2023</th>\n    </tr>\n  </thead>\n  <tbody>\n    <tr>\n      <th>14</th>\n      <td>오스트리아</td>\n      <td>3.1</td>\n      <td>3.1</td>\n      <td>3.1</td>\n      <td>3.2</td>\n      <td>2.9</td>\n      <td>2.7</td>\n      <td>3.0</td>\n      <td>2.9</td>\n      <td>2.9</td>\n      <td>2.5</td>\n      <td>2.4</td>\n    </tr>\n    <tr>\n      <th>15</th>\n      <td>벨기에</td>\n      <td>3.4</td>\n      <td>3.4</td>\n      <td>3.2</td>\n      <td>3.2</td>\n      <td>3.6</td>\n      <td>3.7</td>\n      <td>3.6</td>\n      <td>3.2</td>\n      <td>3.5</td>\n      <td>2.9</td>\n      <td>2.8</td>\n    </tr>\n    <tr>\n      <th>16</th>\n      <td>체코</td>\n      <td>2.5</td>\n      <td>2.4</td>\n      <td>2.5</td>\n      <td>2.8</td>\n      <td>2.7</td>\n      <td>2.5</td>\n      <td>2.5</td>\n      <td>2.5</td>\n      <td>2.4</td>\n      <td>2.4</td>\n      <td>2.2</td>\n    </tr>\n    <tr>\n      <th>17</th>\n      <td>덴마크</td>\n      <td>3.4</td>\n      <td>4.0</td>\n      <td>3.7</td>\n      <td>3.2</td>\n      <td>3.7</td>\n      <td>3.6</td>\n      <td>2.9</td>\n      <td>3.1</td>\n      <td>2.9</td>\n      <td>2.9</td>\n      <td>2.9</td>\n    </tr>\n    <tr>\n      <th>18</th>\n      <td>에스토니아</td>\n      <td>2.6</td>\n      <td>3.1</td>\n      <td>2.8</td>\n      <td>2.7</td>\n      <td>2.6</td>\n      <td>1.8</td>\n      <td>1.6</td>\n      <td>1.5</td>\n      <td>1.4</td>\n      <td>1.8</td>\n      <td>1.7</td>\n    </tr>\n    <tr>\n      <th>19</th>\n      <td>핀란드</td>\n      <td>1.6</td>\n      <td>2.2</td>\n      <td>1.7</td>\n      <td>1.9</td>\n      <td>2.0</td>\n      <td>2.0</td>\n      <td>2.0</td>\n      <td>1.8</td>\n      <td>1.9</td>\n      <td>1.6</td>\n      <td>1.6</td>\n    </tr>\n    <tr>\n      <th>20</th>\n      <td>프랑스</td>\n      <td>3.6</td>\n      <td>3.5</td>\n      <td>3.6</td>\n      <td>3.6</td>\n      <td>3.8</td>\n      <td>3.8</td>\n      <td>3.7</td>\n      <td>3.7</td>\n      <td>3.6</td>\n      <td>3.3</td>\n      <td>3.2</td>\n    </tr>\n    <tr>\n      <th>21</th>\n      <td>독일</td>\n      <td>3.3</td>\n      <td>3.3</td>\n      <td>3.3</td>\n      <td>3.5</td>\n      <td>3.2</td>\n      <td>3.2</td>\n      <td>3.2</td>\n      <td>3.1</td>\n      <td>3.1</td>\n      <td>3.0</td>\n      <td>2.6</td>\n    </tr>\n    <tr>\n      <th>22</th>\n      <td>그리스</td>\n      <td>3.6</td>\n      <td>3.7</td>\n      <td>3.8</td>\n      <td>3.8</td>\n      <td>3.8</td>\n      <td>3.7</td>\n      <td>3.6</td>\n      <td>3.6</td>\n      <td>3.5</td>\n      <td>3.4</td>\n      <td>3.0</td>\n    </tr>\n    <tr>\n      <th>23</th>\n      <td>헝가리</td>\n      <td>5.1</td>\n      <td>4.6</td>\n      <td>4.1</td>\n      <td>4.0</td>\n      <td>3.5</td>\n      <td>3.2</td>\n      <td>3.6</td>\n      <td>3.4</td>\n      <td>3.4</td>\n      <td>3.3</td>\n      <td>3.0</td>\n    </tr>\n    <tr>\n      <th>24</th>\n      <td>아이슬란드</td>\n      <td>2.5</td>\n      <td>2.0</td>\n      <td>2.0</td>\n      <td>1.2</td>\n      <td>2.7</td>\n      <td>1.7</td>\n      <td>1.3</td>\n      <td>1.2</td>\n      <td>1.0</td>\n      <td>1.4</td>\n      <td>1.4</td>\n    </tr>\n    <tr>\n      <th>25</th>\n      <td>아일랜드</td>\n      <td>3.6</td>\n      <td>3.4</td>\n      <td>3.5</td>\n      <td>3.1</td>\n      <td>2.8</td>\n      <td>2.7</td>\n      <td>2.6</td>\n      <td>2.6</td>\n      <td>2.5</td>\n      <td>2.5</td>\n      <td>2.4</td>\n    </tr>\n    <tr>\n      <th>26</th>\n      <td>이탈리아</td>\n      <td>2.9</td>\n      <td>2.8</td>\n      <td>2.9</td>\n      <td>2.8</td>\n      <td>2.9</td>\n      <td>2.8</td>\n      <td>2.4</td>\n      <td>2.3</td>\n      <td>2.3</td>\n      <td>2.1</td>\n      <td>2.1</td>\n    </tr>\n    <tr>\n      <th>27</th>\n      <td>라트비아</td>\n      <td>4.1</td>\n      <td>3.7</td>\n      <td>4.0</td>\n      <td>3.7</td>\n      <td>3.7</td>\n      <td>2.9</td>\n      <td>3.2</td>\n      <td>3.2</td>\n      <td>3.1</td>\n      <td>2.8</td>\n      <td>2.8</td>\n    </tr>\n    <tr>\n      <th>28</th>\n      <td>리투아니아</td>\n      <td>3.6</td>\n      <td>4.0</td>\n      <td>4.0</td>\n      <td>4.1</td>\n      <td>2.8</td>\n      <td>3.2</td>\n      <td>3.2</td>\n      <td>2.7</td>\n      <td>3.0</td>\n      <td>2.8</td>\n      <td>2.6</td>\n    </tr>\n    <tr>\n      <th>29</th>\n      <td>룩셈부르크</td>\n      <td>4.4</td>\n      <td>3.1</td>\n      <td>2.5</td>\n      <td>3.8</td>\n      <td>3.1</td>\n      <td>4.1</td>\n      <td>4.4</td>\n      <td>4.4</td>\n      <td>4.5</td>\n      <td>3.1</td>\n      <td>3.0</td>\n    </tr>\n    <tr>\n      <th>30</th>\n      <td>네덜란드</td>\n      <td>3.7</td>\n      <td>3.6</td>\n      <td>3.2</td>\n      <td>3.5</td>\n      <td>3.5</td>\n      <td>3.4</td>\n      <td>3.6</td>\n      <td>3.6</td>\n      <td>3.5</td>\n      <td>3.0</td>\n      <td>2.9</td>\n    </tr>\n    <tr>\n      <th>31</th>\n      <td>노르웨이</td>\n      <td>2.4</td>\n      <td>2.4</td>\n      <td>2.3</td>\n      <td>2.1</td>\n      <td>2.2</td>\n      <td>2.3</td>\n      <td>2.1</td>\n      <td>1.7</td>\n      <td>2.0</td>\n      <td>1.9</td>\n      <td>1.8</td>\n    </tr>\n    <tr>\n      <th>32</th>\n      <td>폴란드</td>\n      <td>4.6</td>\n      <td>4.3</td>\n      <td>4.0</td>\n      <td>4.1</td>\n      <td>4.1</td>\n      <td>3.8</td>\n      <td>3.8</td>\n      <td>3.6</td>\n      <td>3.5</td>\n      <td>3.4</td>\n      <td>3.3</td>\n    </tr>\n    <tr>\n      <th>33</th>\n      <td>포르투갈</td>\n      <td>2.8</td>\n      <td>2.9</td>\n      <td>3.0</td>\n      <td>3.2</td>\n      <td>2.6</td>\n      <td>3.3</td>\n      <td>2.8</td>\n      <td>2.4</td>\n      <td>2.7</td>\n      <td>2.4</td>\n      <td>2.3</td>\n    </tr>\n    <tr>\n      <th>34</th>\n      <td>슬로바키아</td>\n      <td>5.4</td>\n      <td>5.7</td>\n      <td>5.1</td>\n      <td>5.4</td>\n      <td>4.5</td>\n      <td>4.9</td>\n      <td>5.0</td>\n      <td>4.9</td>\n      <td>4.8</td>\n      <td>4.7</td>\n      <td>4.0</td>\n    </tr>\n    <tr>\n      <th>35</th>\n      <td>슬로베니아</td>\n      <td>2.6</td>\n      <td>1.8</td>\n      <td>1.7</td>\n      <td>2.0</td>\n      <td>1.9</td>\n      <td>1.7</td>\n      <td>2.1</td>\n      <td>2.0</td>\n      <td>1.9</td>\n      <td>1.4</td>\n      <td>1.4</td>\n    </tr>\n    <tr>\n      <th>36</th>\n      <td>스페인</td>\n      <td>2.6</td>\n      <td>2.8</td>\n      <td>2.6</td>\n      <td>2.6</td>\n      <td>2.7</td>\n      <td>2.6</td>\n      <td>2.6</td>\n      <td>2.5</td>\n      <td>2.5</td>\n      <td>2.2</td>\n      <td>2.1</td>\n    </tr>\n    <tr>\n      <th>37</th>\n      <td>스웨덴</td>\n      <td>2.7</td>\n      <td>2.2</td>\n      <td>2.4</td>\n      <td>2.5</td>\n      <td>2.4</td>\n      <td>2.0</td>\n      <td>2.0</td>\n      <td>2.3</td>\n      <td>1.9</td>\n      <td>1.8</td>\n      <td>1.8</td>\n    </tr>\n    <tr>\n      <th>38</th>\n      <td>스위스</td>\n      <td>4.0</td>\n      <td>4.1</td>\n      <td>4.0</td>\n      <td>3.6</td>\n      <td>3.6</td>\n      <td>3.3</td>\n      <td>3.3</td>\n      <td>3.7</td>\n      <td>3.2</td>\n      <td>3.1</td>\n      <td>3.0</td>\n    </tr>\n    <tr>\n      <th>39</th>\n      <td>영국</td>\n      <td>3.8</td>\n      <td>3.8</td>\n      <td>3.9</td>\n      <td>3.8</td>\n      <td>3.9</td>\n      <td>3.8</td>\n      <td>3.8</td>\n      <td>3.7</td>\n      <td>3.6</td>\n      <td>3.2</td>\n      <td>3.1</td>\n    </tr>\n  </tbody>\n</table>\n</div>"
     },
     "execution_count": 63,
     "metadata": {},
     "output_type": "execute_result"
    }
   ],
   "source": [
    "europe"
   ],
   "metadata": {
    "collapsed": false,
    "ExecuteTime": {
     "end_time": "2024-02-05T14:40:35.594527500Z",
     "start_time": "2024-02-05T14:40:35.466904900Z"
    }
   },
   "id": "d5ce40e04afa32e7",
   "execution_count": 63
  },
  {
   "cell_type": "code",
   "outputs": [
    {
     "data": {
      "text/plain": "        국가별  2013  2014  2015  2016  2017  2018  2019  2020  2021  2022  2023\n41  오스트레일리아   3.6   3.4   3.1   3.0   3.3   3.1   3.0   2.9   2.9   2.8   2.7\n42     뉴질랜드   4.3   4.7   4.5   3.9   3.6   4.0   3.8   3.8   4.0   3.5   3.4",
      "text/html": "<div>\n<style scoped>\n    .dataframe tbody tr th:only-of-type {\n        vertical-align: middle;\n    }\n\n    .dataframe tbody tr th {\n        vertical-align: top;\n    }\n\n    .dataframe thead th {\n        text-align: right;\n    }\n</style>\n<table border=\"1\" class=\"dataframe\">\n  <thead>\n    <tr style=\"text-align: right;\">\n      <th></th>\n      <th>국가별</th>\n      <th>2013</th>\n      <th>2014</th>\n      <th>2015</th>\n      <th>2016</th>\n      <th>2017</th>\n      <th>2018</th>\n      <th>2019</th>\n      <th>2020</th>\n      <th>2021</th>\n      <th>2022</th>\n      <th>2023</th>\n    </tr>\n  </thead>\n  <tbody>\n    <tr>\n      <th>41</th>\n      <td>오스트레일리아</td>\n      <td>3.6</td>\n      <td>3.4</td>\n      <td>3.1</td>\n      <td>3.0</td>\n      <td>3.3</td>\n      <td>3.1</td>\n      <td>3.0</td>\n      <td>2.9</td>\n      <td>2.9</td>\n      <td>2.8</td>\n      <td>2.7</td>\n    </tr>\n    <tr>\n      <th>42</th>\n      <td>뉴질랜드</td>\n      <td>4.3</td>\n      <td>4.7</td>\n      <td>4.5</td>\n      <td>3.9</td>\n      <td>3.6</td>\n      <td>4.0</td>\n      <td>3.8</td>\n      <td>3.8</td>\n      <td>4.0</td>\n      <td>3.5</td>\n      <td>3.4</td>\n    </tr>\n  </tbody>\n</table>\n</div>"
     },
     "execution_count": 64,
     "metadata": {},
     "output_type": "execute_result"
    }
   ],
   "source": [
    "oceania"
   ],
   "metadata": {
    "collapsed": false,
    "ExecuteTime": {
     "end_time": "2024-02-05T14:40:35.673759400Z",
     "start_time": "2024-02-05T14:40:35.554353800Z"
    }
   },
   "id": "785e74933bc04be5",
   "execution_count": 64
  },
  {
   "cell_type": "code",
   "outputs": [
    {
     "data": {
      "text/plain": "국가별     대한민국\n2013     3.1\n2014     3.0\n2015     2.9\n2016     2.8\n2017     2.7\n2018     2.7\n2019     2.6\n2020     2.5\n2021     2.4\n2022     2.3\n2023     2.2\nName: 1, dtype: object"
     },
     "execution_count": 65,
     "metadata": {},
     "output_type": "execute_result"
    }
   ],
   "source": [
    "korea"
   ],
   "metadata": {
    "collapsed": false,
    "ExecuteTime": {
     "end_time": "2024-02-05T14:40:35.733624900Z",
     "start_time": "2024-02-05T14:40:35.633656700Z"
    }
   },
   "id": "7da9c94f7c3f5835",
   "execution_count": 65
  },
  {
   "cell_type": "code",
   "outputs": [
    {
     "name": "stdout",
     "output_type": "stream",
     "text": [
      "<class 'pandas.core.series.Series'>\n",
      "Index: 12 entries, 국가별 to 2023\n",
      "Series name: 1\n",
      "Non-Null Count  Dtype \n",
      "--------------  ----- \n",
      "12 non-null     object\n",
      "dtypes: object(1)\n",
      "memory usage: 492.0+ bytes\n"
     ]
    }
   ],
   "source": [
    "korea.info()"
   ],
   "metadata": {
    "collapsed": false,
    "ExecuteTime": {
     "end_time": "2024-02-05T14:40:35.800198700Z",
     "start_time": "2024-02-05T14:40:35.714774Z"
    }
   },
   "id": "149457e93de784a9",
   "execution_count": 66
  },
  {
   "cell_type": "code",
   "outputs": [
    {
     "name": "stdout",
     "output_type": "stream",
     "text": [
      "[3.1, 3.0, 2.9, 2.8, 2.7, 2.7, 2.6, 2.5, 2.4]\n"
     ]
    }
   ],
   "source": [
    "y_list = []\n",
    "for i in range(1,10):\n",
    "    y_list.append(korea[i])\n",
    "print(y_list)"
   ],
   "metadata": {
    "collapsed": false,
    "ExecuteTime": {
     "end_time": "2024-02-05T14:40:35.882909700Z",
     "start_time": "2024-02-05T14:40:35.803319200Z"
    }
   },
   "id": "e284c494c568ffb9",
   "execution_count": 67
  },
  {
   "cell_type": "code",
   "outputs": [
    {
     "ename": "AttributeError",
     "evalue": "'Series' object has no attribute 'show'",
     "output_type": "error",
     "traceback": [
      "\u001B[1;31m---------------------------------------------------------------------------\u001B[0m",
      "\u001B[1;31mAttributeError\u001B[0m                            Traceback (most recent call last)",
      "Cell \u001B[1;32mIn[68], line 5\u001B[0m\n\u001B[0;32m      3\u001B[0m plt\u001B[38;5;241m.\u001B[39mylim(\u001B[38;5;241m0\u001B[39m, \u001B[38;5;241m5\u001B[39m)\n\u001B[0;32m      4\u001B[0m plt\u001B[38;5;241m.\u001B[39mtitle(\u001B[38;5;124m'\u001B[39m\u001B[38;5;124m한국의 영아사망률\u001B[39m\u001B[38;5;124m'\u001B[39m, fontsize \u001B[38;5;241m=\u001B[39m \u001B[38;5;124m'\u001B[39m\u001B[38;5;124mlarge\u001B[39m\u001B[38;5;124m'\u001B[39m)\n\u001B[1;32m----> 5\u001B[0m korea\u001B[38;5;241m.\u001B[39mshow()\n",
      "File \u001B[1;32mC:\\ProgramData\\anaconda3\\Lib\\site-packages\\pandas\\core\\generic.py:5989\u001B[0m, in \u001B[0;36mNDFrame.__getattr__\u001B[1;34m(self, name)\u001B[0m\n\u001B[0;32m   5982\u001B[0m \u001B[38;5;28;01mif\u001B[39;00m (\n\u001B[0;32m   5983\u001B[0m     name \u001B[38;5;129;01mnot\u001B[39;00m \u001B[38;5;129;01min\u001B[39;00m \u001B[38;5;28mself\u001B[39m\u001B[38;5;241m.\u001B[39m_internal_names_set\n\u001B[0;32m   5984\u001B[0m     \u001B[38;5;129;01mand\u001B[39;00m name \u001B[38;5;129;01mnot\u001B[39;00m \u001B[38;5;129;01min\u001B[39;00m \u001B[38;5;28mself\u001B[39m\u001B[38;5;241m.\u001B[39m_metadata\n\u001B[0;32m   5985\u001B[0m     \u001B[38;5;129;01mand\u001B[39;00m name \u001B[38;5;129;01mnot\u001B[39;00m \u001B[38;5;129;01min\u001B[39;00m \u001B[38;5;28mself\u001B[39m\u001B[38;5;241m.\u001B[39m_accessors\n\u001B[0;32m   5986\u001B[0m     \u001B[38;5;129;01mand\u001B[39;00m \u001B[38;5;28mself\u001B[39m\u001B[38;5;241m.\u001B[39m_info_axis\u001B[38;5;241m.\u001B[39m_can_hold_identifiers_and_holds_name(name)\n\u001B[0;32m   5987\u001B[0m ):\n\u001B[0;32m   5988\u001B[0m     \u001B[38;5;28;01mreturn\u001B[39;00m \u001B[38;5;28mself\u001B[39m[name]\n\u001B[1;32m-> 5989\u001B[0m \u001B[38;5;28;01mreturn\u001B[39;00m \u001B[38;5;28mobject\u001B[39m\u001B[38;5;241m.\u001B[39m\u001B[38;5;21m__getattribute__\u001B[39m(\u001B[38;5;28mself\u001B[39m, name)\n",
      "\u001B[1;31mAttributeError\u001B[0m: 'Series' object has no attribute 'show'"
     ]
    },
    {
     "data": {
      "text/plain": "<Figure size 640x480 with 1 Axes>",
      "image/png": "[encoded data removed]"
     },
     "metadata": {},
     "output_type": "display_data"
    }
   ],
   "source": [
    "#plt.figure(figsize = (20,10))\n",
    "plt.bar(range(2013,2022), y_list)\n",
    "plt.ylim(0, 5)\n",
    "plt.title('한국의 영아사망률', fontsize = 'large')\n",
    "korea.show()"
   ],
   "metadata": {
    "collapsed": false,
    "ExecuteTime": {
     "end_time": "2024-02-05T14:40:36.044556600Z",
     "start_time": "2024-02-05T14:40:35.885899800Z"
    }
   },
   "id": "7cf980fd998b06da",
   "execution_count": 68
  },
  {
   "cell_type": "code",
   "outputs": [],
   "source": [],
   "metadata": {
    "collapsed": false,
    "ExecuteTime": {
     "start_time": "2024-02-05T14:40:36.043554100Z"
    }
   },
   "id": "429a924916719acc"
  }
 ],
 "metadata": {
  "kernelspec": {
   "display_name": "Python 3",
   "language": "python",
   "name": "python3"
  },
  "language_info": {
   "codemirror_mode": {
    "name": "ipython",
    "version": 2
   },
   "file_extension": ".py",
   "mimetype": "text/x-python",
   "name": "python",
   "nbconvert_exporter": "python",
   "pygments_lexer": "ipython2",
   "version": "2.7.6"
  }
 },
 "nbformat": 4,
 "nbformat_minor": 5
}
