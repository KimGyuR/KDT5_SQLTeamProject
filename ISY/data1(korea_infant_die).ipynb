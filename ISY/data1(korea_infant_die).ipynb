{
 "cells": [
  {
   "cell_type": "code",
   "execution_count": 84,
   "id": "initial_id",
   "metadata": {
    "collapsed": true,
    "ExecuteTime": {
     "end_time": "2024-02-06T01:13:10.258349600Z",
     "start_time": "2024-02-06T01:13:10.249981800Z"
    }
   },
   "outputs": [
    {
     "data": {
      "text/plain": "      시점  대한민국\n0   2013   3.1\n1   2014   3.0\n2   2015   2.9\n3   2016   2.8\n4   2017   2.7\n5   2018   2.7\n6   2019   2.6\n7   2020   2.5\n8   2021   2.4\n9   2022   2.3\n10  2023   2.2",
      "text/html": "<div>\n<style scoped>\n    .dataframe tbody tr th:only-of-type {\n        vertical-align: middle;\n    }\n\n    .dataframe tbody tr th {\n        vertical-align: top;\n    }\n\n    .dataframe thead th {\n        text-align: right;\n    }\n</style>\n<table border=\"1\" class=\"dataframe\">\n  <thead>\n    <tr style=\"text-align: right;\">\n      <th></th>\n      <th>시점</th>\n      <th>대한민국</th>\n    </tr>\n  </thead>\n  <tbody>\n    <tr>\n      <th>0</th>\n      <td>2013</td>\n      <td>3.1</td>\n    </tr>\n    <tr>\n      <th>1</th>\n      <td>2014</td>\n      <td>3.0</td>\n    </tr>\n    <tr>\n      <th>2</th>\n      <td>2015</td>\n      <td>2.9</td>\n    </tr>\n    <tr>\n      <th>3</th>\n      <td>2016</td>\n      <td>2.8</td>\n    </tr>\n    <tr>\n      <th>4</th>\n      <td>2017</td>\n      <td>2.7</td>\n    </tr>\n    <tr>\n      <th>5</th>\n      <td>2018</td>\n      <td>2.7</td>\n    </tr>\n    <tr>\n      <th>6</th>\n      <td>2019</td>\n      <td>2.6</td>\n    </tr>\n    <tr>\n      <th>7</th>\n      <td>2020</td>\n      <td>2.5</td>\n    </tr>\n    <tr>\n      <th>8</th>\n      <td>2021</td>\n      <td>2.4</td>\n    </tr>\n    <tr>\n      <th>9</th>\n      <td>2022</td>\n      <td>2.3</td>\n    </tr>\n    <tr>\n      <th>10</th>\n      <td>2023</td>\n      <td>2.2</td>\n    </tr>\n  </tbody>\n</table>\n</div>"
     },
     "execution_count": 84,
     "metadata": {},
     "output_type": "execute_result"
    }
   ],
   "source": [
    "import pandas as pd\n",
    "import matplotlib.pyplot as plt\n",
    "import koreanize_matplotlib\n",
    "\n",
    "file = '영아사망률_korea.csv'\n",
    "data = pd.read_csv(file)\n",
    "data"
   ]
  },
  {
   "cell_type": "code",
   "outputs": [
    {
     "data": {
      "text/plain": "     시점  대한민국\n0  2013   3.1\n1  2014   3.0\n2  2015   2.9\n3  2016   2.8\n4  2017   2.7\n5  2018   2.7\n6  2019   2.6\n7  2020   2.5\n8  2021   2.4",
      "text/html": "<div>\n<style scoped>\n    .dataframe tbody tr th:only-of-type {\n        vertical-align: middle;\n    }\n\n    .dataframe tbody tr th {\n        vertical-align: top;\n    }\n\n    .dataframe thead th {\n        text-align: right;\n    }\n</style>\n<table border=\"1\" class=\"dataframe\">\n  <thead>\n    <tr style=\"text-align: right;\">\n      <th></th>\n      <th>시점</th>\n      <th>대한민국</th>\n    </tr>\n  </thead>\n  <tbody>\n    <tr>\n      <th>0</th>\n      <td>2013</td>\n      <td>3.1</td>\n    </tr>\n    <tr>\n      <th>1</th>\n      <td>2014</td>\n      <td>3.0</td>\n    </tr>\n    <tr>\n      <th>2</th>\n      <td>2015</td>\n      <td>2.9</td>\n    </tr>\n    <tr>\n      <th>3</th>\n      <td>2016</td>\n      <td>2.8</td>\n    </tr>\n    <tr>\n      <th>4</th>\n      <td>2017</td>\n      <td>2.7</td>\n    </tr>\n    <tr>\n      <th>5</th>\n      <td>2018</td>\n      <td>2.7</td>\n    </tr>\n    <tr>\n      <th>6</th>\n      <td>2019</td>\n      <td>2.6</td>\n    </tr>\n    <tr>\n      <th>7</th>\n      <td>2020</td>\n      <td>2.5</td>\n    </tr>\n    <tr>\n      <th>8</th>\n      <td>2021</td>\n      <td>2.4</td>\n    </tr>\n  </tbody>\n</table>\n</div>"
     },
     "execution_count": 95,
     "metadata": {},
     "output_type": "execute_result"
    }
   ],
   "source": [
    "data = data.iloc[:9]\n",
    "data"
   ],
   "metadata": {
    "collapsed": false,
    "ExecuteTime": {
     "end_time": "2024-02-06T02:39:55.495688700Z",
     "start_time": "2024-02-06T02:39:55.483366100Z"
    }
   },
   "id": "af3d546397e7f10d",
   "execution_count": 95
  },
  {
   "cell_type": "code",
   "outputs": [],
   "source": [
    "data.to_csv('ISY_table1_korea_infant_die.csv')"
   ],
   "metadata": {
    "collapsed": false,
    "ExecuteTime": {
     "end_time": "2024-02-06T02:41:09.873021100Z",
     "start_time": "2024-02-06T02:41:09.867658600Z"
    }
   },
   "id": "9b9880ca8d8f9a4d",
   "execution_count": 98
  },
  {
   "cell_type": "code",
   "outputs": [
    {
     "data": {
      "text/plain": "(11, 2)"
     },
     "execution_count": 86,
     "metadata": {},
     "output_type": "execute_result"
    }
   ],
   "source": [
    "data.shape"
   ],
   "metadata": {
    "collapsed": false,
    "ExecuteTime": {
     "end_time": "2024-02-06T01:13:10.304744700Z",
     "start_time": "2024-02-06T01:13:10.266048200Z"
    }
   },
   "id": "644aaa3ced85978a",
   "execution_count": 86
  },
  {
   "cell_type": "code",
   "outputs": [
    {
     "data": {
      "text/plain": "[3.1, 3.0, 2.9, 2.8, 2.7, 2.7, 2.6, 2.5, 2.4]"
     },
     "execution_count": 97,
     "metadata": {},
     "output_type": "execute_result"
    }
   ],
   "source": [
    "y_list = []\n",
    "\n",
    "for i in range(9):\n",
    "    y_list.append(data.iloc[i][1])\n",
    "    #print(data.iloc[i][1])\n",
    "    \n",
    "y_list"
   ],
   "metadata": {
    "collapsed": false,
    "ExecuteTime": {
     "end_time": "2024-02-06T02:40:19.994226200Z",
     "start_time": "2024-02-06T02:40:19.984790Z"
    }
   },
   "id": "3a2bf7f8001f7de8",
   "execution_count": 97
  },
  {
   "cell_type": "code",
   "outputs": [
    {
     "name": "stdout",
     "output_type": "stream",
     "text": [
      "[2013, 2014, 2015, 2016, 2017, 2018, 2019, 2020, 2021]\n"
     ]
    }
   ],
   "source": [
    "year_list = list(range(2013, 2022))\n",
    "print(year_list)"
   ],
   "metadata": {
    "collapsed": false,
    "ExecuteTime": {
     "end_time": "2024-02-06T02:38:04.450127600Z",
     "start_time": "2024-02-06T02:38:04.440141100Z"
    }
   },
   "id": "809f9df6d8f88b1e",
   "execution_count": 91
  },
  {
   "cell_type": "code",
   "outputs": [
    {
     "data": {
      "text/plain": "<Figure size 640x480 with 1 Axes>",
      "image/png": "[encoded data removed]"
     },
     "metadata": {},
     "output_type": "display_data"
    }
   ],
   "source": [
    "plt.bar(year_list, y_list, color = 'green')\n",
    "plt.title('한국의 영아사망률', fontsize = 'large')\n",
    "plt.grid(True, lw = 2, ls = '--', c= '0.5')\n",
    "plt.ylim(0,4)\n",
    "plt.show()"
   ],
   "metadata": {
    "collapsed": false,
    "ExecuteTime": {
     "end_time": "2024-02-06T02:38:06.082899200Z",
     "start_time": "2024-02-06T02:38:05.978259500Z"
    }
   },
   "id": "57718692c23713d9",
   "execution_count": 92
  },
  {
   "cell_type": "markdown",
   "source": [],
   "metadata": {
    "collapsed": false
   },
   "id": "f4eea911e2ef0a0"
  }
 ],
 "metadata": {
  "kernelspec": {
   "display_name": "Python 3",
   "language": "python",
   "name": "python3"
  },
  "language_info": {
   "codemirror_mode": {
    "name": "ipython",
    "version": 2
   },
   "file_extension": ".py",
   "mimetype": "text/x-python",
   "name": "python",
   "nbconvert_exporter": "python",
   "pygments_lexer": "ipython2",
   "version": "2.7.6"
  }
 },
 "nbformat": 4,
 "nbformat_minor": 5
}
