{
 "cells": [
  {
   "cell_type": "code",
   "execution_count": 101,
   "id": "initial_id",
   "metadata": {
    "collapsed": true,
    "ExecuteTime": {
     "end_time": "2024-02-05T14:39:49.310456800Z",
     "start_time": "2024-02-05T14:39:49.301784400Z"
    }
   },
   "outputs": [],
   "source": [
    "# data2 = '영아건강 및 저체중'\n",
    "\n",
    "import pandas as pd\n",
    "import matplotlib.pyplot as plt\n",
    "import koreanize_matplotlib"
   ]
  },
  {
   "cell_type": "code",
   "outputs": [
    {
     "data": {
      "text/plain": "     항목    시점  　저체중아(출생아에 대한 비율)\n0  대한민국  2013                5.5\n1  대한민국  2014                5.7\n2  대한민국  2015                5.7\n3  대한민국  2016                5.9\n4  대한민국  2017                6.2\n5  대한민국  2018                6.2\n6  대한민국  2019                6.6\n7  대한민국  2020                6.8\n8  대한민국  2021                7.2",
      "text/html": "<div>\n<style scoped>\n    .dataframe tbody tr th:only-of-type {\n        vertical-align: middle;\n    }\n\n    .dataframe tbody tr th {\n        vertical-align: top;\n    }\n\n    .dataframe thead th {\n        text-align: right;\n    }\n</style>\n<table border=\"1\" class=\"dataframe\">\n  <thead>\n    <tr style=\"text-align: right;\">\n      <th></th>\n      <th>항목</th>\n      <th>시점</th>\n      <th>저체중아(출생아에 대한 비율)</th>\n    </tr>\n  </thead>\n  <tbody>\n    <tr>\n      <th>0</th>\n      <td>대한민국</td>\n      <td>2013</td>\n      <td>5.5</td>\n    </tr>\n    <tr>\n      <th>1</th>\n      <td>대한민국</td>\n      <td>2014</td>\n      <td>5.7</td>\n    </tr>\n    <tr>\n      <th>2</th>\n      <td>대한민국</td>\n      <td>2015</td>\n      <td>5.7</td>\n    </tr>\n    <tr>\n      <th>3</th>\n      <td>대한민국</td>\n      <td>2016</td>\n      <td>5.9</td>\n    </tr>\n    <tr>\n      <th>4</th>\n      <td>대한민국</td>\n      <td>2017</td>\n      <td>6.2</td>\n    </tr>\n    <tr>\n      <th>5</th>\n      <td>대한민국</td>\n      <td>2018</td>\n      <td>6.2</td>\n    </tr>\n    <tr>\n      <th>6</th>\n      <td>대한민국</td>\n      <td>2019</td>\n      <td>6.6</td>\n    </tr>\n    <tr>\n      <th>7</th>\n      <td>대한민국</td>\n      <td>2020</td>\n      <td>6.8</td>\n    </tr>\n    <tr>\n      <th>8</th>\n      <td>대한민국</td>\n      <td>2021</td>\n      <td>7.2</td>\n    </tr>\n  </tbody>\n</table>\n</div>"
     },
     "execution_count": 102,
     "metadata": {},
     "output_type": "execute_result"
    }
   ],
   "source": [
    "file = '영아건강_저체중_new.csv'\n",
    "datas = pd.read_csv(file)\n",
    "datas"
   ],
   "metadata": {
    "collapsed": false,
    "ExecuteTime": {
     "end_time": "2024-02-05T14:39:49.339933600Z",
     "start_time": "2024-02-05T14:39:49.306364100Z"
    }
   },
   "id": "8645d2065cfe5380",
   "execution_count": 102
  },
  {
   "cell_type": "code",
   "outputs": [
    {
     "data": {
      "text/plain": "     시점  　저체중아(출생아에 대한 비율)\n0  2013                5.5\n1  2014                5.7\n2  2015                5.7\n3  2016                5.9\n4  2017                6.2\n5  2018                6.2\n6  2019                6.6\n7  2020                6.8\n8  2021                7.2",
      "text/html": "<div>\n<style scoped>\n    .dataframe tbody tr th:only-of-type {\n        vertical-align: middle;\n    }\n\n    .dataframe tbody tr th {\n        vertical-align: top;\n    }\n\n    .dataframe thead th {\n        text-align: right;\n    }\n</style>\n<table border=\"1\" class=\"dataframe\">\n  <thead>\n    <tr style=\"text-align: right;\">\n      <th></th>\n      <th>시점</th>\n      <th>저체중아(출생아에 대한 비율)</th>\n    </tr>\n  </thead>\n  <tbody>\n    <tr>\n      <th>0</th>\n      <td>2013</td>\n      <td>5.5</td>\n    </tr>\n    <tr>\n      <th>1</th>\n      <td>2014</td>\n      <td>5.7</td>\n    </tr>\n    <tr>\n      <th>2</th>\n      <td>2015</td>\n      <td>5.7</td>\n    </tr>\n    <tr>\n      <th>3</th>\n      <td>2016</td>\n      <td>5.9</td>\n    </tr>\n    <tr>\n      <th>4</th>\n      <td>2017</td>\n      <td>6.2</td>\n    </tr>\n    <tr>\n      <th>5</th>\n      <td>2018</td>\n      <td>6.2</td>\n    </tr>\n    <tr>\n      <th>6</th>\n      <td>2019</td>\n      <td>6.6</td>\n    </tr>\n    <tr>\n      <th>7</th>\n      <td>2020</td>\n      <td>6.8</td>\n    </tr>\n    <tr>\n      <th>8</th>\n      <td>2021</td>\n      <td>7.2</td>\n    </tr>\n  </tbody>\n</table>\n</div>"
     },
     "execution_count": 103,
     "metadata": {},
     "output_type": "execute_result"
    }
   ],
   "source": [
    "korea_data = pd.read_csv(file, usecols = [1,2])\n",
    "korea_data"
   ],
   "metadata": {
    "collapsed": false,
    "ExecuteTime": {
     "end_time": "2024-02-05T14:39:49.339933600Z",
     "start_time": "2024-02-05T14:39:49.320648200Z"
    }
   },
   "id": "942df664403b7ef8",
   "execution_count": 103
  },
  {
   "cell_type": "code",
   "outputs": [],
   "source": [
    "korea_data.to_csv('ISY_table2_infant_low_weight.csv')"
   ],
   "metadata": {
    "collapsed": false,
    "ExecuteTime": {
     "end_time": "2024-02-05T14:39:49.341262200Z",
     "start_time": "2024-02-05T14:39:49.332772700Z"
    }
   },
   "id": "b37d871c514c268e",
   "execution_count": 104
  },
  {
   "cell_type": "code",
   "outputs": [
    {
     "data": {
      "text/plain": "Index(['시점', '　저체중아(출생아에 대한 비율)'], dtype='object')"
     },
     "execution_count": 105,
     "metadata": {},
     "output_type": "execute_result"
    }
   ],
   "source": [
    "korea_data.columns"
   ],
   "metadata": {
    "collapsed": false,
    "ExecuteTime": {
     "end_time": "2024-02-05T14:39:49.341262200Z",
     "start_time": "2024-02-05T14:39:49.336269800Z"
    }
   },
   "id": "3a0e05ff0f4fbae",
   "execution_count": 105
  },
  {
   "cell_type": "code",
   "outputs": [
    {
     "data": {
      "text/plain": "(9, 2)"
     },
     "execution_count": 106,
     "metadata": {},
     "output_type": "execute_result"
    }
   ],
   "source": [
    "korea_data.shape"
   ],
   "metadata": {
    "collapsed": false,
    "ExecuteTime": {
     "end_time": "2024-02-05T14:39:49.371354300Z",
     "start_time": "2024-02-05T14:39:49.343679300Z"
    }
   },
   "id": "d71180b4072c86fb",
   "execution_count": 106
  },
  {
   "cell_type": "code",
   "outputs": [
    {
     "name": "stdout",
     "output_type": "stream",
     "text": [
      "[5.5, 5.7, 5.7, 5.9, 6.2, 6.2, 6.6, 6.8, 7.2]\n"
     ]
    }
   ],
   "source": [
    "y_list = []\n",
    "\n",
    "for i in range(korea_data.shape[0]):\n",
    "    y_list.append(korea_data.iloc[i][1])\n",
    "\n",
    "print(y_list)"
   ],
   "metadata": {
    "collapsed": false,
    "ExecuteTime": {
     "end_time": "2024-02-05T14:39:49.421670500Z",
     "start_time": "2024-02-05T14:39:49.350436600Z"
    }
   },
   "id": "c554b8e5f73e38e0",
   "execution_count": 107
  },
  {
   "cell_type": "code",
   "outputs": [
    {
     "ename": "AttributeError",
     "evalue": "'DataFrame' object has no attribute 'show'",
     "output_type": "error",
     "traceback": [
      "\u001B[1;31m---------------------------------------------------------------------------\u001B[0m",
      "\u001B[1;31mAttributeError\u001B[0m                            Traceback (most recent call last)",
      "Cell \u001B[1;32mIn[116], line 6\u001B[0m\n\u001B[0;32m      4\u001B[0m plt\u001B[38;5;241m.\u001B[39mtitle(\u001B[38;5;124m'\u001B[39m\u001B[38;5;124m한국의 저체중아(출생아에 대한 비율)\u001B[39m\u001B[38;5;124m'\u001B[39m, fontsize \u001B[38;5;241m=\u001B[39m \u001B[38;5;124m'\u001B[39m\u001B[38;5;124mlarge\u001B[39m\u001B[38;5;124m'\u001B[39m)\n\u001B[0;32m      5\u001B[0m plt\u001B[38;5;241m.\u001B[39mgrid(\u001B[38;5;28;01mTrue\u001B[39;00m, lw \u001B[38;5;241m=\u001B[39m \u001B[38;5;241m2\u001B[39m, ls \u001B[38;5;241m=\u001B[39m \u001B[38;5;124m'\u001B[39m\u001B[38;5;124m--\u001B[39m\u001B[38;5;124m'\u001B[39m, c\u001B[38;5;241m=\u001B[39m \u001B[38;5;124m'\u001B[39m\u001B[38;5;124m0.5\u001B[39m\u001B[38;5;124m'\u001B[39m)\n\u001B[1;32m----> 6\u001B[0m korea_data\u001B[38;5;241m.\u001B[39mshow()\n",
      "File \u001B[1;32mC:\\ProgramData\\anaconda3\\Lib\\site-packages\\pandas\\core\\generic.py:5989\u001B[0m, in \u001B[0;36mNDFrame.__getattr__\u001B[1;34m(self, name)\u001B[0m\n\u001B[0;32m   5982\u001B[0m \u001B[38;5;28;01mif\u001B[39;00m (\n\u001B[0;32m   5983\u001B[0m     name \u001B[38;5;129;01mnot\u001B[39;00m \u001B[38;5;129;01min\u001B[39;00m \u001B[38;5;28mself\u001B[39m\u001B[38;5;241m.\u001B[39m_internal_names_set\n\u001B[0;32m   5984\u001B[0m     \u001B[38;5;129;01mand\u001B[39;00m name \u001B[38;5;129;01mnot\u001B[39;00m \u001B[38;5;129;01min\u001B[39;00m \u001B[38;5;28mself\u001B[39m\u001B[38;5;241m.\u001B[39m_metadata\n\u001B[0;32m   5985\u001B[0m     \u001B[38;5;129;01mand\u001B[39;00m name \u001B[38;5;129;01mnot\u001B[39;00m \u001B[38;5;129;01min\u001B[39;00m \u001B[38;5;28mself\u001B[39m\u001B[38;5;241m.\u001B[39m_accessors\n\u001B[0;32m   5986\u001B[0m     \u001B[38;5;129;01mand\u001B[39;00m \u001B[38;5;28mself\u001B[39m\u001B[38;5;241m.\u001B[39m_info_axis\u001B[38;5;241m.\u001B[39m_can_hold_identifiers_and_holds_name(name)\n\u001B[0;32m   5987\u001B[0m ):\n\u001B[0;32m   5988\u001B[0m     \u001B[38;5;28;01mreturn\u001B[39;00m \u001B[38;5;28mself\u001B[39m[name]\n\u001B[1;32m-> 5989\u001B[0m \u001B[38;5;28;01mreturn\u001B[39;00m \u001B[38;5;28mobject\u001B[39m\u001B[38;5;241m.\u001B[39m\u001B[38;5;21m__getattribute__\u001B[39m(\u001B[38;5;28mself\u001B[39m, name)\n",
      "\u001B[1;31mAttributeError\u001B[0m: 'DataFrame' object has no attribute 'show'"
     ]
    },
    {
     "data": {
      "text/plain": "<Figure size 640x480 with 1 Axes>",
      "image/png": "[encoded data removed]"
     },
     "metadata": {},
     "output_type": "display_data"
    }
   ],
   "source": [
    "#plt.figure(figsize = (20,10))\n",
    "plt.bar(range(2013,2022), y_list)\n",
    "plt.ylim(0, 8)\n",
    "plt.title('한국의 저체중아(출생아에 대한 비율)', fontsize = 'large')\n",
    "plt.grid(True, lw = 2, ls = '--', c= '0.5')\n",
    "korea_data.show()"
   ],
   "metadata": {
    "collapsed": false,
    "ExecuteTime": {
     "end_time": "2024-02-06T01:01:55.900690100Z",
     "start_time": "2024-02-06T01:01:55.776913600Z"
    }
   },
   "id": "d29fed345239fa85",
   "execution_count": 116
  }
 ],
 "metadata": {
  "kernelspec": {
   "display_name": "Python 3",
   "language": "python",
   "name": "python3"
  },
  "language_info": {
   "codemirror_mode": {
    "name": "ipython",
    "version": 2
   },
   "file_extension": ".py",
   "mimetype": "text/x-python",
   "name": "python",
   "nbconvert_exporter": "python",
   "pygments_lexer": "ipython2",
   "version": "2.7.6"
  }
 },
 "nbformat": 4,
 "nbformat_minor": 5
}
